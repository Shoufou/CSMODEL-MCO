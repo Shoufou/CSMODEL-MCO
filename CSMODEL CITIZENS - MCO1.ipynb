{
 "cells": [
  {
   "cell_type": "markdown",
   "id": "2a4de9ec",
   "metadata": {},
   "source": [
    "## Dataset Description\n",
    "\n",
    "### Dataset Overview\n",
    "\n",
    "The dataset used for this research, \"Retail Store Sales - Dirty for Data Cleaning\", simulates a point-of-sale transaction in a retail store. Specifically, it was made for practicing data analysis and cleaning. Several weaknesses that are frequently present in real-world business datasets, including missing values, inconsistent formats, and potential duplication, are included in the data, which is constructed to reflect actual retail transactions. "
   ]
  },
  {
   "cell_type": "markdown",
   "id": "61f6a289",
   "metadata": {},
   "source": [
    "### Data Source and Collection"
   ]
  },
  {
   "cell_type": "markdown",
   "id": "81cfbf86",
   "metadata": {},
   "source": [
    "This dataset is publicly available on Kaggle, created by Ahmed Mohammed. It was formulated to represent the real world complex nature of transactional sales records observed in retail settings. For instructional and analytical reasons, the dataset is structured to mimic realistic scenarios, even if it is not based on the records of a real business."
   ]
  },
  {
   "cell_type": "markdown",
   "id": "0511d54d",
   "metadata": {},
   "source": [
    "### Potential Implications of Data Collection"
   ]
  },
  {
   "cell_type": "markdown",
   "id": "53b20765",
   "metadata": {},
   "source": [
    "The dataset is simulated, thus it is free of the sampling biases and privacy issues that are usually present in real-world data.  But before any substantial analysis can occur, its purposeful roughness motivates students to use the proper data cleaning techniques.  The difficulties this dataset poses are reflective of real data management issues that arise in real life, even if the insights it offers might not be directly applicable to actual businesses."
   ]
  },
  {
   "cell_type": "markdown",
   "id": "31e7c43a",
   "metadata": {},
   "source": [
    "### Structure of Data\n",
    "\n",
    "The dataset is presented in a tabular format, where: \n",
    "\n",
    "- Rows represents a unique sales transaction\n",
    "- Columns represents an important attribute of the transaction (e.g., item, quantity, payment method, etc.)\n",
    "- The dataset contains 12,575 observations."
   ]
  },
  {
   "cell_type": "markdown",
   "id": "c0dfd2c9",
   "metadata": {},
   "source": [
    "### Attribute Description\n",
    "\n",
    "- Transaction ID - A unique identifier for each transaction. \n",
    "- Customer ID - A unique identifier for each costumer. \n",
    "- Category - The category of the purchased item. \n",
    "- Item - The name of the purchased item. \n",
    "- Price Per Unit - The statistic price of a single unit of the item. \n",
    "- Quantity - The quantity of the item purchased. \n",
    "- Total Spent - The total amount spent on the transaction. \n",
    "- Payment Method - The method of payment used. \n",
    "- Location - The location where the transaction occured. \n",
    "- Transaction Date - The date of the transaction. \n",
    "- Discount Applied - Whether discount is applied or not. "
   ]
  },
  {
   "cell_type": "markdown",
   "id": "5b355b7b",
   "metadata": {},
   "source": [
    "## Data Cleaning"
   ]
  },
  {
   "cell_type": "markdown",
   "id": "5efea5c8",
   "metadata": {},
   "source": [
    "Before any Exploratory Data Analysis can be done to answer our research questions with the dataset, we have to clean the data first in case there are any issues that may result in problems with the analysis."
   ]
  },
  {
   "cell_type": "markdown",
   "id": "1538fcfd",
   "metadata": {},
   "source": [
    "### Importing, Loading and Reading the Dataset"
   ]
  },
  {
   "cell_type": "markdown",
   "id": "15b2f0e2",
   "metadata": {},
   "source": [
    "We begin by importing all the necessary libraries before starting the actual Data Cleaning process."
   ]
  },
  {
   "cell_type": "code",
   "execution_count": 181,
   "id": "8497d786",
   "metadata": {},
   "outputs": [],
   "source": [
    "import numpy as np\n",
    "import pandas as pd\n",
    "import matplotlib.pyplot as mpl\n",
    "from scipy import stats"
   ]
  },
  {
   "cell_type": "markdown",
   "id": "24154155",
   "metadata": {},
   "source": [
    "Next, we load the dataset and call the `.head()` function to view a snippet of the dataset's contents."
   ]
  },
  {
   "cell_type": "code",
   "execution_count": 182,
   "id": "b39137ef",
   "metadata": {},
   "outputs": [
    {
     "data": {
      "text/html": [
       "<div>\n",
       "<style scoped>\n",
       "    .dataframe tbody tr th:only-of-type {\n",
       "        vertical-align: middle;\n",
       "    }\n",
       "\n",
       "    .dataframe tbody tr th {\n",
       "        vertical-align: top;\n",
       "    }\n",
       "\n",
       "    .dataframe thead th {\n",
       "        text-align: right;\n",
       "    }\n",
       "</style>\n",
       "<table border=\"1\" class=\"dataframe\">\n",
       "  <thead>\n",
       "    <tr style=\"text-align: right;\">\n",
       "      <th></th>\n",
       "      <th>Transaction ID</th>\n",
       "      <th>Customer ID</th>\n",
       "      <th>Category</th>\n",
       "      <th>Item</th>\n",
       "      <th>Price Per Unit</th>\n",
       "      <th>Quantity</th>\n",
       "      <th>Total Spent</th>\n",
       "      <th>Payment Method</th>\n",
       "      <th>Location</th>\n",
       "      <th>Transaction Date</th>\n",
       "      <th>Discount Applied</th>\n",
       "    </tr>\n",
       "  </thead>\n",
       "  <tbody>\n",
       "    <tr>\n",
       "      <th>0</th>\n",
       "      <td>TXN_6867343</td>\n",
       "      <td>CUST_09</td>\n",
       "      <td>Patisserie</td>\n",
       "      <td>Item_10_PAT</td>\n",
       "      <td>18.5</td>\n",
       "      <td>10.0</td>\n",
       "      <td>185.0</td>\n",
       "      <td>Digital Wallet</td>\n",
       "      <td>Online</td>\n",
       "      <td>2024-04-08</td>\n",
       "      <td>True</td>\n",
       "    </tr>\n",
       "    <tr>\n",
       "      <th>1</th>\n",
       "      <td>TXN_3731986</td>\n",
       "      <td>CUST_22</td>\n",
       "      <td>Milk Products</td>\n",
       "      <td>Item_17_MILK</td>\n",
       "      <td>29.0</td>\n",
       "      <td>9.0</td>\n",
       "      <td>261.0</td>\n",
       "      <td>Digital Wallet</td>\n",
       "      <td>Online</td>\n",
       "      <td>2023-07-23</td>\n",
       "      <td>True</td>\n",
       "    </tr>\n",
       "    <tr>\n",
       "      <th>2</th>\n",
       "      <td>TXN_9303719</td>\n",
       "      <td>CUST_02</td>\n",
       "      <td>Butchers</td>\n",
       "      <td>Item_12_BUT</td>\n",
       "      <td>21.5</td>\n",
       "      <td>2.0</td>\n",
       "      <td>43.0</td>\n",
       "      <td>Credit Card</td>\n",
       "      <td>Online</td>\n",
       "      <td>2022-10-05</td>\n",
       "      <td>False</td>\n",
       "    </tr>\n",
       "    <tr>\n",
       "      <th>3</th>\n",
       "      <td>TXN_9458126</td>\n",
       "      <td>CUST_06</td>\n",
       "      <td>Beverages</td>\n",
       "      <td>Item_16_BEV</td>\n",
       "      <td>27.5</td>\n",
       "      <td>9.0</td>\n",
       "      <td>247.5</td>\n",
       "      <td>Credit Card</td>\n",
       "      <td>Online</td>\n",
       "      <td>2022-05-07</td>\n",
       "      <td>NaN</td>\n",
       "    </tr>\n",
       "    <tr>\n",
       "      <th>4</th>\n",
       "      <td>TXN_4575373</td>\n",
       "      <td>CUST_05</td>\n",
       "      <td>Food</td>\n",
       "      <td>Item_6_FOOD</td>\n",
       "      <td>12.5</td>\n",
       "      <td>7.0</td>\n",
       "      <td>87.5</td>\n",
       "      <td>Digital Wallet</td>\n",
       "      <td>Online</td>\n",
       "      <td>2022-10-02</td>\n",
       "      <td>False</td>\n",
       "    </tr>\n",
       "  </tbody>\n",
       "</table>\n",
       "</div>"
      ],
      "text/plain": [
       "  Transaction ID Customer ID       Category          Item  Price Per Unit  \\\n",
       "0    TXN_6867343     CUST_09     Patisserie   Item_10_PAT            18.5   \n",
       "1    TXN_3731986     CUST_22  Milk Products  Item_17_MILK            29.0   \n",
       "2    TXN_9303719     CUST_02       Butchers   Item_12_BUT            21.5   \n",
       "3    TXN_9458126     CUST_06      Beverages   Item_16_BEV            27.5   \n",
       "4    TXN_4575373     CUST_05           Food   Item_6_FOOD            12.5   \n",
       "\n",
       "   Quantity  Total Spent  Payment Method Location Transaction Date  \\\n",
       "0      10.0        185.0  Digital Wallet   Online       2024-04-08   \n",
       "1       9.0        261.0  Digital Wallet   Online       2023-07-23   \n",
       "2       2.0         43.0     Credit Card   Online       2022-10-05   \n",
       "3       9.0        247.5     Credit Card   Online       2022-05-07   \n",
       "4       7.0         87.5  Digital Wallet   Online       2022-10-02   \n",
       "\n",
       "  Discount Applied  \n",
       "0             True  \n",
       "1             True  \n",
       "2            False  \n",
       "3              NaN  \n",
       "4            False  "
      ]
     },
     "execution_count": 182,
     "metadata": {},
     "output_type": "execute_result"
    }
   ],
   "source": [
    "df = pd.read_csv('retail_store_sales.csv')\n",
    "df.head()"
   ]
  },
  {
   "cell_type": "markdown",
   "id": "279fb06e",
   "metadata": {},
   "source": [
    "Then the `.info()` function to view general information about the dataset."
   ]
  },
  {
   "cell_type": "code",
   "execution_count": 183,
   "id": "73ea5307",
   "metadata": {},
   "outputs": [
    {
     "name": "stdout",
     "output_type": "stream",
     "text": [
      "<class 'pandas.core.frame.DataFrame'>\n",
      "RangeIndex: 12575 entries, 0 to 12574\n",
      "Data columns (total 11 columns):\n",
      " #   Column            Non-Null Count  Dtype  \n",
      "---  ------            --------------  -----  \n",
      " 0   Transaction ID    12575 non-null  object \n",
      " 1   Customer ID       12575 non-null  object \n",
      " 2   Category          12575 non-null  object \n",
      " 3   Item              11362 non-null  object \n",
      " 4   Price Per Unit    11966 non-null  float64\n",
      " 5   Quantity          11971 non-null  float64\n",
      " 6   Total Spent       11971 non-null  float64\n",
      " 7   Payment Method    12575 non-null  object \n",
      " 8   Location          12575 non-null  object \n",
      " 9   Transaction Date  12575 non-null  object \n",
      " 10  Discount Applied  8376 non-null   object \n",
      "dtypes: float64(3), object(8)\n",
      "memory usage: 1.1+ MB\n"
     ]
    }
   ],
   "source": [
    "df.info()"
   ]
  },
  {
   "cell_type": "markdown",
   "id": "0484d1a3",
   "metadata": {},
   "source": [
    "This tells us that the dataset contains 12575 entries, but more importantly, we can quickly identify (3) potential issues we'll need to resolve as we go through the Data Cleaning process:\n",
    "\n",
    "1. The `Discount Applied` column uses a Dtype of `object` rather than `boolean`.\n",
    "\n",
    "2. The `Transaction Date` column uses a Dtype of `object` rather than `datetime64[ns]`. But since it also contains day, month, and year in one column, we can split these into their own respective Dtype `int32` columns.\n",
    "\n",
    "3. The columns `Item`, `Price Per Unit`, `Quantity`, `Total Spent`, and `Discount Applied` all contain null values. Thus, we'll need to look into any inconsistencies or issues with these columns.\n",
    "\n",
    "But before investigating these specific dataset issues, we'll start off with some preliminary checks by looking for duplicate values and duplicate categorical representations."
   ]
  },
  {
   "cell_type": "markdown",
   "id": "30dfe1f7",
   "metadata": {},
   "source": [
    "### Duplicate Values"
   ]
  },
  {
   "cell_type": "code",
   "execution_count": 184,
   "id": "5204131a",
   "metadata": {},
   "outputs": [
    {
     "data": {
      "text/plain": [
       "0"
      ]
     },
     "execution_count": 184,
     "metadata": {},
     "output_type": "execute_result"
    }
   ],
   "source": [
    "df.duplicated().sum()"
   ]
  },
  {
   "cell_type": "markdown",
   "id": "69bea3b0",
   "metadata": {},
   "source": [
    "This dataset contains no duplicate values, so **no issues** there."
   ]
  },
  {
   "cell_type": "markdown",
   "id": "eee50334",
   "metadata": {},
   "source": [
    "### Multiple Representations of the Same Categorical Value"
   ]
  },
  {
   "cell_type": "markdown",
   "id": "c3057f71",
   "metadata": {},
   "source": [
    "The columns to watch out for here are `Category`, `Payment Method`, and `Location`. We have to ensure none of their representations end up being the same as other ones.\n",
    "\n",
    "We'll start with `Category`."
   ]
  },
  {
   "cell_type": "code",
   "execution_count": 185,
   "id": "dc8d44ea",
   "metadata": {},
   "outputs": [
    {
     "data": {
      "text/plain": [
       "array(['Patisserie', 'Milk Products', 'Butchers', 'Beverages', 'Food',\n",
       "       'Furniture', 'Electric household essentials',\n",
       "       'Computers and electric accessories'], dtype=object)"
      ]
     },
     "execution_count": 185,
     "metadata": {},
     "output_type": "execute_result"
    }
   ],
   "source": [
    "df['Category'].unique()"
   ]
  },
  {
   "cell_type": "markdown",
   "id": "969900a0",
   "metadata": {},
   "source": [
    "Next, `Payment Method`."
   ]
  },
  {
   "cell_type": "code",
   "execution_count": 186,
   "id": "0a6c1a28",
   "metadata": {},
   "outputs": [
    {
     "data": {
      "text/plain": [
       "array(['Digital Wallet', 'Credit Card', 'Cash'], dtype=object)"
      ]
     },
     "execution_count": 186,
     "metadata": {},
     "output_type": "execute_result"
    }
   ],
   "source": [
    "df['Payment Method'].unique()"
   ]
  },
  {
   "cell_type": "markdown",
   "id": "97ef8bc5",
   "metadata": {},
   "source": [
    "Lastly, `Location`."
   ]
  },
  {
   "cell_type": "code",
   "execution_count": 187,
   "id": "220cb1fe",
   "metadata": {},
   "outputs": [
    {
     "data": {
      "text/plain": [
       "array(['Online', 'In-store'], dtype=object)"
      ]
     },
     "execution_count": 187,
     "metadata": {},
     "output_type": "execute_result"
    }
   ],
   "source": [
    "df['Location'].unique()"
   ]
  },
  {
   "cell_type": "markdown",
   "id": "93f368c1",
   "metadata": {},
   "source": [
    "Since none of the categories were representing the same thing as other categories, there are **no issues** to be found here."
   ]
  },
  {
   "cell_type": "markdown",
   "id": "fb018ab0",
   "metadata": {},
   "source": [
    "### Incorrect Datatypes"
   ]
  },
  {
   "cell_type": "markdown",
   "id": "0d9c29c4",
   "metadata": {},
   "source": [
    "For this portion, we'll resolve each of the previously mentioned columns individually."
   ]
  },
  {
   "cell_type": "markdown",
   "id": "088c5cf4",
   "metadata": {},
   "source": [
    "#### Transaction Date Column"
   ]
  },
  {
   "cell_type": "markdown",
   "id": "83b7a710",
   "metadata": {},
   "source": [
    "In order to make extracting the date into three separate columns easier, we'll first turn the `Transaction Date` into Dtype `datetime64[ns]` rather than its current Dtype of `object`. "
   ]
  },
  {
   "cell_type": "code",
   "execution_count": 188,
   "id": "dbdfaff3",
   "metadata": {},
   "outputs": [
    {
     "name": "stdout",
     "output_type": "stream",
     "text": [
      "<class 'pandas.core.frame.DataFrame'>\n",
      "RangeIndex: 12575 entries, 0 to 12574\n",
      "Data columns (total 11 columns):\n",
      " #   Column            Non-Null Count  Dtype         \n",
      "---  ------            --------------  -----         \n",
      " 0   Transaction ID    12575 non-null  object        \n",
      " 1   Customer ID       12575 non-null  object        \n",
      " 2   Category          12575 non-null  object        \n",
      " 3   Item              11362 non-null  object        \n",
      " 4   Price Per Unit    11966 non-null  float64       \n",
      " 5   Quantity          11971 non-null  float64       \n",
      " 6   Total Spent       11971 non-null  float64       \n",
      " 7   Payment Method    12575 non-null  object        \n",
      " 8   Location          12575 non-null  object        \n",
      " 9   Transaction Date  12575 non-null  datetime64[ns]\n",
      " 10  Discount Applied  8376 non-null   object        \n",
      "dtypes: datetime64[ns](1), float64(3), object(7)\n",
      "memory usage: 1.1+ MB\n"
     ]
    }
   ],
   "source": [
    "df['Transaction Date'] = pd.to_datetime(df['Transaction Date'])\n",
    "df.info()"
   ]
  },
  {
   "cell_type": "markdown",
   "id": "8879da5c",
   "metadata": {},
   "source": [
    "Afterwards, we may use `.dt.year`, `.dt.month`, and `.dt.day` to extract each part of the date and put them into their own separate columns."
   ]
  },
  {
   "cell_type": "code",
   "execution_count": 189,
   "id": "eebe1aa4",
   "metadata": {},
   "outputs": [
    {
     "data": {
      "text/html": [
       "<div>\n",
       "<style scoped>\n",
       "    .dataframe tbody tr th:only-of-type {\n",
       "        vertical-align: middle;\n",
       "    }\n",
       "\n",
       "    .dataframe tbody tr th {\n",
       "        vertical-align: top;\n",
       "    }\n",
       "\n",
       "    .dataframe thead th {\n",
       "        text-align: right;\n",
       "    }\n",
       "</style>\n",
       "<table border=\"1\" class=\"dataframe\">\n",
       "  <thead>\n",
       "    <tr style=\"text-align: right;\">\n",
       "      <th></th>\n",
       "      <th>Transaction ID</th>\n",
       "      <th>Customer ID</th>\n",
       "      <th>Category</th>\n",
       "      <th>Item</th>\n",
       "      <th>Price Per Unit</th>\n",
       "      <th>Quantity</th>\n",
       "      <th>Total Spent</th>\n",
       "      <th>Payment Method</th>\n",
       "      <th>Location</th>\n",
       "      <th>Transaction Date</th>\n",
       "      <th>Discount Applied</th>\n",
       "      <th>Year</th>\n",
       "      <th>Month</th>\n",
       "      <th>Day</th>\n",
       "    </tr>\n",
       "  </thead>\n",
       "  <tbody>\n",
       "    <tr>\n",
       "      <th>0</th>\n",
       "      <td>TXN_6867343</td>\n",
       "      <td>CUST_09</td>\n",
       "      <td>Patisserie</td>\n",
       "      <td>Item_10_PAT</td>\n",
       "      <td>18.5</td>\n",
       "      <td>10.0</td>\n",
       "      <td>185.0</td>\n",
       "      <td>Digital Wallet</td>\n",
       "      <td>Online</td>\n",
       "      <td>2024-04-08</td>\n",
       "      <td>True</td>\n",
       "      <td>2024</td>\n",
       "      <td>4</td>\n",
       "      <td>8</td>\n",
       "    </tr>\n",
       "    <tr>\n",
       "      <th>1</th>\n",
       "      <td>TXN_3731986</td>\n",
       "      <td>CUST_22</td>\n",
       "      <td>Milk Products</td>\n",
       "      <td>Item_17_MILK</td>\n",
       "      <td>29.0</td>\n",
       "      <td>9.0</td>\n",
       "      <td>261.0</td>\n",
       "      <td>Digital Wallet</td>\n",
       "      <td>Online</td>\n",
       "      <td>2023-07-23</td>\n",
       "      <td>True</td>\n",
       "      <td>2023</td>\n",
       "      <td>7</td>\n",
       "      <td>23</td>\n",
       "    </tr>\n",
       "    <tr>\n",
       "      <th>2</th>\n",
       "      <td>TXN_9303719</td>\n",
       "      <td>CUST_02</td>\n",
       "      <td>Butchers</td>\n",
       "      <td>Item_12_BUT</td>\n",
       "      <td>21.5</td>\n",
       "      <td>2.0</td>\n",
       "      <td>43.0</td>\n",
       "      <td>Credit Card</td>\n",
       "      <td>Online</td>\n",
       "      <td>2022-10-05</td>\n",
       "      <td>False</td>\n",
       "      <td>2022</td>\n",
       "      <td>10</td>\n",
       "      <td>5</td>\n",
       "    </tr>\n",
       "    <tr>\n",
       "      <th>3</th>\n",
       "      <td>TXN_9458126</td>\n",
       "      <td>CUST_06</td>\n",
       "      <td>Beverages</td>\n",
       "      <td>Item_16_BEV</td>\n",
       "      <td>27.5</td>\n",
       "      <td>9.0</td>\n",
       "      <td>247.5</td>\n",
       "      <td>Credit Card</td>\n",
       "      <td>Online</td>\n",
       "      <td>2022-05-07</td>\n",
       "      <td>NaN</td>\n",
       "      <td>2022</td>\n",
       "      <td>5</td>\n",
       "      <td>7</td>\n",
       "    </tr>\n",
       "    <tr>\n",
       "      <th>4</th>\n",
       "      <td>TXN_4575373</td>\n",
       "      <td>CUST_05</td>\n",
       "      <td>Food</td>\n",
       "      <td>Item_6_FOOD</td>\n",
       "      <td>12.5</td>\n",
       "      <td>7.0</td>\n",
       "      <td>87.5</td>\n",
       "      <td>Digital Wallet</td>\n",
       "      <td>Online</td>\n",
       "      <td>2022-10-02</td>\n",
       "      <td>False</td>\n",
       "      <td>2022</td>\n",
       "      <td>10</td>\n",
       "      <td>2</td>\n",
       "    </tr>\n",
       "  </tbody>\n",
       "</table>\n",
       "</div>"
      ],
      "text/plain": [
       "  Transaction ID Customer ID       Category          Item  Price Per Unit  \\\n",
       "0    TXN_6867343     CUST_09     Patisserie   Item_10_PAT            18.5   \n",
       "1    TXN_3731986     CUST_22  Milk Products  Item_17_MILK            29.0   \n",
       "2    TXN_9303719     CUST_02       Butchers   Item_12_BUT            21.5   \n",
       "3    TXN_9458126     CUST_06      Beverages   Item_16_BEV            27.5   \n",
       "4    TXN_4575373     CUST_05           Food   Item_6_FOOD            12.5   \n",
       "\n",
       "   Quantity  Total Spent  Payment Method Location Transaction Date  \\\n",
       "0      10.0        185.0  Digital Wallet   Online       2024-04-08   \n",
       "1       9.0        261.0  Digital Wallet   Online       2023-07-23   \n",
       "2       2.0         43.0     Credit Card   Online       2022-10-05   \n",
       "3       9.0        247.5     Credit Card   Online       2022-05-07   \n",
       "4       7.0         87.5  Digital Wallet   Online       2022-10-02   \n",
       "\n",
       "  Discount Applied  Year  Month  Day  \n",
       "0             True  2024      4    8  \n",
       "1             True  2023      7   23  \n",
       "2            False  2022     10    5  \n",
       "3              NaN  2022      5    7  \n",
       "4            False  2022     10    2  "
      ]
     },
     "execution_count": 189,
     "metadata": {},
     "output_type": "execute_result"
    }
   ],
   "source": [
    "df['Year'] = df['Transaction Date'].dt.year\n",
    "df['Month'] = df['Transaction Date'].dt.month\n",
    "df['Day'] = df['Transaction Date'].dt.day\n",
    "df.head()"
   ]
  },
  {
   "cell_type": "markdown",
   "id": "45d97122",
   "metadata": {},
   "source": [
    "Now that we've created columns `Year`, `Month`, and `Day` we no longer need the `Transaction Date` column, so we'll drop it."
   ]
  },
  {
   "cell_type": "code",
   "execution_count": 190,
   "id": "cfd8d485",
   "metadata": {},
   "outputs": [
    {
     "data": {
      "text/html": [
       "<div>\n",
       "<style scoped>\n",
       "    .dataframe tbody tr th:only-of-type {\n",
       "        vertical-align: middle;\n",
       "    }\n",
       "\n",
       "    .dataframe tbody tr th {\n",
       "        vertical-align: top;\n",
       "    }\n",
       "\n",
       "    .dataframe thead th {\n",
       "        text-align: right;\n",
       "    }\n",
       "</style>\n",
       "<table border=\"1\" class=\"dataframe\">\n",
       "  <thead>\n",
       "    <tr style=\"text-align: right;\">\n",
       "      <th></th>\n",
       "      <th>Transaction ID</th>\n",
       "      <th>Customer ID</th>\n",
       "      <th>Category</th>\n",
       "      <th>Item</th>\n",
       "      <th>Price Per Unit</th>\n",
       "      <th>Quantity</th>\n",
       "      <th>Total Spent</th>\n",
       "      <th>Payment Method</th>\n",
       "      <th>Location</th>\n",
       "      <th>Discount Applied</th>\n",
       "      <th>Year</th>\n",
       "      <th>Month</th>\n",
       "      <th>Day</th>\n",
       "    </tr>\n",
       "  </thead>\n",
       "  <tbody>\n",
       "    <tr>\n",
       "      <th>0</th>\n",
       "      <td>TXN_6867343</td>\n",
       "      <td>CUST_09</td>\n",
       "      <td>Patisserie</td>\n",
       "      <td>Item_10_PAT</td>\n",
       "      <td>18.5</td>\n",
       "      <td>10.0</td>\n",
       "      <td>185.0</td>\n",
       "      <td>Digital Wallet</td>\n",
       "      <td>Online</td>\n",
       "      <td>True</td>\n",
       "      <td>2024</td>\n",
       "      <td>4</td>\n",
       "      <td>8</td>\n",
       "    </tr>\n",
       "    <tr>\n",
       "      <th>1</th>\n",
       "      <td>TXN_3731986</td>\n",
       "      <td>CUST_22</td>\n",
       "      <td>Milk Products</td>\n",
       "      <td>Item_17_MILK</td>\n",
       "      <td>29.0</td>\n",
       "      <td>9.0</td>\n",
       "      <td>261.0</td>\n",
       "      <td>Digital Wallet</td>\n",
       "      <td>Online</td>\n",
       "      <td>True</td>\n",
       "      <td>2023</td>\n",
       "      <td>7</td>\n",
       "      <td>23</td>\n",
       "    </tr>\n",
       "    <tr>\n",
       "      <th>2</th>\n",
       "      <td>TXN_9303719</td>\n",
       "      <td>CUST_02</td>\n",
       "      <td>Butchers</td>\n",
       "      <td>Item_12_BUT</td>\n",
       "      <td>21.5</td>\n",
       "      <td>2.0</td>\n",
       "      <td>43.0</td>\n",
       "      <td>Credit Card</td>\n",
       "      <td>Online</td>\n",
       "      <td>False</td>\n",
       "      <td>2022</td>\n",
       "      <td>10</td>\n",
       "      <td>5</td>\n",
       "    </tr>\n",
       "    <tr>\n",
       "      <th>3</th>\n",
       "      <td>TXN_9458126</td>\n",
       "      <td>CUST_06</td>\n",
       "      <td>Beverages</td>\n",
       "      <td>Item_16_BEV</td>\n",
       "      <td>27.5</td>\n",
       "      <td>9.0</td>\n",
       "      <td>247.5</td>\n",
       "      <td>Credit Card</td>\n",
       "      <td>Online</td>\n",
       "      <td>NaN</td>\n",
       "      <td>2022</td>\n",
       "      <td>5</td>\n",
       "      <td>7</td>\n",
       "    </tr>\n",
       "    <tr>\n",
       "      <th>4</th>\n",
       "      <td>TXN_4575373</td>\n",
       "      <td>CUST_05</td>\n",
       "      <td>Food</td>\n",
       "      <td>Item_6_FOOD</td>\n",
       "      <td>12.5</td>\n",
       "      <td>7.0</td>\n",
       "      <td>87.5</td>\n",
       "      <td>Digital Wallet</td>\n",
       "      <td>Online</td>\n",
       "      <td>False</td>\n",
       "      <td>2022</td>\n",
       "      <td>10</td>\n",
       "      <td>2</td>\n",
       "    </tr>\n",
       "  </tbody>\n",
       "</table>\n",
       "</div>"
      ],
      "text/plain": [
       "  Transaction ID Customer ID       Category          Item  Price Per Unit  \\\n",
       "0    TXN_6867343     CUST_09     Patisserie   Item_10_PAT            18.5   \n",
       "1    TXN_3731986     CUST_22  Milk Products  Item_17_MILK            29.0   \n",
       "2    TXN_9303719     CUST_02       Butchers   Item_12_BUT            21.5   \n",
       "3    TXN_9458126     CUST_06      Beverages   Item_16_BEV            27.5   \n",
       "4    TXN_4575373     CUST_05           Food   Item_6_FOOD            12.5   \n",
       "\n",
       "   Quantity  Total Spent  Payment Method Location Discount Applied  Year  \\\n",
       "0      10.0        185.0  Digital Wallet   Online             True  2024   \n",
       "1       9.0        261.0  Digital Wallet   Online             True  2023   \n",
       "2       2.0         43.0     Credit Card   Online            False  2022   \n",
       "3       9.0        247.5     Credit Card   Online              NaN  2022   \n",
       "4       7.0         87.5  Digital Wallet   Online            False  2022   \n",
       "\n",
       "   Month  Day  \n",
       "0      4    8  \n",
       "1      7   23  \n",
       "2     10    5  \n",
       "3      5    7  \n",
       "4     10    2  "
      ]
     },
     "execution_count": 190,
     "metadata": {},
     "output_type": "execute_result"
    }
   ],
   "source": [
    "df = df.drop(columns = 'Transaction Date')\n",
    "df.head()"
   ]
  },
  {
   "cell_type": "markdown",
   "id": "56d1f926",
   "metadata": {},
   "source": [
    "#### Discount Applied Column"
   ]
  },
  {
   "cell_type": "markdown",
   "id": "c6741f3f",
   "metadata": {},
   "source": [
    "To turn the `Discount Applied` column's Dtype into `boolean` rather than its current Dtype of `object`, we'll use `.astype('boolean')`. "
   ]
  },
  {
   "cell_type": "code",
   "execution_count": 191,
   "id": "1a3c639e",
   "metadata": {},
   "outputs": [
    {
     "name": "stdout",
     "output_type": "stream",
     "text": [
      "<class 'pandas.core.frame.DataFrame'>\n",
      "RangeIndex: 12575 entries, 0 to 12574\n",
      "Data columns (total 13 columns):\n",
      " #   Column            Non-Null Count  Dtype  \n",
      "---  ------            --------------  -----  \n",
      " 0   Transaction ID    12575 non-null  object \n",
      " 1   Customer ID       12575 non-null  object \n",
      " 2   Category          12575 non-null  object \n",
      " 3   Item              11362 non-null  object \n",
      " 4   Price Per Unit    11966 non-null  float64\n",
      " 5   Quantity          11971 non-null  float64\n",
      " 6   Total Spent       11971 non-null  float64\n",
      " 7   Payment Method    12575 non-null  object \n",
      " 8   Location          12575 non-null  object \n",
      " 9   Discount Applied  8376 non-null   boolean\n",
      " 10  Year              12575 non-null  int32  \n",
      " 11  Month             12575 non-null  int32  \n",
      " 12  Day               12575 non-null  int32  \n",
      "dtypes: boolean(1), float64(3), int32(3), object(6)\n",
      "memory usage: 1.0+ MB\n"
     ]
    }
   ],
   "source": [
    "df['Discount Applied'] = df['Discount Applied'].astype('boolean')\n",
    "df.info()"
   ]
  },
  {
   "cell_type": "markdown",
   "id": "275e8555",
   "metadata": {},
   "source": [
    "Confirm the values using `.head()`."
   ]
  },
  {
   "cell_type": "code",
   "execution_count": 192,
   "id": "560ea94e",
   "metadata": {},
   "outputs": [
    {
     "data": {
      "text/html": [
       "<div>\n",
       "<style scoped>\n",
       "    .dataframe tbody tr th:only-of-type {\n",
       "        vertical-align: middle;\n",
       "    }\n",
       "\n",
       "    .dataframe tbody tr th {\n",
       "        vertical-align: top;\n",
       "    }\n",
       "\n",
       "    .dataframe thead th {\n",
       "        text-align: right;\n",
       "    }\n",
       "</style>\n",
       "<table border=\"1\" class=\"dataframe\">\n",
       "  <thead>\n",
       "    <tr style=\"text-align: right;\">\n",
       "      <th></th>\n",
       "      <th>Transaction ID</th>\n",
       "      <th>Customer ID</th>\n",
       "      <th>Category</th>\n",
       "      <th>Item</th>\n",
       "      <th>Price Per Unit</th>\n",
       "      <th>Quantity</th>\n",
       "      <th>Total Spent</th>\n",
       "      <th>Payment Method</th>\n",
       "      <th>Location</th>\n",
       "      <th>Discount Applied</th>\n",
       "      <th>Year</th>\n",
       "      <th>Month</th>\n",
       "      <th>Day</th>\n",
       "    </tr>\n",
       "  </thead>\n",
       "  <tbody>\n",
       "    <tr>\n",
       "      <th>0</th>\n",
       "      <td>TXN_6867343</td>\n",
       "      <td>CUST_09</td>\n",
       "      <td>Patisserie</td>\n",
       "      <td>Item_10_PAT</td>\n",
       "      <td>18.5</td>\n",
       "      <td>10.0</td>\n",
       "      <td>185.0</td>\n",
       "      <td>Digital Wallet</td>\n",
       "      <td>Online</td>\n",
       "      <td>True</td>\n",
       "      <td>2024</td>\n",
       "      <td>4</td>\n",
       "      <td>8</td>\n",
       "    </tr>\n",
       "    <tr>\n",
       "      <th>1</th>\n",
       "      <td>TXN_3731986</td>\n",
       "      <td>CUST_22</td>\n",
       "      <td>Milk Products</td>\n",
       "      <td>Item_17_MILK</td>\n",
       "      <td>29.0</td>\n",
       "      <td>9.0</td>\n",
       "      <td>261.0</td>\n",
       "      <td>Digital Wallet</td>\n",
       "      <td>Online</td>\n",
       "      <td>True</td>\n",
       "      <td>2023</td>\n",
       "      <td>7</td>\n",
       "      <td>23</td>\n",
       "    </tr>\n",
       "    <tr>\n",
       "      <th>2</th>\n",
       "      <td>TXN_9303719</td>\n",
       "      <td>CUST_02</td>\n",
       "      <td>Butchers</td>\n",
       "      <td>Item_12_BUT</td>\n",
       "      <td>21.5</td>\n",
       "      <td>2.0</td>\n",
       "      <td>43.0</td>\n",
       "      <td>Credit Card</td>\n",
       "      <td>Online</td>\n",
       "      <td>False</td>\n",
       "      <td>2022</td>\n",
       "      <td>10</td>\n",
       "      <td>5</td>\n",
       "    </tr>\n",
       "    <tr>\n",
       "      <th>3</th>\n",
       "      <td>TXN_9458126</td>\n",
       "      <td>CUST_06</td>\n",
       "      <td>Beverages</td>\n",
       "      <td>Item_16_BEV</td>\n",
       "      <td>27.5</td>\n",
       "      <td>9.0</td>\n",
       "      <td>247.5</td>\n",
       "      <td>Credit Card</td>\n",
       "      <td>Online</td>\n",
       "      <td>&lt;NA&gt;</td>\n",
       "      <td>2022</td>\n",
       "      <td>5</td>\n",
       "      <td>7</td>\n",
       "    </tr>\n",
       "    <tr>\n",
       "      <th>4</th>\n",
       "      <td>TXN_4575373</td>\n",
       "      <td>CUST_05</td>\n",
       "      <td>Food</td>\n",
       "      <td>Item_6_FOOD</td>\n",
       "      <td>12.5</td>\n",
       "      <td>7.0</td>\n",
       "      <td>87.5</td>\n",
       "      <td>Digital Wallet</td>\n",
       "      <td>Online</td>\n",
       "      <td>False</td>\n",
       "      <td>2022</td>\n",
       "      <td>10</td>\n",
       "      <td>2</td>\n",
       "    </tr>\n",
       "  </tbody>\n",
       "</table>\n",
       "</div>"
      ],
      "text/plain": [
       "  Transaction ID Customer ID       Category          Item  Price Per Unit  \\\n",
       "0    TXN_6867343     CUST_09     Patisserie   Item_10_PAT            18.5   \n",
       "1    TXN_3731986     CUST_22  Milk Products  Item_17_MILK            29.0   \n",
       "2    TXN_9303719     CUST_02       Butchers   Item_12_BUT            21.5   \n",
       "3    TXN_9458126     CUST_06      Beverages   Item_16_BEV            27.5   \n",
       "4    TXN_4575373     CUST_05           Food   Item_6_FOOD            12.5   \n",
       "\n",
       "   Quantity  Total Spent  Payment Method Location  Discount Applied  Year  \\\n",
       "0      10.0        185.0  Digital Wallet   Online              True  2024   \n",
       "1       9.0        261.0  Digital Wallet   Online              True  2023   \n",
       "2       2.0         43.0     Credit Card   Online             False  2022   \n",
       "3       9.0        247.5     Credit Card   Online              <NA>  2022   \n",
       "4       7.0         87.5  Digital Wallet   Online             False  2022   \n",
       "\n",
       "   Month  Day  \n",
       "0      4    8  \n",
       "1      7   23  \n",
       "2     10    5  \n",
       "3      5    7  \n",
       "4     10    2  "
      ]
     },
     "execution_count": 192,
     "metadata": {},
     "output_type": "execute_result"
    }
   ],
   "source": [
    "df.head()"
   ]
  },
  {
   "cell_type": "markdown",
   "id": "e8f6688f",
   "metadata": {},
   "source": [
    "### Missing Data"
   ]
  },
  {
   "cell_type": "markdown",
   "id": "6e1fde44",
   "metadata": {},
   "source": [
    "For this portion, we'll resolve each of the previously mentioned columns individually."
   ]
  },
  {
   "cell_type": "markdown",
   "id": "24203637",
   "metadata": {},
   "source": [
    "#### Item Column"
   ]
  },
  {
   "cell_type": "markdown",
   "id": "c884ad9b",
   "metadata": {},
   "source": [
    "One simple solution would be to drop all rows containing null values in the Item column. However, let's take a quick glance at the `Category` and `Item` columns."
   ]
  },
  {
   "cell_type": "code",
   "execution_count": 193,
   "id": "bb8b080a",
   "metadata": {},
   "outputs": [
    {
     "data": {
      "text/html": [
       "<div>\n",
       "<style scoped>\n",
       "    .dataframe tbody tr th:only-of-type {\n",
       "        vertical-align: middle;\n",
       "    }\n",
       "\n",
       "    .dataframe tbody tr th {\n",
       "        vertical-align: top;\n",
       "    }\n",
       "\n",
       "    .dataframe thead th {\n",
       "        text-align: right;\n",
       "    }\n",
       "</style>\n",
       "<table border=\"1\" class=\"dataframe\">\n",
       "  <thead>\n",
       "    <tr style=\"text-align: right;\">\n",
       "      <th></th>\n",
       "      <th>Category</th>\n",
       "      <th>Item</th>\n",
       "    </tr>\n",
       "  </thead>\n",
       "  <tbody>\n",
       "    <tr>\n",
       "      <th>0</th>\n",
       "      <td>Patisserie</td>\n",
       "      <td>Item_10_PAT</td>\n",
       "    </tr>\n",
       "    <tr>\n",
       "      <th>1</th>\n",
       "      <td>Milk Products</td>\n",
       "      <td>Item_17_MILK</td>\n",
       "    </tr>\n",
       "    <tr>\n",
       "      <th>2</th>\n",
       "      <td>Butchers</td>\n",
       "      <td>Item_12_BUT</td>\n",
       "    </tr>\n",
       "    <tr>\n",
       "      <th>3</th>\n",
       "      <td>Beverages</td>\n",
       "      <td>Item_16_BEV</td>\n",
       "    </tr>\n",
       "    <tr>\n",
       "      <th>4</th>\n",
       "      <td>Food</td>\n",
       "      <td>Item_6_FOOD</td>\n",
       "    </tr>\n",
       "    <tr>\n",
       "      <th>5</th>\n",
       "      <td>Patisserie</td>\n",
       "      <td>NaN</td>\n",
       "    </tr>\n",
       "    <tr>\n",
       "      <th>6</th>\n",
       "      <td>Food</td>\n",
       "      <td>Item_1_FOOD</td>\n",
       "    </tr>\n",
       "    <tr>\n",
       "      <th>7</th>\n",
       "      <td>Furniture</td>\n",
       "      <td>NaN</td>\n",
       "    </tr>\n",
       "  </tbody>\n",
       "</table>\n",
       "</div>"
      ],
      "text/plain": [
       "        Category          Item\n",
       "0     Patisserie   Item_10_PAT\n",
       "1  Milk Products  Item_17_MILK\n",
       "2       Butchers   Item_12_BUT\n",
       "3      Beverages   Item_16_BEV\n",
       "4           Food   Item_6_FOOD\n",
       "5     Patisserie           NaN\n",
       "6           Food   Item_1_FOOD\n",
       "7      Furniture           NaN"
      ]
     },
     "execution_count": 193,
     "metadata": {},
     "output_type": "execute_result"
    }
   ],
   "source": [
    "df[['Category', 'Item']].head(8)"
   ]
  },
  {
   "cell_type": "markdown",
   "id": "80dcae9e",
   "metadata": {},
   "source": [
    "Each item has the pattern `Item_##_CATEGORYID` with the category identifier being based on the value in `Category`. So while we can't figure out what item number was chosen, we can still figure out the category identifier for each item. After all, the `Category` column contains 0 null values.\n",
    "\n",
    "So rather than dropping the null values for `Item` and losing potentially precious data, we can instead fill up all the rows for `Item` using only the category identifier.\n",
    "\n",
    "We'll first create a dictionary of key-value pairs, with the content of `Category` serving as our key and the category identifier as the value."
   ]
  },
  {
   "cell_type": "code",
   "execution_count": 194,
   "id": "7138f4a5",
   "metadata": {},
   "outputs": [
    {
     "data": {
      "text/plain": [
       "{'Patisserie': 'Item_NA_PAT',\n",
       " 'Milk Products': 'Item_NA_MILK',\n",
       " 'Butchers': 'Item_NA_BUT',\n",
       " 'Beverages': 'Item_NA_BEV',\n",
       " 'Food': 'Item_NA_FOOD',\n",
       " 'Furniture': 'Item_NA_FUR',\n",
       " 'Electric household essentials': 'Item_NA_EHE',\n",
       " 'Computers and electric accessories': 'Item_NA_CEA'}"
      ]
     },
     "execution_count": 194,
     "metadata": {},
     "output_type": "execute_result"
    }
   ],
   "source": [
    "category_id = {'Patisserie':'Item_NA_PAT', 'Milk Products':'Item_NA_MILK', 'Butchers':'Item_NA_BUT', 'Beverages':'Item_NA_BEV',\n",
    "               'Food':'Item_NA_FOOD', 'Furniture':'Item_NA_FUR', 'Electric household essentials':'Item_NA_EHE',\n",
    "               'Computers and electric accessories':'Item_NA_CEA'}\n",
    "category_id"
   ]
  },
  {
   "cell_type": "code",
   "execution_count": 195,
   "id": "4effc590",
   "metadata": {},
   "outputs": [
    {
     "data": {
      "text/html": [
       "<div>\n",
       "<style scoped>\n",
       "    .dataframe tbody tr th:only-of-type {\n",
       "        vertical-align: middle;\n",
       "    }\n",
       "\n",
       "    .dataframe tbody tr th {\n",
       "        vertical-align: top;\n",
       "    }\n",
       "\n",
       "    .dataframe thead th {\n",
       "        text-align: right;\n",
       "    }\n",
       "</style>\n",
       "<table border=\"1\" class=\"dataframe\">\n",
       "  <thead>\n",
       "    <tr style=\"text-align: right;\">\n",
       "      <th></th>\n",
       "      <th>Category</th>\n",
       "      <th>Item</th>\n",
       "    </tr>\n",
       "  </thead>\n",
       "  <tbody>\n",
       "    <tr>\n",
       "      <th>0</th>\n",
       "      <td>Patisserie</td>\n",
       "      <td>Item_10_PAT</td>\n",
       "    </tr>\n",
       "    <tr>\n",
       "      <th>1</th>\n",
       "      <td>Milk Products</td>\n",
       "      <td>Item_17_MILK</td>\n",
       "    </tr>\n",
       "    <tr>\n",
       "      <th>2</th>\n",
       "      <td>Butchers</td>\n",
       "      <td>Item_12_BUT</td>\n",
       "    </tr>\n",
       "    <tr>\n",
       "      <th>3</th>\n",
       "      <td>Beverages</td>\n",
       "      <td>Item_16_BEV</td>\n",
       "    </tr>\n",
       "    <tr>\n",
       "      <th>4</th>\n",
       "      <td>Food</td>\n",
       "      <td>Item_6_FOOD</td>\n",
       "    </tr>\n",
       "    <tr>\n",
       "      <th>5</th>\n",
       "      <td>Patisserie</td>\n",
       "      <td>Item_NA_PAT</td>\n",
       "    </tr>\n",
       "    <tr>\n",
       "      <th>6</th>\n",
       "      <td>Food</td>\n",
       "      <td>Item_1_FOOD</td>\n",
       "    </tr>\n",
       "    <tr>\n",
       "      <th>7</th>\n",
       "      <td>Furniture</td>\n",
       "      <td>Item_NA_FUR</td>\n",
       "    </tr>\n",
       "  </tbody>\n",
       "</table>\n",
       "</div>"
      ],
      "text/plain": [
       "        Category          Item\n",
       "0     Patisserie   Item_10_PAT\n",
       "1  Milk Products  Item_17_MILK\n",
       "2       Butchers   Item_12_BUT\n",
       "3      Beverages   Item_16_BEV\n",
       "4           Food   Item_6_FOOD\n",
       "5     Patisserie   Item_NA_PAT\n",
       "6           Food   Item_1_FOOD\n",
       "7      Furniture   Item_NA_FUR"
      ]
     },
     "execution_count": 195,
     "metadata": {},
     "output_type": "execute_result"
    }
   ],
   "source": [
    "df['Item'] = df['Item'].fillna(df['Category'].map(category_id))\n",
    "df[['Category', 'Item']].head(8)"
   ]
  },
  {
   "cell_type": "markdown",
   "id": "1bd31f30",
   "metadata": {},
   "source": [
    "And if we run `.info()` on our dataset, `Item` should no longer contain any null values."
   ]
  },
  {
   "cell_type": "code",
   "execution_count": 196,
   "id": "2f500a71",
   "metadata": {},
   "outputs": [
    {
     "name": "stdout",
     "output_type": "stream",
     "text": [
      "<class 'pandas.core.frame.DataFrame'>\n",
      "RangeIndex: 12575 entries, 0 to 12574\n",
      "Data columns (total 13 columns):\n",
      " #   Column            Non-Null Count  Dtype  \n",
      "---  ------            --------------  -----  \n",
      " 0   Transaction ID    12575 non-null  object \n",
      " 1   Customer ID       12575 non-null  object \n",
      " 2   Category          12575 non-null  object \n",
      " 3   Item              12575 non-null  object \n",
      " 4   Price Per Unit    11966 non-null  float64\n",
      " 5   Quantity          11971 non-null  float64\n",
      " 6   Total Spent       11971 non-null  float64\n",
      " 7   Payment Method    12575 non-null  object \n",
      " 8   Location          12575 non-null  object \n",
      " 9   Discount Applied  8376 non-null   boolean\n",
      " 10  Year              12575 non-null  int32  \n",
      " 11  Month             12575 non-null  int32  \n",
      " 12  Day               12575 non-null  int32  \n",
      "dtypes: boolean(1), float64(3), int32(3), object(6)\n",
      "memory usage: 1.0+ MB\n"
     ]
    }
   ],
   "source": [
    "df.info()"
   ]
  },
  {
   "cell_type": "markdown",
   "id": "ada5980b",
   "metadata": {},
   "source": [
    "#### Price Per Unit Column"
   ]
  },
  {
   "cell_type": "markdown",
   "id": "a26103dc",
   "metadata": {},
   "source": [
    "Filling up the null values for `Price Per Unit` is doable as long as both `Quantity` and `Total Spent` contain values. All we have to do is compute what the price per unit would be based on the quantity and total spent."
   ]
  },
  {
   "cell_type": "code",
   "execution_count": 197,
   "id": "ee934e57",
   "metadata": {},
   "outputs": [
    {
     "name": "stdout",
     "output_type": "stream",
     "text": [
      "<class 'pandas.core.frame.DataFrame'>\n",
      "RangeIndex: 12575 entries, 0 to 12574\n",
      "Data columns (total 13 columns):\n",
      " #   Column            Non-Null Count  Dtype  \n",
      "---  ------            --------------  -----  \n",
      " 0   Transaction ID    12575 non-null  object \n",
      " 1   Customer ID       12575 non-null  object \n",
      " 2   Category          12575 non-null  object \n",
      " 3   Item              12575 non-null  object \n",
      " 4   Price Per Unit    12575 non-null  float64\n",
      " 5   Quantity          11971 non-null  float64\n",
      " 6   Total Spent       11971 non-null  float64\n",
      " 7   Payment Method    12575 non-null  object \n",
      " 8   Location          12575 non-null  object \n",
      " 9   Discount Applied  8376 non-null   boolean\n",
      " 10  Year              12575 non-null  int32  \n",
      " 11  Month             12575 non-null  int32  \n",
      " 12  Day               12575 non-null  int32  \n",
      "dtypes: boolean(1), float64(3), int32(3), object(6)\n",
      "memory usage: 1.0+ MB\n"
     ]
    }
   ],
   "source": [
    "df['Price Per Unit'] = df['Price Per Unit'].fillna(df['Total Spent']/df['Quantity'])\n",
    "df.info()"
   ]
  },
  {
   "cell_type": "markdown",
   "id": "b8c7e91f",
   "metadata": {},
   "source": [
    "#### Quantity and Total Spent Columns"
   ]
  },
  {
   "cell_type": "markdown",
   "id": "dc9b8e9c",
   "metadata": {},
   "source": [
    "Suspiciously enough, both `Quanity` and `Total Spent` contain the same number of null values. We'll investigate them first to see if they both share null values."
   ]
  },
  {
   "cell_type": "code",
   "execution_count": 198,
   "id": "d04d1d97",
   "metadata": {},
   "outputs": [
    {
     "data": {
      "text/plain": [
       "True"
      ]
     },
     "execution_count": 198,
     "metadata": {},
     "output_type": "execute_result"
    }
   ],
   "source": [
    "(df['Quantity'].isna() == df['Total Spent'].isna()).all()"
   ]
  },
  {
   "cell_type": "markdown",
   "id": "27a81451",
   "metadata": {},
   "source": [
    "While we were able to fill up `Price Per Unit` using `Quantity` and `Total Spent` as reference, the opposite doesn't hold true. Since we can't fill these missing values, we'll delete all rows containing null values in both columns"
   ]
  },
  {
   "cell_type": "code",
   "execution_count": 199,
   "id": "1a424c19",
   "metadata": {},
   "outputs": [
    {
     "name": "stdout",
     "output_type": "stream",
     "text": [
      "<class 'pandas.core.frame.DataFrame'>\n",
      "Index: 11971 entries, 0 to 12574\n",
      "Data columns (total 13 columns):\n",
      " #   Column            Non-Null Count  Dtype  \n",
      "---  ------            --------------  -----  \n",
      " 0   Transaction ID    11971 non-null  object \n",
      " 1   Customer ID       11971 non-null  object \n",
      " 2   Category          11971 non-null  object \n",
      " 3   Item              11971 non-null  object \n",
      " 4   Price Per Unit    11971 non-null  float64\n",
      " 5   Quantity          11971 non-null  float64\n",
      " 6   Total Spent       11971 non-null  float64\n",
      " 7   Payment Method    11971 non-null  object \n",
      " 8   Location          11971 non-null  object \n",
      " 9   Discount Applied  7983 non-null   boolean\n",
      " 10  Year              11971 non-null  int32  \n",
      " 11  Month             11971 non-null  int32  \n",
      " 12  Day               11971 non-null  int32  \n",
      "dtypes: boolean(1), float64(3), int32(3), object(6)\n",
      "memory usage: 1.1+ MB\n"
     ]
    }
   ],
   "source": [
    "df.dropna(subset = ['Quantity', 'Total Spent'], inplace = True)\n",
    "df.info()"
   ]
  },
  {
   "cell_type": "markdown",
   "id": "5eebb523",
   "metadata": {},
   "source": [
    "#### Discount Applied Column"
   ]
  },
  {
   "cell_type": "markdown",
   "id": "f6fa85ad",
   "metadata": {},
   "source": [
    "Removing the null values in `Discount Applied` would be a huge loss in data, considering how many rows would be removed."
   ]
  },
  {
   "cell_type": "code",
   "execution_count": 200,
   "id": "8bfbee9a",
   "metadata": {},
   "outputs": [
    {
     "data": {
      "text/plain": [
       "3988"
      ]
     },
     "execution_count": 200,
     "metadata": {},
     "output_type": "execute_result"
    }
   ],
   "source": [
    "# All columns have the same number of non-null values except for Discount Applied\n",
    "df['Item'].count() - df['Discount Applied'].count()"
   ]
  },
  {
   "cell_type": "markdown",
   "id": "1e8b103d",
   "metadata": {},
   "source": [
    "As you can see, we would lose `3988` rows of data. Instead of dropping the rows with null values, let's instead calculate for the mode. We use mode here over mean and median because the `Discount Applied` column contains categorical data."
   ]
  },
  {
   "cell_type": "code",
   "execution_count": 201,
   "id": "91540f4b",
   "metadata": {},
   "outputs": [
    {
     "name": "stdout",
     "output_type": "stream",
     "text": [
      "<class 'pandas.core.frame.DataFrame'>\n",
      "Index: 11971 entries, 0 to 12574\n",
      "Data columns (total 13 columns):\n",
      " #   Column            Non-Null Count  Dtype  \n",
      "---  ------            --------------  -----  \n",
      " 0   Transaction ID    11971 non-null  object \n",
      " 1   Customer ID       11971 non-null  object \n",
      " 2   Category          11971 non-null  object \n",
      " 3   Item              11971 non-null  object \n",
      " 4   Price Per Unit    11971 non-null  float64\n",
      " 5   Quantity          11971 non-null  float64\n",
      " 6   Total Spent       11971 non-null  float64\n",
      " 7   Payment Method    11971 non-null  object \n",
      " 8   Location          11971 non-null  object \n",
      " 9   Discount Applied  11971 non-null  boolean\n",
      " 10  Year              11971 non-null  int32  \n",
      " 11  Month             11971 non-null  int32  \n",
      " 12  Day               11971 non-null  int32  \n",
      "dtypes: boolean(1), float64(3), int32(3), object(6)\n",
      "memory usage: 1.1+ MB\n"
     ]
    }
   ],
   "source": [
    "df['Discount Applied'] = df['Discount Applied'].fillna(df['Discount Applied'].mode()[0])\n",
    "df.info()"
   ]
  },
  {
   "cell_type": "markdown",
   "id": "9dcc1d25",
   "metadata": {},
   "source": [
    "### Inconsistent Formatting"
   ]
  },
  {
   "cell_type": "code",
   "execution_count": 202,
   "id": "9d228cbd",
   "metadata": {},
   "outputs": [
    {
     "data": {
      "text/html": [
       "<div>\n",
       "<style scoped>\n",
       "    .dataframe tbody tr th:only-of-type {\n",
       "        vertical-align: middle;\n",
       "    }\n",
       "\n",
       "    .dataframe tbody tr th {\n",
       "        vertical-align: top;\n",
       "    }\n",
       "\n",
       "    .dataframe thead th {\n",
       "        text-align: right;\n",
       "    }\n",
       "</style>\n",
       "<table border=\"1\" class=\"dataframe\">\n",
       "  <thead>\n",
       "    <tr style=\"text-align: right;\">\n",
       "      <th></th>\n",
       "      <th>Transaction ID</th>\n",
       "      <th>Customer ID</th>\n",
       "      <th>Category</th>\n",
       "      <th>Item</th>\n",
       "      <th>Price Per Unit</th>\n",
       "      <th>Quantity</th>\n",
       "      <th>Total Spent</th>\n",
       "      <th>Payment Method</th>\n",
       "      <th>Location</th>\n",
       "      <th>Discount Applied</th>\n",
       "      <th>Year</th>\n",
       "      <th>Month</th>\n",
       "      <th>Day</th>\n",
       "    </tr>\n",
       "  </thead>\n",
       "  <tbody>\n",
       "    <tr>\n",
       "      <th>0</th>\n",
       "      <td>TXN_6867343</td>\n",
       "      <td>CUST_09</td>\n",
       "      <td>Patisserie</td>\n",
       "      <td>Item_10_PAT</td>\n",
       "      <td>18.5</td>\n",
       "      <td>10.0</td>\n",
       "      <td>185.0</td>\n",
       "      <td>Digital Wallet</td>\n",
       "      <td>Online</td>\n",
       "      <td>True</td>\n",
       "      <td>2024</td>\n",
       "      <td>4</td>\n",
       "      <td>8</td>\n",
       "    </tr>\n",
       "    <tr>\n",
       "      <th>1</th>\n",
       "      <td>TXN_3731986</td>\n",
       "      <td>CUST_22</td>\n",
       "      <td>Milk Products</td>\n",
       "      <td>Item_17_MILK</td>\n",
       "      <td>29.0</td>\n",
       "      <td>9.0</td>\n",
       "      <td>261.0</td>\n",
       "      <td>Digital Wallet</td>\n",
       "      <td>Online</td>\n",
       "      <td>True</td>\n",
       "      <td>2023</td>\n",
       "      <td>7</td>\n",
       "      <td>23</td>\n",
       "    </tr>\n",
       "    <tr>\n",
       "      <th>2</th>\n",
       "      <td>TXN_9303719</td>\n",
       "      <td>CUST_02</td>\n",
       "      <td>Butchers</td>\n",
       "      <td>Item_12_BUT</td>\n",
       "      <td>21.5</td>\n",
       "      <td>2.0</td>\n",
       "      <td>43.0</td>\n",
       "      <td>Credit Card</td>\n",
       "      <td>Online</td>\n",
       "      <td>False</td>\n",
       "      <td>2022</td>\n",
       "      <td>10</td>\n",
       "      <td>5</td>\n",
       "    </tr>\n",
       "    <tr>\n",
       "      <th>3</th>\n",
       "      <td>TXN_9458126</td>\n",
       "      <td>CUST_06</td>\n",
       "      <td>Beverages</td>\n",
       "      <td>Item_16_BEV</td>\n",
       "      <td>27.5</td>\n",
       "      <td>9.0</td>\n",
       "      <td>247.5</td>\n",
       "      <td>Credit Card</td>\n",
       "      <td>Online</td>\n",
       "      <td>True</td>\n",
       "      <td>2022</td>\n",
       "      <td>5</td>\n",
       "      <td>7</td>\n",
       "    </tr>\n",
       "    <tr>\n",
       "      <th>4</th>\n",
       "      <td>TXN_4575373</td>\n",
       "      <td>CUST_05</td>\n",
       "      <td>Food</td>\n",
       "      <td>Item_6_FOOD</td>\n",
       "      <td>12.5</td>\n",
       "      <td>7.0</td>\n",
       "      <td>87.5</td>\n",
       "      <td>Digital Wallet</td>\n",
       "      <td>Online</td>\n",
       "      <td>False</td>\n",
       "      <td>2022</td>\n",
       "      <td>10</td>\n",
       "      <td>2</td>\n",
       "    </tr>\n",
       "  </tbody>\n",
       "</table>\n",
       "</div>"
      ],
      "text/plain": [
       "  Transaction ID Customer ID       Category          Item  Price Per Unit  \\\n",
       "0    TXN_6867343     CUST_09     Patisserie   Item_10_PAT            18.5   \n",
       "1    TXN_3731986     CUST_22  Milk Products  Item_17_MILK            29.0   \n",
       "2    TXN_9303719     CUST_02       Butchers   Item_12_BUT            21.5   \n",
       "3    TXN_9458126     CUST_06      Beverages   Item_16_BEV            27.5   \n",
       "4    TXN_4575373     CUST_05           Food   Item_6_FOOD            12.5   \n",
       "\n",
       "   Quantity  Total Spent  Payment Method Location  Discount Applied  Year  \\\n",
       "0      10.0        185.0  Digital Wallet   Online              True  2024   \n",
       "1       9.0        261.0  Digital Wallet   Online              True  2023   \n",
       "2       2.0         43.0     Credit Card   Online             False  2022   \n",
       "3       9.0        247.5     Credit Card   Online              True  2022   \n",
       "4       7.0         87.5  Digital Wallet   Online             False  2022   \n",
       "\n",
       "   Month  Day  \n",
       "0      4    8  \n",
       "1      7   23  \n",
       "2     10    5  \n",
       "3      5    7  \n",
       "4     10    2  "
      ]
     },
     "execution_count": 202,
     "metadata": {},
     "output_type": "execute_result"
    }
   ],
   "source": [
    "df.head()"
   ]
  },
  {
   "cell_type": "markdown",
   "id": "7eeec131",
   "metadata": {},
   "source": [
    "Columns `Transaction ID`, `Customer ID`, and `Item` all follow a specific formatting. Let's make sure there are 0 inconsistencies and that this format is followed throughout the entire dataset by using regex."
   ]
  },
  {
   "cell_type": "code",
   "execution_count": 203,
   "id": "0705a5f3",
   "metadata": {},
   "outputs": [
    {
     "data": {
      "text/plain": [
       "True"
      ]
     },
     "execution_count": 203,
     "metadata": {},
     "output_type": "execute_result"
    }
   ],
   "source": [
    "# Starts with TXN_ and ends with 7 digits\n",
    "txn_regex = r\"^TXN_\\d{7}$\"\n",
    "invalid_txn = df[~df['Transaction ID'].str.match(txn_regex)]\n",
    "\n",
    "invalid_txn.empty"
   ]
  },
  {
   "cell_type": "code",
   "execution_count": 204,
   "id": "9b6ac02f",
   "metadata": {},
   "outputs": [
    {
     "data": {
      "text/plain": [
       "True"
      ]
     },
     "execution_count": 204,
     "metadata": {},
     "output_type": "execute_result"
    }
   ],
   "source": [
    "# Starts with CUST_ and ends with 2 digits\n",
    "cust_regex = r\"^CUST_\\d{2}$\"\n",
    "invalid_cust = df[~df['Customer ID'].str.match(cust_regex)]\n",
    "\n",
    "invalid_cust.empty"
   ]
  },
  {
   "cell_type": "code",
   "execution_count": 205,
   "id": "0be80487",
   "metadata": {},
   "outputs": [
    {
     "data": {
      "text/plain": [
       "True"
      ]
     },
     "execution_count": 205,
     "metadata": {},
     "output_type": "execute_result"
    }
   ],
   "source": [
    "# Starts with Item_, then 1 or 2 letters/digits, and ends with 3 or 4 letters\n",
    "item_regex = r\"^Item_\\w{1,2}_[A-Z]{3,4}$\"\n",
    "invalid_item = df[~df['Item'].str.match(item_regex)]\n",
    "\n",
    "invalid_item.empty"
   ]
  },
  {
   "cell_type": "markdown",
   "id": "93dae192",
   "metadata": {},
   "source": [
    "There are zero inconsistencies with the formatting, so **no issues** here."
   ]
  },
  {
   "cell_type": "markdown",
   "id": "7d0f1d0e",
   "metadata": {},
   "source": [
    "## Research Question & Exploratory Data Analysis"
   ]
  },
  {
   "cell_type": "markdown",
   "id": "89534c7a",
   "metadata": {},
   "source": [
    "### The Research Question\n",
    "\n",
    "Now that the data has been sufficiently clean, it is ready for the Exploratory Data Analysis (EDA). However, before beginning it is important to decide on a research question that will govern how the EDA is carried out. For this study, the research question is: <b> When are customers willing to make bulk purchases? </b>. To answer this, we will be looking for the variables that correlate with high amounts of items bought"
   ]
  },
  {
   "cell_type": "markdown",
   "id": "a71e29de",
   "metadata": {},
   "source": [
    "### Exploratory Data Analysis\n",
    "\n",
    "To begin with, let us first find the summary statistics of the quantity of items per purchase. This is important because we need to know values like the average number of orders so we can find patterns between orders that exceed this average.\n",
    "\n",
    "\n",
    "Let us first find the mean of the quantity column:"
   ]
  },
  {
   "cell_type": "code",
   "execution_count": 206,
   "id": "84819fcc",
   "metadata": {},
   "outputs": [
    {
     "name": "stdout",
     "output_type": "stream",
     "text": [
      "5.54\n"
     ]
    }
   ],
   "source": [
    "print('{:.2f}'.format(df['Quantity'].mean()))"
   ]
  },
  {
   "cell_type": "markdown",
   "id": "6ef629ee",
   "metadata": {},
   "source": [
    "Now, let us look for the median of the same column: "
   ]
  },
  {
   "cell_type": "code",
   "execution_count": 207,
   "id": "5bde9f7e",
   "metadata": {},
   "outputs": [
    {
     "name": "stdout",
     "output_type": "stream",
     "text": [
      "6.0\n"
     ]
    }
   ],
   "source": [
    "print(df['Quantity'].median())"
   ]
  },
  {
   "cell_type": "markdown",
   "id": "02bc87fe",
   "metadata": {},
   "source": [
    "Finally, we will take a look at the mode of the quantity column"
   ]
  },
  {
   "cell_type": "code",
   "execution_count": 208,
   "id": "74b8c25e",
   "metadata": {},
   "outputs": [
    {
     "name": "stdout",
     "output_type": "stream",
     "text": [
      "0    10.0\n",
      "Name: Quantity, dtype: float64\n"
     ]
    }
   ],
   "source": [
    "print(df['Quantity'].mode())"
   ]
  },
  {
   "cell_type": "markdown",
   "id": "5ed8fe22",
   "metadata": {},
   "source": [
    "Using the mean and the median, we can see that the average number of orders made is around 5-6. One concern is that the mode of of the column is much higher than the mean and median of the column. This calls into question the distribution of the graph which we can verify in a few different ways:\n",
    "\n",
    "The first is finding the standard distribution of the specific variable:"
   ]
  },
  {
   "cell_type": "code",
   "execution_count": 209,
   "id": "d3858460",
   "metadata": {},
   "outputs": [
    {
     "name": "stdout",
     "output_type": "stream",
     "text": [
      "2.86\n"
     ]
    }
   ],
   "source": [
    "print('{:.2f}'.format(df['Quantity'].std()))"
   ]
  },
  {
   "cell_type": "markdown",
   "id": "0cda9295",
   "metadata": {},
   "source": [
    "The second method we can use is visualizing the distribution of the variable using a histogram. We are using this kind of graph because it is easy to visualize the spread of data by binning numerous observations into groups based on the quantity of each purchase."
   ]
  },
  {
   "cell_type": "code",
   "execution_count": 210,
   "id": "ace13123",
   "metadata": {},
   "outputs": [
    {
     "data": {
      "image/png": "[encoded data removed]",
      "text/plain": [
       "<Figure size 640x480 with 1 Axes>"
      ]
     },
     "metadata": {},
     "output_type": "display_data"
    }
   ],
   "source": [
    "\n",
    "mpl.hist(df['Quantity'], edgecolor = 'black')\n",
    "mpl.xlabel('Quantity of Items')\n",
    "mpl.ylabel('Number of Transactions')\n",
    "mpl.show()"
   ]
  },
  {
   "cell_type": "markdown",
   "id": "54517554",
   "metadata": {},
   "source": [
    "Given this graph, we can see that the data is unimodal (10) with a slight negative skew. This means that a very slight majority of the observations are bunched on the right side of the graph. However, as can be told with the standard deviation and mean, most of the observations are clumped in the 4-7 range. \n",
    "\n",
    "For the purpose of this research, we will be considering purchases with 6 or above as bulk purchases as these are all purchases that are above the average quantity of items per purchase. Let us first begin by limiting the database to observations with a quantity of 6 or above."
   ]
  },
  {
   "cell_type": "code",
   "execution_count": 211,
   "id": "9ea21fe1",
   "metadata": {},
   "outputs": [],
   "source": [
    "df_filtered = df[df['Quantity'] >= 6]"
   ]
  },
  {
   "cell_type": "markdown",
   "id": "b350fcbb",
   "metadata": {},
   "source": [
    "Let's do some measures of the central tendancy and spread of the quantity column."
   ]
  },
  {
   "cell_type": "code",
   "execution_count": 212,
   "id": "c0eab1da",
   "metadata": {},
   "outputs": [
    {
     "name": "stdout",
     "output_type": "stream",
     "text": [
      "7.99\n"
     ]
    }
   ],
   "source": [
    "print('{:.2f}'.format(df_filtered['Quantity'].mean()))"
   ]
  },
  {
   "cell_type": "code",
   "execution_count": 213,
   "id": "75aa5dd2",
   "metadata": {},
   "outputs": [
    {
     "name": "stdout",
     "output_type": "stream",
     "text": [
      "0    10.0\n",
      "Name: Quantity, dtype: float64\n"
     ]
    }
   ],
   "source": [
    "print(df_filtered['Quantity'].mode())"
   ]
  },
  {
   "cell_type": "code",
   "execution_count": 214,
   "id": "4f5271fb",
   "metadata": {},
   "outputs": [
    {
     "name": "stdout",
     "output_type": "stream",
     "text": [
      "8.00\n"
     ]
    }
   ],
   "source": [
    "print('{:.2f}'.format(df_filtered['Quantity'].median()))"
   ]
  },
  {
   "cell_type": "code",
   "execution_count": 215,
   "id": "bd3f46c5",
   "metadata": {},
   "outputs": [
    {
     "name": "stdout",
     "output_type": "stream",
     "text": [
      "1.42\n"
     ]
    }
   ],
   "source": [
    "print('{:.2f}'.format(df_filtered['Quantity'].std()))"
   ]
  },
  {
   "cell_type": "markdown",
   "id": "c33a515a",
   "metadata": {},
   "source": [
    "This subset of data will be used when we want to compare the variables of orders above the average quantity.In other cases when we want to see general trends, the entire dataset will be used instead. \n",
    "\n",
    "Now that we have a better idea of the basic measurements of the quantity column, let's look at the first EDA question\n",
    "\n",
    "### Question 1: Is there a relationship between the Quantity of Items and the Price per Unit?\n",
    "\n",
    "We will deal with this question in two steps: first lets visualize the distribution of the Price Per Unit per Quantity value. We can easily visualize this data using a boxplot."
   ]
  },
  {
   "cell_type": "code",
   "execution_count": 216,
   "id": "9aa42b64",
   "metadata": {},
   "outputs": [
    {
     "data": {
      "text/plain": [
       "<Axes: title={'center': 'Price Per Unit'}, xlabel='Quantity'>"
      ]
     },
     "execution_count": 216,
     "metadata": {},
     "output_type": "execute_result"
    },
    {
     "data": {
      "image/png": "[encoded data removed]",
      "text/plain": [
       "<Figure size 640x480 with 1 Axes>"
      ]
     },
     "metadata": {},
     "output_type": "display_data"
    }
   ],
   "source": [
    "df.boxplot(by = 'Quantity', column = ['Price Per Unit'], grid = 'False')"
   ]
  },
  {
   "cell_type": "markdown",
   "id": "ea1a73a9",
   "metadata": {},
   "source": [
    "The box column suggests that the price per unit generally ranges from ~15 to ~33 with the median of each group being in the low to mid 20s. We can also see that there are no outliers present in the price column of this dataset. Knowing how this column is distributed is important because from the boxplot we can see that there is no notable relationships between the Price per Unit and the Quantity in these observations. This means that there is no need for further testing to verify any statistical significance for these relationships. \n",
    "\n",
    "Before moving on, let us first see if there is a correlation between the two variables using the Pearson Correlation method. We choose this method because we want to see if a linear relationship is present between these two variables."
   ]
  },
  {
   "cell_type": "code",
   "execution_count": 217,
   "id": "9a5ae667",
   "metadata": {},
   "outputs": [
    {
     "data": {
      "text/plain": [
       "0.010356936512770858"
      ]
     },
     "execution_count": 217,
     "metadata": {},
     "output_type": "execute_result"
    }
   ],
   "source": [
    "df['Quantity'].corr(df['Price Per Unit'])"
   ]
  },
  {
   "cell_type": "markdown",
   "id": "01992644",
   "metadata": {},
   "source": [
    "The value of 0.01036 (when rounded to 4 decimal places) is very close to 0. This is enough to safely conclude that there is no correlative relationship between prices per unit and the quantity of each purchase. To conclude this EDA, it can be hypothesized that there is no correlation nor any potentially meaningful relationships. \n",
    "\n",
    "### Question 2: Is there a relationship between the Quantity of Items and the Total Spent per purchase?\n",
    "\n",
    "The next variable we will analyze for relationships is the Total Amount Spent. The Total Spent column is comprised of continuous numerical data that indicates the total amount of money that was spent in the transaction, after taking discounts into account. Given the fact that the Total Amount column is similar to the Price per Unit column in terms of data type, we will use the same method to analyze for any possible relationships. First, we will look at the boxplot to investigate if there are any possibly meaningful distributions among the the Total Amount observations per Quantity of Item value\n"
   ]
  },
  {
   "cell_type": "code",
   "execution_count": 218,
   "id": "906439b7",
   "metadata": {},
   "outputs": [
    {
     "data": {
      "text/plain": [
       "<Axes: title={'center': 'Total Spent'}, xlabel='Quantity'>"
      ]
     },
     "execution_count": 218,
     "metadata": {},
     "output_type": "execute_result"
    },
    {
     "data": {
      "image/png": "[encoded data removed]",
      "text/plain": [
       "<Figure size 640x480 with 1 Axes>"
      ]
     },
     "metadata": {},
     "output_type": "display_data"
    }
   ],
   "source": [
    "df.boxplot(by = 'Quantity', column = ['Total Spent'], grid = 'False')"
   ]
  },
  {
   "cell_type": "markdown",
   "id": "930f8ad2",
   "metadata": {},
   "source": [
    "Here, there is a potentially interesting relationship. As the quantity of items increases, several values grow larger. First is the median which is at its lowest when purchases are at 6 and at their peak when purchases are at 10. Similarly, both upper and lower quartiles, and the upper whisker increase by a noteable amount as the Quantity value increases. After EDA, we can test if these differences are meaningfully significant in various ways. The first is by performing an anova to see if any one group has a statistically significant difference in its mean compared to the other groups. Another way is to perform an unpaired t-test for every group combination if we want to identify which group has a statistically significant difference, if one is present.\n",
    "\n",
    "Finally, let us use Pearson Correlation if there is a direct correlation between the Quantity of Items and the Total Spent variables."
   ]
  },
  {
   "cell_type": "code",
   "execution_count": 219,
   "id": "e0c4a69a",
   "metadata": {},
   "outputs": [
    {
     "data": {
      "text/plain": [
       "0.37276505055541465"
      ]
     },
     "execution_count": 219,
     "metadata": {},
     "output_type": "execute_result"
    }
   ],
   "source": [
    "df_filtered['Quantity'].corr(df_filtered['Total Spent'])"
   ]
  },
  {
   "cell_type": "markdown",
   "id": "6964e91c",
   "metadata": {},
   "source": [
    "A value of 0.3729 is much closer to 1 compared to the Pearson coefficient that was given by testing the Price per Unit and Quantity. This means that there is a higher chance that there is an actual correlation between these two values. However, since the value is still quite far from 1, that chance is still quite small. However, further testing is still warranted for the statistical significance of the previous relationships that were noted.\n",
    "\n",
    "### Question 3: Is there a relationship between the Quantity Purchased and whether or not a discount was applied to the purchase?\n",
    "\n",
    "Now that we have tested for 2 numerical columns within this dataset, let us now try to see if there is a strong relationship between the Quantity Purchased and the Discount Applied variables. The process in examining this will be slightly different as the Discount Applied variable is categorical, not numeric. To begin with, let us understand the distribution of Discount Applied by looking at the mode, since median and mean cannot be calculated. Furthermore, since we are only interested in observations with a Quantity value of 6 and above, we will used the filtered dataset for this particular analysis."
   ]
  },
  {
   "cell_type": "code",
   "execution_count": 220,
   "id": "d78cb651",
   "metadata": {},
   "outputs": [
    {
     "name": "stdout",
     "output_type": "stream",
     "text": [
      "0    True\n",
      "Name: Discount Applied, dtype: boolean\n"
     ]
    }
   ],
   "source": [
    "print(df_filtered['Discount Applied'].mode())"
   ]
  },
  {
   "cell_type": "markdown",
   "id": "30f26db5",
   "metadata": {},
   "source": [
    "We can see that a majority of the orders with an above average quantity have some sort of discount applied. Fianlly, to get an idea of the difference let us use a bar chart. Using a bar chart in this instance is best because we are interested in the number of observations per category: discount applied, and no discount applied."
   ]
  },
  {
   "cell_type": "code",
   "execution_count": 221,
   "id": "842b3139",
   "metadata": {},
   "outputs": [
    {
     "data": {
      "text/plain": [
       "<Axes: xlabel='Discount Applied'>"
      ]
     },
     "execution_count": 221,
     "metadata": {},
     "output_type": "execute_result"
    },
    {
     "data": {
      "image/png": "[encoded data removed]",
      "text/plain": [
       "<Figure size 640x480 with 1 Axes>"
      ]
     },
     "metadata": {},
     "output_type": "display_data"
    }
   ],
   "source": [
    "df_filtered['Discount Applied'].value_counts().plot.bar()"
   ]
  },
  {
   "cell_type": "markdown",
   "id": "245d1ce8",
   "metadata": {},
   "source": [
    "Here, we can see a difference of almost 2000 purchases. We can do further testing to see if this difference is statistically significant. This is done via a test of goodness using the chi-square test. By assuming that the expected value is 50/50, we can see if this difference actually means something or if it is inisignificant. For now, we can hypothesize that customers are more likely to buy more if there is a discount applied to the order.\n",
    "\n",
    "### Question 4: Is the quantity of a purchase likely to be higher in a specific month?\n",
    "\n",
    "Lets move to another important variable in the dataset: the date of the purchase. For this EDA question, we will focus on the purchases for month. This is so that we can get more specific data than we would by grouping year. At the same time, we would be able to make a comprehensible chart, which wouldn't be possible if we decided to group purchases based on days, which would lead to thousands of datapoints to analyze. \n",
    "\n",
    "Let us first take a look at the table when we group it by month"
   ]
  },
  {
   "cell_type": "code",
   "execution_count": 222,
   "id": "d54fc90a",
   "metadata": {},
   "outputs": [
    {
     "data": {
      "text/html": [
       "<div>\n",
       "<style scoped>\n",
       "    .dataframe tbody tr th:only-of-type {\n",
       "        vertical-align: middle;\n",
       "    }\n",
       "\n",
       "    .dataframe tbody tr th {\n",
       "        vertical-align: top;\n",
       "    }\n",
       "\n",
       "    .dataframe thead th {\n",
       "        text-align: right;\n",
       "    }\n",
       "</style>\n",
       "<table border=\"1\" class=\"dataframe\">\n",
       "  <thead>\n",
       "    <tr style=\"text-align: right;\">\n",
       "      <th></th>\n",
       "      <th></th>\n",
       "      <th>Transaction ID</th>\n",
       "      <th>Customer ID</th>\n",
       "      <th>Category</th>\n",
       "      <th>Item</th>\n",
       "      <th>Price Per Unit</th>\n",
       "      <th>Quantity</th>\n",
       "      <th>Total Spent</th>\n",
       "      <th>Payment Method</th>\n",
       "      <th>Location</th>\n",
       "      <th>Discount Applied</th>\n",
       "      <th>Day</th>\n",
       "    </tr>\n",
       "    <tr>\n",
       "      <th>Month</th>\n",
       "      <th>Year</th>\n",
       "      <th></th>\n",
       "      <th></th>\n",
       "      <th></th>\n",
       "      <th></th>\n",
       "      <th></th>\n",
       "      <th></th>\n",
       "      <th></th>\n",
       "      <th></th>\n",
       "      <th></th>\n",
       "      <th></th>\n",
       "      <th></th>\n",
       "    </tr>\n",
       "  </thead>\n",
       "  <tbody>\n",
       "    <tr>\n",
       "      <th rowspan=\"4\" valign=\"top\">1</th>\n",
       "      <th>2022</th>\n",
       "      <td>204</td>\n",
       "      <td>204</td>\n",
       "      <td>204</td>\n",
       "      <td>204</td>\n",
       "      <td>204</td>\n",
       "      <td>204</td>\n",
       "      <td>204</td>\n",
       "      <td>204</td>\n",
       "      <td>204</td>\n",
       "      <td>204</td>\n",
       "      <td>204</td>\n",
       "    </tr>\n",
       "    <tr>\n",
       "      <th>2023</th>\n",
       "      <td>191</td>\n",
       "      <td>191</td>\n",
       "      <td>191</td>\n",
       "      <td>191</td>\n",
       "      <td>191</td>\n",
       "      <td>191</td>\n",
       "      <td>191</td>\n",
       "      <td>191</td>\n",
       "      <td>191</td>\n",
       "      <td>191</td>\n",
       "      <td>191</td>\n",
       "    </tr>\n",
       "    <tr>\n",
       "      <th>2024</th>\n",
       "      <td>175</td>\n",
       "      <td>175</td>\n",
       "      <td>175</td>\n",
       "      <td>175</td>\n",
       "      <td>175</td>\n",
       "      <td>175</td>\n",
       "      <td>175</td>\n",
       "      <td>175</td>\n",
       "      <td>175</td>\n",
       "      <td>175</td>\n",
       "      <td>175</td>\n",
       "    </tr>\n",
       "    <tr>\n",
       "      <th>2025</th>\n",
       "      <td>97</td>\n",
       "      <td>97</td>\n",
       "      <td>97</td>\n",
       "      <td>97</td>\n",
       "      <td>97</td>\n",
       "      <td>97</td>\n",
       "      <td>97</td>\n",
       "      <td>97</td>\n",
       "      <td>97</td>\n",
       "      <td>97</td>\n",
       "      <td>97</td>\n",
       "    </tr>\n",
       "    <tr>\n",
       "      <th rowspan=\"3\" valign=\"top\">2</th>\n",
       "      <th>2022</th>\n",
       "      <td>175</td>\n",
       "      <td>175</td>\n",
       "      <td>175</td>\n",
       "      <td>175</td>\n",
       "      <td>175</td>\n",
       "      <td>175</td>\n",
       "      <td>175</td>\n",
       "      <td>175</td>\n",
       "      <td>175</td>\n",
       "      <td>175</td>\n",
       "      <td>175</td>\n",
       "    </tr>\n",
       "    <tr>\n",
       "      <th>2023</th>\n",
       "      <td>151</td>\n",
       "      <td>151</td>\n",
       "      <td>151</td>\n",
       "      <td>151</td>\n",
       "      <td>151</td>\n",
       "      <td>151</td>\n",
       "      <td>151</td>\n",
       "      <td>151</td>\n",
       "      <td>151</td>\n",
       "      <td>151</td>\n",
       "      <td>151</td>\n",
       "    </tr>\n",
       "    <tr>\n",
       "      <th>2024</th>\n",
       "      <td>150</td>\n",
       "      <td>150</td>\n",
       "      <td>150</td>\n",
       "      <td>150</td>\n",
       "      <td>150</td>\n",
       "      <td>150</td>\n",
       "      <td>150</td>\n",
       "      <td>150</td>\n",
       "      <td>150</td>\n",
       "      <td>150</td>\n",
       "      <td>150</td>\n",
       "    </tr>\n",
       "    <tr>\n",
       "      <th rowspan=\"3\" valign=\"top\">3</th>\n",
       "      <th>2022</th>\n",
       "      <td>153</td>\n",
       "      <td>153</td>\n",
       "      <td>153</td>\n",
       "      <td>153</td>\n",
       "      <td>153</td>\n",
       "      <td>153</td>\n",
       "      <td>153</td>\n",
       "      <td>153</td>\n",
       "      <td>153</td>\n",
       "      <td>153</td>\n",
       "      <td>153</td>\n",
       "    </tr>\n",
       "    <tr>\n",
       "      <th>2023</th>\n",
       "      <td>159</td>\n",
       "      <td>159</td>\n",
       "      <td>159</td>\n",
       "      <td>159</td>\n",
       "      <td>159</td>\n",
       "      <td>159</td>\n",
       "      <td>159</td>\n",
       "      <td>159</td>\n",
       "      <td>159</td>\n",
       "      <td>159</td>\n",
       "      <td>159</td>\n",
       "    </tr>\n",
       "    <tr>\n",
       "      <th>2024</th>\n",
       "      <td>162</td>\n",
       "      <td>162</td>\n",
       "      <td>162</td>\n",
       "      <td>162</td>\n",
       "      <td>162</td>\n",
       "      <td>162</td>\n",
       "      <td>162</td>\n",
       "      <td>162</td>\n",
       "      <td>162</td>\n",
       "      <td>162</td>\n",
       "      <td>162</td>\n",
       "    </tr>\n",
       "    <tr>\n",
       "      <th rowspan=\"3\" valign=\"top\">4</th>\n",
       "      <th>2022</th>\n",
       "      <td>166</td>\n",
       "      <td>166</td>\n",
       "      <td>166</td>\n",
       "      <td>166</td>\n",
       "      <td>166</td>\n",
       "      <td>166</td>\n",
       "      <td>166</td>\n",
       "      <td>166</td>\n",
       "      <td>166</td>\n",
       "      <td>166</td>\n",
       "      <td>166</td>\n",
       "    </tr>\n",
       "    <tr>\n",
       "      <th>2023</th>\n",
       "      <td>143</td>\n",
       "      <td>143</td>\n",
       "      <td>143</td>\n",
       "      <td>143</td>\n",
       "      <td>143</td>\n",
       "      <td>143</td>\n",
       "      <td>143</td>\n",
       "      <td>143</td>\n",
       "      <td>143</td>\n",
       "      <td>143</td>\n",
       "      <td>143</td>\n",
       "    </tr>\n",
       "    <tr>\n",
       "      <th>2024</th>\n",
       "      <td>181</td>\n",
       "      <td>181</td>\n",
       "      <td>181</td>\n",
       "      <td>181</td>\n",
       "      <td>181</td>\n",
       "      <td>181</td>\n",
       "      <td>181</td>\n",
       "      <td>181</td>\n",
       "      <td>181</td>\n",
       "      <td>181</td>\n",
       "      <td>181</td>\n",
       "    </tr>\n",
       "    <tr>\n",
       "      <th rowspan=\"3\" valign=\"top\">5</th>\n",
       "      <th>2022</th>\n",
       "      <td>160</td>\n",
       "      <td>160</td>\n",
       "      <td>160</td>\n",
       "      <td>160</td>\n",
       "      <td>160</td>\n",
       "      <td>160</td>\n",
       "      <td>160</td>\n",
       "      <td>160</td>\n",
       "      <td>160</td>\n",
       "      <td>160</td>\n",
       "      <td>160</td>\n",
       "    </tr>\n",
       "    <tr>\n",
       "      <th>2023</th>\n",
       "      <td>158</td>\n",
       "      <td>158</td>\n",
       "      <td>158</td>\n",
       "      <td>158</td>\n",
       "      <td>158</td>\n",
       "      <td>158</td>\n",
       "      <td>158</td>\n",
       "      <td>158</td>\n",
       "      <td>158</td>\n",
       "      <td>158</td>\n",
       "      <td>158</td>\n",
       "    </tr>\n",
       "    <tr>\n",
       "      <th>2024</th>\n",
       "      <td>173</td>\n",
       "      <td>173</td>\n",
       "      <td>173</td>\n",
       "      <td>173</td>\n",
       "      <td>173</td>\n",
       "      <td>173</td>\n",
       "      <td>173</td>\n",
       "      <td>173</td>\n",
       "      <td>173</td>\n",
       "      <td>173</td>\n",
       "      <td>173</td>\n",
       "    </tr>\n",
       "    <tr>\n",
       "      <th rowspan=\"3\" valign=\"top\">6</th>\n",
       "      <th>2022</th>\n",
       "      <td>157</td>\n",
       "      <td>157</td>\n",
       "      <td>157</td>\n",
       "      <td>157</td>\n",
       "      <td>157</td>\n",
       "      <td>157</td>\n",
       "      <td>157</td>\n",
       "      <td>157</td>\n",
       "      <td>157</td>\n",
       "      <td>157</td>\n",
       "      <td>157</td>\n",
       "    </tr>\n",
       "    <tr>\n",
       "      <th>2023</th>\n",
       "      <td>175</td>\n",
       "      <td>175</td>\n",
       "      <td>175</td>\n",
       "      <td>175</td>\n",
       "      <td>175</td>\n",
       "      <td>175</td>\n",
       "      <td>175</td>\n",
       "      <td>175</td>\n",
       "      <td>175</td>\n",
       "      <td>175</td>\n",
       "      <td>175</td>\n",
       "    </tr>\n",
       "    <tr>\n",
       "      <th>2024</th>\n",
       "      <td>171</td>\n",
       "      <td>171</td>\n",
       "      <td>171</td>\n",
       "      <td>171</td>\n",
       "      <td>171</td>\n",
       "      <td>171</td>\n",
       "      <td>171</td>\n",
       "      <td>171</td>\n",
       "      <td>171</td>\n",
       "      <td>171</td>\n",
       "      <td>171</td>\n",
       "    </tr>\n",
       "    <tr>\n",
       "      <th rowspan=\"3\" valign=\"top\">7</th>\n",
       "      <th>2022</th>\n",
       "      <td>176</td>\n",
       "      <td>176</td>\n",
       "      <td>176</td>\n",
       "      <td>176</td>\n",
       "      <td>176</td>\n",
       "      <td>176</td>\n",
       "      <td>176</td>\n",
       "      <td>176</td>\n",
       "      <td>176</td>\n",
       "      <td>176</td>\n",
       "      <td>176</td>\n",
       "    </tr>\n",
       "    <tr>\n",
       "      <th>2023</th>\n",
       "      <td>173</td>\n",
       "      <td>173</td>\n",
       "      <td>173</td>\n",
       "      <td>173</td>\n",
       "      <td>173</td>\n",
       "      <td>173</td>\n",
       "      <td>173</td>\n",
       "      <td>173</td>\n",
       "      <td>173</td>\n",
       "      <td>173</td>\n",
       "      <td>173</td>\n",
       "    </tr>\n",
       "    <tr>\n",
       "      <th>2024</th>\n",
       "      <td>174</td>\n",
       "      <td>174</td>\n",
       "      <td>174</td>\n",
       "      <td>174</td>\n",
       "      <td>174</td>\n",
       "      <td>174</td>\n",
       "      <td>174</td>\n",
       "      <td>174</td>\n",
       "      <td>174</td>\n",
       "      <td>174</td>\n",
       "      <td>174</td>\n",
       "    </tr>\n",
       "    <tr>\n",
       "      <th rowspan=\"3\" valign=\"top\">8</th>\n",
       "      <th>2022</th>\n",
       "      <td>172</td>\n",
       "      <td>172</td>\n",
       "      <td>172</td>\n",
       "      <td>172</td>\n",
       "      <td>172</td>\n",
       "      <td>172</td>\n",
       "      <td>172</td>\n",
       "      <td>172</td>\n",
       "      <td>172</td>\n",
       "      <td>172</td>\n",
       "      <td>172</td>\n",
       "    </tr>\n",
       "    <tr>\n",
       "      <th>2023</th>\n",
       "      <td>156</td>\n",
       "      <td>156</td>\n",
       "      <td>156</td>\n",
       "      <td>156</td>\n",
       "      <td>156</td>\n",
       "      <td>156</td>\n",
       "      <td>156</td>\n",
       "      <td>156</td>\n",
       "      <td>156</td>\n",
       "      <td>156</td>\n",
       "      <td>156</td>\n",
       "    </tr>\n",
       "    <tr>\n",
       "      <th>2024</th>\n",
       "      <td>150</td>\n",
       "      <td>150</td>\n",
       "      <td>150</td>\n",
       "      <td>150</td>\n",
       "      <td>150</td>\n",
       "      <td>150</td>\n",
       "      <td>150</td>\n",
       "      <td>150</td>\n",
       "      <td>150</td>\n",
       "      <td>150</td>\n",
       "      <td>150</td>\n",
       "    </tr>\n",
       "    <tr>\n",
       "      <th rowspan=\"3\" valign=\"top\">9</th>\n",
       "      <th>2022</th>\n",
       "      <td>173</td>\n",
       "      <td>173</td>\n",
       "      <td>173</td>\n",
       "      <td>173</td>\n",
       "      <td>173</td>\n",
       "      <td>173</td>\n",
       "      <td>173</td>\n",
       "      <td>173</td>\n",
       "      <td>173</td>\n",
       "      <td>173</td>\n",
       "      <td>173</td>\n",
       "    </tr>\n",
       "    <tr>\n",
       "      <th>2023</th>\n",
       "      <td>165</td>\n",
       "      <td>165</td>\n",
       "      <td>165</td>\n",
       "      <td>165</td>\n",
       "      <td>165</td>\n",
       "      <td>165</td>\n",
       "      <td>165</td>\n",
       "      <td>165</td>\n",
       "      <td>165</td>\n",
       "      <td>165</td>\n",
       "      <td>165</td>\n",
       "    </tr>\n",
       "    <tr>\n",
       "      <th>2024</th>\n",
       "      <td>158</td>\n",
       "      <td>158</td>\n",
       "      <td>158</td>\n",
       "      <td>158</td>\n",
       "      <td>158</td>\n",
       "      <td>158</td>\n",
       "      <td>158</td>\n",
       "      <td>158</td>\n",
       "      <td>158</td>\n",
       "      <td>158</td>\n",
       "      <td>158</td>\n",
       "    </tr>\n",
       "    <tr>\n",
       "      <th rowspan=\"3\" valign=\"top\">10</th>\n",
       "      <th>2022</th>\n",
       "      <td>158</td>\n",
       "      <td>158</td>\n",
       "      <td>158</td>\n",
       "      <td>158</td>\n",
       "      <td>158</td>\n",
       "      <td>158</td>\n",
       "      <td>158</td>\n",
       "      <td>158</td>\n",
       "      <td>158</td>\n",
       "      <td>158</td>\n",
       "      <td>158</td>\n",
       "    </tr>\n",
       "    <tr>\n",
       "      <th>2023</th>\n",
       "      <td>154</td>\n",
       "      <td>154</td>\n",
       "      <td>154</td>\n",
       "      <td>154</td>\n",
       "      <td>154</td>\n",
       "      <td>154</td>\n",
       "      <td>154</td>\n",
       "      <td>154</td>\n",
       "      <td>154</td>\n",
       "      <td>154</td>\n",
       "      <td>154</td>\n",
       "    </tr>\n",
       "    <tr>\n",
       "      <th>2024</th>\n",
       "      <td>160</td>\n",
       "      <td>160</td>\n",
       "      <td>160</td>\n",
       "      <td>160</td>\n",
       "      <td>160</td>\n",
       "      <td>160</td>\n",
       "      <td>160</td>\n",
       "      <td>160</td>\n",
       "      <td>160</td>\n",
       "      <td>160</td>\n",
       "      <td>160</td>\n",
       "    </tr>\n",
       "    <tr>\n",
       "      <th rowspan=\"3\" valign=\"top\">11</th>\n",
       "      <th>2022</th>\n",
       "      <td>160</td>\n",
       "      <td>160</td>\n",
       "      <td>160</td>\n",
       "      <td>160</td>\n",
       "      <td>160</td>\n",
       "      <td>160</td>\n",
       "      <td>160</td>\n",
       "      <td>160</td>\n",
       "      <td>160</td>\n",
       "      <td>160</td>\n",
       "      <td>160</td>\n",
       "    </tr>\n",
       "    <tr>\n",
       "      <th>2023</th>\n",
       "      <td>143</td>\n",
       "      <td>143</td>\n",
       "      <td>143</td>\n",
       "      <td>143</td>\n",
       "      <td>143</td>\n",
       "      <td>143</td>\n",
       "      <td>143</td>\n",
       "      <td>143</td>\n",
       "      <td>143</td>\n",
       "      <td>143</td>\n",
       "      <td>143</td>\n",
       "    </tr>\n",
       "    <tr>\n",
       "      <th>2024</th>\n",
       "      <td>165</td>\n",
       "      <td>165</td>\n",
       "      <td>165</td>\n",
       "      <td>165</td>\n",
       "      <td>165</td>\n",
       "      <td>165</td>\n",
       "      <td>165</td>\n",
       "      <td>165</td>\n",
       "      <td>165</td>\n",
       "      <td>165</td>\n",
       "      <td>165</td>\n",
       "    </tr>\n",
       "    <tr>\n",
       "      <th rowspan=\"3\" valign=\"top\">12</th>\n",
       "      <th>2022</th>\n",
       "      <td>155</td>\n",
       "      <td>155</td>\n",
       "      <td>155</td>\n",
       "      <td>155</td>\n",
       "      <td>155</td>\n",
       "      <td>155</td>\n",
       "      <td>155</td>\n",
       "      <td>155</td>\n",
       "      <td>155</td>\n",
       "      <td>155</td>\n",
       "      <td>155</td>\n",
       "    </tr>\n",
       "    <tr>\n",
       "      <th>2023</th>\n",
       "      <td>163</td>\n",
       "      <td>163</td>\n",
       "      <td>163</td>\n",
       "      <td>163</td>\n",
       "      <td>163</td>\n",
       "      <td>163</td>\n",
       "      <td>163</td>\n",
       "      <td>163</td>\n",
       "      <td>163</td>\n",
       "      <td>163</td>\n",
       "      <td>163</td>\n",
       "    </tr>\n",
       "    <tr>\n",
       "      <th>2024</th>\n",
       "      <td>197</td>\n",
       "      <td>197</td>\n",
       "      <td>197</td>\n",
       "      <td>197</td>\n",
       "      <td>197</td>\n",
       "      <td>197</td>\n",
       "      <td>197</td>\n",
       "      <td>197</td>\n",
       "      <td>197</td>\n",
       "      <td>197</td>\n",
       "      <td>197</td>\n",
       "    </tr>\n",
       "  </tbody>\n",
       "</table>\n",
       "</div>"
      ],
      "text/plain": [
       "            Transaction ID  Customer ID  Category  Item  Price Per Unit  \\\n",
       "Month Year                                                                \n",
       "1     2022             204          204       204   204             204   \n",
       "      2023             191          191       191   191             191   \n",
       "      2024             175          175       175   175             175   \n",
       "      2025              97           97        97    97              97   \n",
       "2     2022             175          175       175   175             175   \n",
       "      2023             151          151       151   151             151   \n",
       "      2024             150          150       150   150             150   \n",
       "3     2022             153          153       153   153             153   \n",
       "      2023             159          159       159   159             159   \n",
       "      2024             162          162       162   162             162   \n",
       "4     2022             166          166       166   166             166   \n",
       "      2023             143          143       143   143             143   \n",
       "      2024             181          181       181   181             181   \n",
       "5     2022             160          160       160   160             160   \n",
       "      2023             158          158       158   158             158   \n",
       "      2024             173          173       173   173             173   \n",
       "6     2022             157          157       157   157             157   \n",
       "      2023             175          175       175   175             175   \n",
       "      2024             171          171       171   171             171   \n",
       "7     2022             176          176       176   176             176   \n",
       "      2023             173          173       173   173             173   \n",
       "      2024             174          174       174   174             174   \n",
       "8     2022             172          172       172   172             172   \n",
       "      2023             156          156       156   156             156   \n",
       "      2024             150          150       150   150             150   \n",
       "9     2022             173          173       173   173             173   \n",
       "      2023             165          165       165   165             165   \n",
       "      2024             158          158       158   158             158   \n",
       "10    2022             158          158       158   158             158   \n",
       "      2023             154          154       154   154             154   \n",
       "      2024             160          160       160   160             160   \n",
       "11    2022             160          160       160   160             160   \n",
       "      2023             143          143       143   143             143   \n",
       "      2024             165          165       165   165             165   \n",
       "12    2022             155          155       155   155             155   \n",
       "      2023             163          163       163   163             163   \n",
       "      2024             197          197       197   197             197   \n",
       "\n",
       "            Quantity  Total Spent  Payment Method  Location  Discount Applied  \\\n",
       "Month Year                                                                      \n",
       "1     2022       204          204             204       204               204   \n",
       "      2023       191          191             191       191               191   \n",
       "      2024       175          175             175       175               175   \n",
       "      2025        97           97              97        97                97   \n",
       "2     2022       175          175             175       175               175   \n",
       "      2023       151          151             151       151               151   \n",
       "      2024       150          150             150       150               150   \n",
       "3     2022       153          153             153       153               153   \n",
       "      2023       159          159             159       159               159   \n",
       "      2024       162          162             162       162               162   \n",
       "4     2022       166          166             166       166               166   \n",
       "      2023       143          143             143       143               143   \n",
       "      2024       181          181             181       181               181   \n",
       "5     2022       160          160             160       160               160   \n",
       "      2023       158          158             158       158               158   \n",
       "      2024       173          173             173       173               173   \n",
       "6     2022       157          157             157       157               157   \n",
       "      2023       175          175             175       175               175   \n",
       "      2024       171          171             171       171               171   \n",
       "7     2022       176          176             176       176               176   \n",
       "      2023       173          173             173       173               173   \n",
       "      2024       174          174             174       174               174   \n",
       "8     2022       172          172             172       172               172   \n",
       "      2023       156          156             156       156               156   \n",
       "      2024       150          150             150       150               150   \n",
       "9     2022       173          173             173       173               173   \n",
       "      2023       165          165             165       165               165   \n",
       "      2024       158          158             158       158               158   \n",
       "10    2022       158          158             158       158               158   \n",
       "      2023       154          154             154       154               154   \n",
       "      2024       160          160             160       160               160   \n",
       "11    2022       160          160             160       160               160   \n",
       "      2023       143          143             143       143               143   \n",
       "      2024       165          165             165       165               165   \n",
       "12    2022       155          155             155       155               155   \n",
       "      2023       163          163             163       163               163   \n",
       "      2024       197          197             197       197               197   \n",
       "\n",
       "            Day  \n",
       "Month Year       \n",
       "1     2022  204  \n",
       "      2023  191  \n",
       "      2024  175  \n",
       "      2025   97  \n",
       "2     2022  175  \n",
       "      2023  151  \n",
       "      2024  150  \n",
       "3     2022  153  \n",
       "      2023  159  \n",
       "      2024  162  \n",
       "4     2022  166  \n",
       "      2023  143  \n",
       "      2024  181  \n",
       "5     2022  160  \n",
       "      2023  158  \n",
       "      2024  173  \n",
       "6     2022  157  \n",
       "      2023  175  \n",
       "      2024  171  \n",
       "7     2022  176  \n",
       "      2023  173  \n",
       "      2024  174  \n",
       "8     2022  172  \n",
       "      2023  156  \n",
       "      2024  150  \n",
       "9     2022  173  \n",
       "      2023  165  \n",
       "      2024  158  \n",
       "10    2022  158  \n",
       "      2023  154  \n",
       "      2024  160  \n",
       "11    2022  160  \n",
       "      2023  143  \n",
       "      2024  165  \n",
       "12    2022  155  \n",
       "      2023  163  \n",
       "      2024  197  "
      ]
     },
     "execution_count": 222,
     "metadata": {},
     "output_type": "execute_result"
    }
   ],
   "source": [
    "df_filtered_months = df_filtered.groupby(['Month', 'Year'])\n",
    "df_filtered_months.count()"
   ]
  },
  {
   "cell_type": "markdown",
   "id": "aaf7b456",
   "metadata": {},
   "source": [
    "Taking a look at the dataset, there is an important detail we first have to attend to. Specifically in the month of January: if you look closely you can see that some orders were made in the year 2025. This is something exclusive only to January. In order to make sure that every month is on equal ground, lets drop all observations of orders made in the year 2025."
   ]
  },
  {
   "cell_type": "code",
   "execution_count": 223,
   "id": "a73565ff",
   "metadata": {},
   "outputs": [],
   "source": [
    "df_no2025 = df_filtered[df_filtered['Year'] != 2025]"
   ]
  },
  {
   "cell_type": "markdown",
   "id": "95b781e7",
   "metadata": {},
   "source": [
    "Perfect! Now we can check if there is a relationship between the quantity of purchase and any particular month by measuring the amount of orders above the average that each month has. This can "
   ]
  },
  {
   "cell_type": "code",
   "execution_count": 224,
   "id": "1fd4c3e7",
   "metadata": {},
   "outputs": [
    {
     "data": {
      "text/plain": [
       "<Axes: xlabel='Month'>"
      ]
     },
     "execution_count": 224,
     "metadata": {},
     "output_type": "execute_result"
    },
    {
     "data": {
      "image/png": "[encoded data removed]",
      "text/plain": [
       "<Figure size 1000x600 with 1 Axes>"
      ]
     },
     "metadata": {},
     "output_type": "display_data"
    }
   ],
   "source": [
    "df_no2025['Month'].value_counts().plot.bar(figsize= (10,6))"
   ]
  },
  {
   "cell_type": "markdown",
   "id": "1d5beb8e",
   "metadata": {},
   "source": [
    "As can be seen, the month of January has the most orders above the average in our new filtered dataset. Thus, we can hypothesize that customers are more willing to make bulk purchases in the month of January compared to other months."
   ]
  },
  {
   "cell_type": "markdown",
   "id": "0ba7d741",
   "metadata": {},
   "source": [
    "### Question 5: How does the distribution of payment methods differ between bulk and non-bulk purchases? \n",
    "\n",
    "This section investigates whether customers' payment methods vary according on the number of items they buy.  In particular, we aim to ascertain whether there are significant differences in payment preferences between non-bulk purchases (less than six items) and bulk purchases (defined as transactions containing six or more items).  Businesses can use this type of information to better analyze consumer behavior at the time of sale and possibly improve their checkout or marketing tactics.\n",
    "\n",
    "In order to determine whether a transaction is eligible for a bulk order, we first added a new column to our dataset called Bulk Purchase.  Comparing the number of things per transaction allows for this:"
   ]
  },
  {
   "cell_type": "code",
   "execution_count": 225,
   "id": "b2734466",
   "metadata": {},
   "outputs": [
    {
     "data": {
      "text/html": [
       "<div>\n",
       "<style scoped>\n",
       "    .dataframe tbody tr th:only-of-type {\n",
       "        vertical-align: middle;\n",
       "    }\n",
       "\n",
       "    .dataframe tbody tr th {\n",
       "        vertical-align: top;\n",
       "    }\n",
       "\n",
       "    .dataframe thead th {\n",
       "        text-align: right;\n",
       "    }\n",
       "</style>\n",
       "<table border=\"1\" class=\"dataframe\">\n",
       "  <thead>\n",
       "    <tr style=\"text-align: right;\">\n",
       "      <th></th>\n",
       "      <th>Quantity</th>\n",
       "      <th>Bulk Purchase</th>\n",
       "    </tr>\n",
       "  </thead>\n",
       "  <tbody>\n",
       "    <tr>\n",
       "      <th>0</th>\n",
       "      <td>10.0</td>\n",
       "      <td>True</td>\n",
       "    </tr>\n",
       "    <tr>\n",
       "      <th>1</th>\n",
       "      <td>9.0</td>\n",
       "      <td>True</td>\n",
       "    </tr>\n",
       "    <tr>\n",
       "      <th>2</th>\n",
       "      <td>2.0</td>\n",
       "      <td>False</td>\n",
       "    </tr>\n",
       "    <tr>\n",
       "      <th>3</th>\n",
       "      <td>9.0</td>\n",
       "      <td>True</td>\n",
       "    </tr>\n",
       "    <tr>\n",
       "      <th>4</th>\n",
       "      <td>7.0</td>\n",
       "      <td>True</td>\n",
       "    </tr>\n",
       "    <tr>\n",
       "      <th>5</th>\n",
       "      <td>10.0</td>\n",
       "      <td>True</td>\n",
       "    </tr>\n",
       "    <tr>\n",
       "      <th>6</th>\n",
       "      <td>8.0</td>\n",
       "      <td>True</td>\n",
       "    </tr>\n",
       "    <tr>\n",
       "      <th>8</th>\n",
       "      <td>1.0</td>\n",
       "      <td>False</td>\n",
       "    </tr>\n",
       "    <tr>\n",
       "      <th>9</th>\n",
       "      <td>3.0</td>\n",
       "      <td>False</td>\n",
       "    </tr>\n",
       "    <tr>\n",
       "      <th>10</th>\n",
       "      <td>9.0</td>\n",
       "      <td>True</td>\n",
       "    </tr>\n",
       "  </tbody>\n",
       "</table>\n",
       "</div>"
      ],
      "text/plain": [
       "    Quantity  Bulk Purchase\n",
       "0       10.0           True\n",
       "1        9.0           True\n",
       "2        2.0          False\n",
       "3        9.0           True\n",
       "4        7.0           True\n",
       "5       10.0           True\n",
       "6        8.0           True\n",
       "8        1.0          False\n",
       "9        3.0          False\n",
       "10       9.0           True"
      ]
     },
     "execution_count": 225,
     "metadata": {},
     "output_type": "execute_result"
    }
   ],
   "source": [
    "df['Bulk Purchase'] = df['Quantity'] >= 6\n",
    "df[['Quantity', 'Bulk Purchase']].head(10)"
   ]
  },
  {
   "cell_type": "markdown",
   "id": "7e175dbe",
   "metadata": {},
   "source": [
    "After distinguishing bulk transactions from non-bulk transactions, we look at the differences in payment methods between the two categories.  We accomplished this by creating a cross-tabulation that displays the quantity of transactions for every payment method under every purchase category:"
   ]
  },
  {
   "cell_type": "code",
   "execution_count": 226,
   "id": "56368839",
   "metadata": {},
   "outputs": [
    {
     "data": {
      "text/html": [
       "<div>\n",
       "<style scoped>\n",
       "    .dataframe tbody tr th:only-of-type {\n",
       "        vertical-align: middle;\n",
       "    }\n",
       "\n",
       "    .dataframe tbody tr th {\n",
       "        vertical-align: top;\n",
       "    }\n",
       "\n",
       "    .dataframe thead th {\n",
       "        text-align: right;\n",
       "    }\n",
       "</style>\n",
       "<table border=\"1\" class=\"dataframe\">\n",
       "  <thead>\n",
       "    <tr style=\"text-align: right;\">\n",
       "      <th>Payment Method</th>\n",
       "      <th>Cash</th>\n",
       "      <th>Credit Card</th>\n",
       "      <th>Digital Wallet</th>\n",
       "    </tr>\n",
       "    <tr>\n",
       "      <th>Bulk Purchase</th>\n",
       "      <th></th>\n",
       "      <th></th>\n",
       "      <th></th>\n",
       "    </tr>\n",
       "  </thead>\n",
       "  <tbody>\n",
       "    <tr>\n",
       "      <th>False</th>\n",
       "      <td>2013</td>\n",
       "      <td>1976</td>\n",
       "      <td>1929</td>\n",
       "    </tr>\n",
       "    <tr>\n",
       "      <th>True</th>\n",
       "      <td>2090</td>\n",
       "      <td>1951</td>\n",
       "      <td>2012</td>\n",
       "    </tr>\n",
       "  </tbody>\n",
       "</table>\n",
       "</div>"
      ],
      "text/plain": [
       "Payment Method  Cash  Credit Card  Digital Wallet\n",
       "Bulk Purchase                                    \n",
       "False           2013         1976            1929\n",
       "True            2090         1951            2012"
      ]
     },
     "execution_count": 226,
     "metadata": {},
     "output_type": "execute_result"
    }
   ],
   "source": [
    "payment_counts = pd.crosstab(df['Bulk Purchase'], df['Payment Method'])\n",
    "payment_counts"
   ]
  },
  {
   "cell_type": "markdown",
   "id": "6b1ba49c",
   "metadata": {},
   "source": [
    "The raw number of times each payment method was utilized based on whether the transaction was a bulk or non-bulk purchase is displayed in this table. To better understand and compare the patterns, we used a grouped bar chart:"
   ]
  },
  {
   "cell_type": "code",
   "execution_count": 227,
   "id": "c2020573",
   "metadata": {},
   "outputs": [
    {
     "data": {
      "image/png": "[encoded data removed]",
      "text/plain": [
       "<Figure size 1000x600 with 1 Axes>"
      ]
     },
     "metadata": {},
     "output_type": "display_data"
    }
   ],
   "source": [
    "payment_counts.T.plot(kind='bar', figsize=(10,6))\n",
    "mpl.xlabel('Payment Method')\n",
    "mpl.ylabel('Number of Transactions')\n",
    "mpl.title('Payment Method Usage in Bulk vs Non-Bulk Purchases')\n",
    "mpl.legend(title='Bulk Purchase', labels=['Non-Bulk', 'Bulk'])\n",
    "mpl.grid(axis='y')\n",
    "mpl.tight_layout()\n",
    "mpl.show()"
   ]
  },
  {
   "cell_type": "markdown",
   "id": "4c04dcc0",
   "metadata": {},
   "source": [
    "From the resulting bar chart, a few distinct patterns emerge. Cash and digital wallets appear to be the most common payment methods for bulk purchases. This might suggest that customers who are making larger purchases prefer to use immediate or mobile-based payment options. On the other hand, credit cards are more dominant in non-bulk purchases, indicating that smaller purchases are more likely to be made using credit, possibly due to convenience or reward-point considerations.\n",
    "\n",
    "These patterns imply that payment methods vary depending on the kind of transaction.  While credit cards may be used more frequently for minor purchases, bulk buyers appear to favor quicker or more flexible choices like cash or digital wallets.  The visual distribution gives a clear indication that payment preferences change based on transaction size."
   ]
  },
  {
   "cell_type": "markdown",
   "id": "8fd59800",
   "metadata": {},
   "source": [
    "## Data Mining"
   ]
  },
  {
   "cell_type": "markdown",
   "id": "775810f9",
   "metadata": {},
   "source": [
    "For this portion, it's important to first identify what kind of Data Mining technique should be used. Since our Research Question is \"<b>When are customers willing to make bulk purchases?</b>,\" it's clear we're trying to identify any patterns and conditions that make bulk purchases likely to occur. For this reason, we will be using <b>Association Rule Mining</b> and the Python file `rule_miner.py` for this Data Mining section. "
   ]
  },
  {
   "cell_type": "code",
   "execution_count": 228,
   "id": "cceacbac",
   "metadata": {},
   "outputs": [],
   "source": [
    "from rule_miner import RuleMiner"
   ]
  },
  {
   "cell_type": "markdown",
   "id": "8ee6c735",
   "metadata": {},
   "source": [
    "But before we can actually use the `rule_miner.py` file, we need to make sure our dataset has been properly preprocessed."
   ]
  },
  {
   "cell_type": "markdown",
   "id": "57401fbe",
   "metadata": {},
   "source": [
    "### Data Preprocessing"
   ]
  },
  {
   "cell_type": "markdown",
   "id": "519efec5",
   "metadata": {},
   "source": [
    "Since we are dealing with Categorical data, let's use <b>One-Hot Encoding</b> to convert all our ncessary categorical data into numerical data that can be used by the `rule_miner.py` file. One way to do it is using the `.get_dummies` function built-in into Pandas."
   ]
  },
  {
   "cell_type": "code",
   "execution_count": 229,
   "id": "b12de339",
   "metadata": {},
   "outputs": [
    {
     "data": {
      "text/html": [
       "<div>\n",
       "<style scoped>\n",
       "    .dataframe tbody tr th:only-of-type {\n",
       "        vertical-align: middle;\n",
       "    }\n",
       "\n",
       "    .dataframe tbody tr th {\n",
       "        vertical-align: top;\n",
       "    }\n",
       "\n",
       "    .dataframe thead th {\n",
       "        text-align: right;\n",
       "    }\n",
       "</style>\n",
       "<table border=\"1\" class=\"dataframe\">\n",
       "  <thead>\n",
       "    <tr style=\"text-align: right;\">\n",
       "      <th></th>\n",
       "      <th>Category_Beverages</th>\n",
       "      <th>Category_Butchers</th>\n",
       "      <th>Category_Computers_and_electric_accessories</th>\n",
       "      <th>Category_Electric_household_essentials</th>\n",
       "      <th>Category_Food</th>\n",
       "      <th>Category_Furniture</th>\n",
       "      <th>Category_Milk_Products</th>\n",
       "      <th>Category_Patisserie</th>\n",
       "      <th>Payment_Method_Cash</th>\n",
       "      <th>Payment_Method_Credit_Card</th>\n",
       "      <th>...</th>\n",
       "      <th>Month_11</th>\n",
       "      <th>Month_12</th>\n",
       "      <th>Month_2</th>\n",
       "      <th>Month_3</th>\n",
       "      <th>Month_4</th>\n",
       "      <th>Month_5</th>\n",
       "      <th>Month_6</th>\n",
       "      <th>Month_7</th>\n",
       "      <th>Month_8</th>\n",
       "      <th>Month_9</th>\n",
       "    </tr>\n",
       "  </thead>\n",
       "  <tbody>\n",
       "    <tr>\n",
       "      <th>0</th>\n",
       "      <td>0</td>\n",
       "      <td>0</td>\n",
       "      <td>0</td>\n",
       "      <td>0</td>\n",
       "      <td>0</td>\n",
       "      <td>0</td>\n",
       "      <td>0</td>\n",
       "      <td>1</td>\n",
       "      <td>0</td>\n",
       "      <td>0</td>\n",
       "      <td>...</td>\n",
       "      <td>0</td>\n",
       "      <td>0</td>\n",
       "      <td>0</td>\n",
       "      <td>0</td>\n",
       "      <td>1</td>\n",
       "      <td>0</td>\n",
       "      <td>0</td>\n",
       "      <td>0</td>\n",
       "      <td>0</td>\n",
       "      <td>0</td>\n",
       "    </tr>\n",
       "    <tr>\n",
       "      <th>1</th>\n",
       "      <td>0</td>\n",
       "      <td>0</td>\n",
       "      <td>0</td>\n",
       "      <td>0</td>\n",
       "      <td>0</td>\n",
       "      <td>0</td>\n",
       "      <td>1</td>\n",
       "      <td>0</td>\n",
       "      <td>0</td>\n",
       "      <td>0</td>\n",
       "      <td>...</td>\n",
       "      <td>0</td>\n",
       "      <td>0</td>\n",
       "      <td>0</td>\n",
       "      <td>0</td>\n",
       "      <td>0</td>\n",
       "      <td>0</td>\n",
       "      <td>0</td>\n",
       "      <td>1</td>\n",
       "      <td>0</td>\n",
       "      <td>0</td>\n",
       "    </tr>\n",
       "    <tr>\n",
       "      <th>2</th>\n",
       "      <td>0</td>\n",
       "      <td>1</td>\n",
       "      <td>0</td>\n",
       "      <td>0</td>\n",
       "      <td>0</td>\n",
       "      <td>0</td>\n",
       "      <td>0</td>\n",
       "      <td>0</td>\n",
       "      <td>0</td>\n",
       "      <td>1</td>\n",
       "      <td>...</td>\n",
       "      <td>0</td>\n",
       "      <td>0</td>\n",
       "      <td>0</td>\n",
       "      <td>0</td>\n",
       "      <td>0</td>\n",
       "      <td>0</td>\n",
       "      <td>0</td>\n",
       "      <td>0</td>\n",
       "      <td>0</td>\n",
       "      <td>0</td>\n",
       "    </tr>\n",
       "    <tr>\n",
       "      <th>3</th>\n",
       "      <td>1</td>\n",
       "      <td>0</td>\n",
       "      <td>0</td>\n",
       "      <td>0</td>\n",
       "      <td>0</td>\n",
       "      <td>0</td>\n",
       "      <td>0</td>\n",
       "      <td>0</td>\n",
       "      <td>0</td>\n",
       "      <td>1</td>\n",
       "      <td>...</td>\n",
       "      <td>0</td>\n",
       "      <td>0</td>\n",
       "      <td>0</td>\n",
       "      <td>0</td>\n",
       "      <td>0</td>\n",
       "      <td>1</td>\n",
       "      <td>0</td>\n",
       "      <td>0</td>\n",
       "      <td>0</td>\n",
       "      <td>0</td>\n",
       "    </tr>\n",
       "    <tr>\n",
       "      <th>4</th>\n",
       "      <td>0</td>\n",
       "      <td>0</td>\n",
       "      <td>0</td>\n",
       "      <td>0</td>\n",
       "      <td>1</td>\n",
       "      <td>0</td>\n",
       "      <td>0</td>\n",
       "      <td>0</td>\n",
       "      <td>0</td>\n",
       "      <td>0</td>\n",
       "      <td>...</td>\n",
       "      <td>0</td>\n",
       "      <td>0</td>\n",
       "      <td>0</td>\n",
       "      <td>0</td>\n",
       "      <td>0</td>\n",
       "      <td>0</td>\n",
       "      <td>0</td>\n",
       "      <td>0</td>\n",
       "      <td>0</td>\n",
       "      <td>0</td>\n",
       "    </tr>\n",
       "    <tr>\n",
       "      <th>...</th>\n",
       "      <td>...</td>\n",
       "      <td>...</td>\n",
       "      <td>...</td>\n",
       "      <td>...</td>\n",
       "      <td>...</td>\n",
       "      <td>...</td>\n",
       "      <td>...</td>\n",
       "      <td>...</td>\n",
       "      <td>...</td>\n",
       "      <td>...</td>\n",
       "      <td>...</td>\n",
       "      <td>...</td>\n",
       "      <td>...</td>\n",
       "      <td>...</td>\n",
       "      <td>...</td>\n",
       "      <td>...</td>\n",
       "      <td>...</td>\n",
       "      <td>...</td>\n",
       "      <td>...</td>\n",
       "      <td>...</td>\n",
       "      <td>...</td>\n",
       "    </tr>\n",
       "    <tr>\n",
       "      <th>12570</th>\n",
       "      <td>0</td>\n",
       "      <td>0</td>\n",
       "      <td>0</td>\n",
       "      <td>0</td>\n",
       "      <td>0</td>\n",
       "      <td>0</td>\n",
       "      <td>0</td>\n",
       "      <td>1</td>\n",
       "      <td>0</td>\n",
       "      <td>1</td>\n",
       "      <td>...</td>\n",
       "      <td>0</td>\n",
       "      <td>0</td>\n",
       "      <td>0</td>\n",
       "      <td>0</td>\n",
       "      <td>0</td>\n",
       "      <td>0</td>\n",
       "      <td>0</td>\n",
       "      <td>0</td>\n",
       "      <td>0</td>\n",
       "      <td>1</td>\n",
       "    </tr>\n",
       "    <tr>\n",
       "      <th>12571</th>\n",
       "      <td>1</td>\n",
       "      <td>0</td>\n",
       "      <td>0</td>\n",
       "      <td>0</td>\n",
       "      <td>0</td>\n",
       "      <td>0</td>\n",
       "      <td>0</td>\n",
       "      <td>0</td>\n",
       "      <td>1</td>\n",
       "      <td>0</td>\n",
       "      <td>...</td>\n",
       "      <td>0</td>\n",
       "      <td>0</td>\n",
       "      <td>0</td>\n",
       "      <td>0</td>\n",
       "      <td>0</td>\n",
       "      <td>0</td>\n",
       "      <td>0</td>\n",
       "      <td>0</td>\n",
       "      <td>1</td>\n",
       "      <td>0</td>\n",
       "    </tr>\n",
       "    <tr>\n",
       "      <th>12572</th>\n",
       "      <td>0</td>\n",
       "      <td>1</td>\n",
       "      <td>0</td>\n",
       "      <td>0</td>\n",
       "      <td>0</td>\n",
       "      <td>0</td>\n",
       "      <td>0</td>\n",
       "      <td>0</td>\n",
       "      <td>1</td>\n",
       "      <td>0</td>\n",
       "      <td>...</td>\n",
       "      <td>0</td>\n",
       "      <td>0</td>\n",
       "      <td>0</td>\n",
       "      <td>0</td>\n",
       "      <td>0</td>\n",
       "      <td>0</td>\n",
       "      <td>0</td>\n",
       "      <td>0</td>\n",
       "      <td>1</td>\n",
       "      <td>0</td>\n",
       "    </tr>\n",
       "    <tr>\n",
       "      <th>12573</th>\n",
       "      <td>0</td>\n",
       "      <td>0</td>\n",
       "      <td>0</td>\n",
       "      <td>0</td>\n",
       "      <td>0</td>\n",
       "      <td>1</td>\n",
       "      <td>0</td>\n",
       "      <td>0</td>\n",
       "      <td>1</td>\n",
       "      <td>0</td>\n",
       "      <td>...</td>\n",
       "      <td>0</td>\n",
       "      <td>1</td>\n",
       "      <td>0</td>\n",
       "      <td>0</td>\n",
       "      <td>0</td>\n",
       "      <td>0</td>\n",
       "      <td>0</td>\n",
       "      <td>0</td>\n",
       "      <td>0</td>\n",
       "      <td>0</td>\n",
       "    </tr>\n",
       "    <tr>\n",
       "      <th>12574</th>\n",
       "      <td>0</td>\n",
       "      <td>0</td>\n",
       "      <td>0</td>\n",
       "      <td>0</td>\n",
       "      <td>1</td>\n",
       "      <td>0</td>\n",
       "      <td>0</td>\n",
       "      <td>0</td>\n",
       "      <td>1</td>\n",
       "      <td>0</td>\n",
       "      <td>...</td>\n",
       "      <td>0</td>\n",
       "      <td>0</td>\n",
       "      <td>0</td>\n",
       "      <td>0</td>\n",
       "      <td>0</td>\n",
       "      <td>0</td>\n",
       "      <td>0</td>\n",
       "      <td>0</td>\n",
       "      <td>1</td>\n",
       "      <td>0</td>\n",
       "    </tr>\n",
       "  </tbody>\n",
       "</table>\n",
       "<p>11971 rows × 23 columns</p>\n",
       "</div>"
      ],
      "text/plain": [
       "       Category_Beverages  Category_Butchers  \\\n",
       "0                       0                  0   \n",
       "1                       0                  0   \n",
       "2                       0                  1   \n",
       "3                       1                  0   \n",
       "4                       0                  0   \n",
       "...                   ...                ...   \n",
       "12570                   0                  0   \n",
       "12571                   1                  0   \n",
       "12572                   0                  1   \n",
       "12573                   0                  0   \n",
       "12574                   0                  0   \n",
       "\n",
       "       Category_Computers_and_electric_accessories  \\\n",
       "0                                                0   \n",
       "1                                                0   \n",
       "2                                                0   \n",
       "3                                                0   \n",
       "4                                                0   \n",
       "...                                            ...   \n",
       "12570                                            0   \n",
       "12571                                            0   \n",
       "12572                                            0   \n",
       "12573                                            0   \n",
       "12574                                            0   \n",
       "\n",
       "       Category_Electric_household_essentials  Category_Food  \\\n",
       "0                                           0              0   \n",
       "1                                           0              0   \n",
       "2                                           0              0   \n",
       "3                                           0              0   \n",
       "4                                           0              1   \n",
       "...                                       ...            ...   \n",
       "12570                                       0              0   \n",
       "12571                                       0              0   \n",
       "12572                                       0              0   \n",
       "12573                                       0              0   \n",
       "12574                                       0              1   \n",
       "\n",
       "       Category_Furniture  Category_Milk_Products  Category_Patisserie  \\\n",
       "0                       0                       0                    1   \n",
       "1                       0                       1                    0   \n",
       "2                       0                       0                    0   \n",
       "3                       0                       0                    0   \n",
       "4                       0                       0                    0   \n",
       "...                   ...                     ...                  ...   \n",
       "12570                   0                       0                    1   \n",
       "12571                   0                       0                    0   \n",
       "12572                   0                       0                    0   \n",
       "12573                   1                       0                    0   \n",
       "12574                   0                       0                    0   \n",
       "\n",
       "       Payment_Method_Cash  Payment_Method_Credit_Card  ...  Month_11  \\\n",
       "0                        0                           0  ...         0   \n",
       "1                        0                           0  ...         0   \n",
       "2                        0                           1  ...         0   \n",
       "3                        0                           1  ...         0   \n",
       "4                        0                           0  ...         0   \n",
       "...                    ...                         ...  ...       ...   \n",
       "12570                    0                           1  ...         0   \n",
       "12571                    1                           0  ...         0   \n",
       "12572                    1                           0  ...         0   \n",
       "12573                    1                           0  ...         0   \n",
       "12574                    1                           0  ...         0   \n",
       "\n",
       "       Month_12  Month_2  Month_3  Month_4  Month_5  Month_6  Month_7  \\\n",
       "0             0        0        0        1        0        0        0   \n",
       "1             0        0        0        0        0        0        1   \n",
       "2             0        0        0        0        0        0        0   \n",
       "3             0        0        0        0        1        0        0   \n",
       "4             0        0        0        0        0        0        0   \n",
       "...         ...      ...      ...      ...      ...      ...      ...   \n",
       "12570         0        0        0        0        0        0        0   \n",
       "12571         0        0        0        0        0        0        0   \n",
       "12572         0        0        0        0        0        0        0   \n",
       "12573         1        0        0        0        0        0        0   \n",
       "12574         0        0        0        0        0        0        0   \n",
       "\n",
       "       Month_8  Month_9  \n",
       "0            0        0  \n",
       "1            0        0  \n",
       "2            0        0  \n",
       "3            0        0  \n",
       "4            0        0  \n",
       "...        ...      ...  \n",
       "12570        0        1  \n",
       "12571        1        0  \n",
       "12572        1        0  \n",
       "12573        0        0  \n",
       "12574        1        0  \n",
       "\n",
       "[11971 rows x 23 columns]"
      ]
     },
     "execution_count": 229,
     "metadata": {},
     "output_type": "execute_result"
    }
   ],
   "source": [
    "df_features = ['Category', 'Payment Method', 'Month']\n",
    "df_encoded = pd.get_dummies(df[df_features].astype(str))\n",
    "\n",
    "#Convert from Dtype bool to int64\n",
    "df_encoded = df_encoded.replace({'True': 1, 'False': 0}).astype('int64')\n",
    "\n",
    "#Remove spaces from column names\n",
    "df_encoded.columns = df_encoded.columns.str.replace(' ', '_')\n",
    "\n",
    "df_encoded"
   ]
  },
  {
   "cell_type": "markdown",
   "id": "c706beae",
   "metadata": {},
   "source": [
    "We also need to include the columns `Location`, `Discount Applied`, and `Bulk Purchase` as they are relevant to answering our main research question. We did not initially include these in the One-Hot Encoding process because they're already numerical and/or binary data."
   ]
  },
  {
   "cell_type": "code",
   "execution_count": 230,
   "id": "39f569aa",
   "metadata": {},
   "outputs": [
    {
     "data": {
      "text/html": [
       "<div>\n",
       "<style scoped>\n",
       "    .dataframe tbody tr th:only-of-type {\n",
       "        vertical-align: middle;\n",
       "    }\n",
       "\n",
       "    .dataframe tbody tr th {\n",
       "        vertical-align: top;\n",
       "    }\n",
       "\n",
       "    .dataframe thead th {\n",
       "        text-align: right;\n",
       "    }\n",
       "</style>\n",
       "<table border=\"1\" class=\"dataframe\">\n",
       "  <thead>\n",
       "    <tr style=\"text-align: right;\">\n",
       "      <th></th>\n",
       "      <th>Location</th>\n",
       "      <th>Discount Applied</th>\n",
       "      <th>Bulk Purchase</th>\n",
       "    </tr>\n",
       "  </thead>\n",
       "  <tbody>\n",
       "    <tr>\n",
       "      <th>0</th>\n",
       "      <td>Online</td>\n",
       "      <td>True</td>\n",
       "      <td>True</td>\n",
       "    </tr>\n",
       "    <tr>\n",
       "      <th>1</th>\n",
       "      <td>Online</td>\n",
       "      <td>True</td>\n",
       "      <td>True</td>\n",
       "    </tr>\n",
       "    <tr>\n",
       "      <th>2</th>\n",
       "      <td>Online</td>\n",
       "      <td>False</td>\n",
       "      <td>False</td>\n",
       "    </tr>\n",
       "    <tr>\n",
       "      <th>3</th>\n",
       "      <td>Online</td>\n",
       "      <td>True</td>\n",
       "      <td>True</td>\n",
       "    </tr>\n",
       "    <tr>\n",
       "      <th>4</th>\n",
       "      <td>Online</td>\n",
       "      <td>False</td>\n",
       "      <td>True</td>\n",
       "    </tr>\n",
       "    <tr>\n",
       "      <th>...</th>\n",
       "      <td>...</td>\n",
       "      <td>...</td>\n",
       "      <td>...</td>\n",
       "    </tr>\n",
       "    <tr>\n",
       "      <th>12570</th>\n",
       "      <td>In-store</td>\n",
       "      <td>True</td>\n",
       "      <td>False</td>\n",
       "    </tr>\n",
       "    <tr>\n",
       "      <th>12571</th>\n",
       "      <td>Online</td>\n",
       "      <td>False</td>\n",
       "      <td>True</td>\n",
       "    </tr>\n",
       "    <tr>\n",
       "      <th>12572</th>\n",
       "      <td>Online</td>\n",
       "      <td>True</td>\n",
       "      <td>True</td>\n",
       "    </tr>\n",
       "    <tr>\n",
       "      <th>12573</th>\n",
       "      <td>Online</td>\n",
       "      <td>True</td>\n",
       "      <td>True</td>\n",
       "    </tr>\n",
       "    <tr>\n",
       "      <th>12574</th>\n",
       "      <td>Online</td>\n",
       "      <td>True</td>\n",
       "      <td>False</td>\n",
       "    </tr>\n",
       "  </tbody>\n",
       "</table>\n",
       "<p>11971 rows × 3 columns</p>\n",
       "</div>"
      ],
      "text/plain": [
       "       Location  Discount Applied  Bulk Purchase\n",
       "0        Online              True           True\n",
       "1        Online              True           True\n",
       "2        Online             False          False\n",
       "3        Online              True           True\n",
       "4        Online             False           True\n",
       "...         ...               ...            ...\n",
       "12570  In-store              True          False\n",
       "12571    Online             False           True\n",
       "12572    Online              True           True\n",
       "12573    Online              True           True\n",
       "12574    Online              True          False\n",
       "\n",
       "[11971 rows x 3 columns]"
      ]
     },
     "execution_count": 230,
     "metadata": {},
     "output_type": "execute_result"
    }
   ],
   "source": [
    "df[['Location', 'Discount Applied', 'Bulk Purchase']]"
   ]
  },
  {
   "cell_type": "markdown",
   "id": "aabc3aab",
   "metadata": {},
   "source": [
    "`Location` only has 2 values, being `Online` or `In-store`, so we can use it as a single column as long as we dictate which value should be seen as `1` and `0`. For this case, we'll make `Online` be `1` and rename the column to `Location_Online` in `df_encoded`."
   ]
  },
  {
   "cell_type": "code",
   "execution_count": 231,
   "id": "a3f93935",
   "metadata": {},
   "outputs": [
    {
     "data": {
      "text/plain": [
       "0        1\n",
       "1        1\n",
       "2        1\n",
       "3        1\n",
       "4        1\n",
       "        ..\n",
       "12570    0\n",
       "12571    1\n",
       "12572    1\n",
       "12573    1\n",
       "12574    1\n",
       "Name: Location_Online, Length: 11971, dtype: int64"
      ]
     },
     "execution_count": 231,
     "metadata": {},
     "output_type": "execute_result"
    }
   ],
   "source": [
    "df_encoded['Location_Online'] = df['Location'].map({'Online': 1, 'In-store': 0})\n",
    "df_encoded['Location_Online']"
   ]
  },
  {
   "cell_type": "markdown",
   "id": "498c3662",
   "metadata": {},
   "source": [
    "`Discount Applied` and `Bulk Purchase` already True/False values so we just need to convert them into `1` and `0`."
   ]
  },
  {
   "cell_type": "code",
   "execution_count": 232,
   "id": "b11d7bab",
   "metadata": {},
   "outputs": [
    {
     "data": {
      "text/html": [
       "<div>\n",
       "<style scoped>\n",
       "    .dataframe tbody tr th:only-of-type {\n",
       "        vertical-align: middle;\n",
       "    }\n",
       "\n",
       "    .dataframe tbody tr th {\n",
       "        vertical-align: top;\n",
       "    }\n",
       "\n",
       "    .dataframe thead th {\n",
       "        text-align: right;\n",
       "    }\n",
       "</style>\n",
       "<table border=\"1\" class=\"dataframe\">\n",
       "  <thead>\n",
       "    <tr style=\"text-align: right;\">\n",
       "      <th></th>\n",
       "      <th>Discount_Applied</th>\n",
       "      <th>Bulk_Purchase</th>\n",
       "    </tr>\n",
       "  </thead>\n",
       "  <tbody>\n",
       "    <tr>\n",
       "      <th>0</th>\n",
       "      <td>1</td>\n",
       "      <td>1</td>\n",
       "    </tr>\n",
       "    <tr>\n",
       "      <th>1</th>\n",
       "      <td>1</td>\n",
       "      <td>1</td>\n",
       "    </tr>\n",
       "    <tr>\n",
       "      <th>2</th>\n",
       "      <td>0</td>\n",
       "      <td>0</td>\n",
       "    </tr>\n",
       "    <tr>\n",
       "      <th>3</th>\n",
       "      <td>1</td>\n",
       "      <td>1</td>\n",
       "    </tr>\n",
       "    <tr>\n",
       "      <th>4</th>\n",
       "      <td>0</td>\n",
       "      <td>1</td>\n",
       "    </tr>\n",
       "    <tr>\n",
       "      <th>...</th>\n",
       "      <td>...</td>\n",
       "      <td>...</td>\n",
       "    </tr>\n",
       "    <tr>\n",
       "      <th>12570</th>\n",
       "      <td>1</td>\n",
       "      <td>0</td>\n",
       "    </tr>\n",
       "    <tr>\n",
       "      <th>12571</th>\n",
       "      <td>0</td>\n",
       "      <td>1</td>\n",
       "    </tr>\n",
       "    <tr>\n",
       "      <th>12572</th>\n",
       "      <td>1</td>\n",
       "      <td>1</td>\n",
       "    </tr>\n",
       "    <tr>\n",
       "      <th>12573</th>\n",
       "      <td>1</td>\n",
       "      <td>1</td>\n",
       "    </tr>\n",
       "    <tr>\n",
       "      <th>12574</th>\n",
       "      <td>1</td>\n",
       "      <td>0</td>\n",
       "    </tr>\n",
       "  </tbody>\n",
       "</table>\n",
       "<p>11971 rows × 2 columns</p>\n",
       "</div>"
      ],
      "text/plain": [
       "       Discount_Applied  Bulk_Purchase\n",
       "0                     1              1\n",
       "1                     1              1\n",
       "2                     0              0\n",
       "3                     1              1\n",
       "4                     0              1\n",
       "...                 ...            ...\n",
       "12570                 1              0\n",
       "12571                 0              1\n",
       "12572                 1              1\n",
       "12573                 1              1\n",
       "12574                 1              0\n",
       "\n",
       "[11971 rows x 2 columns]"
      ]
     },
     "execution_count": 232,
     "metadata": {},
     "output_type": "execute_result"
    }
   ],
   "source": [
    "df_encoded['Discount_Applied'] = df['Discount Applied'].map({True: 1, False: 0})\n",
    "df_encoded['Bulk_Purchase'] = df['Bulk Purchase'].map({True: 1, False: 0})\n",
    "\n",
    "df_encoded[['Discount_Applied', 'Bulk_Purchase']]"
   ]
  },
  {
   "cell_type": "markdown",
   "id": "4a02cb55",
   "metadata": {},
   "source": [
    "With Data Preprocessing done, we can move onto Association Rule Mining."
   ]
  },
  {
   "cell_type": "markdown",
   "id": "87ff16b8",
   "metadata": {},
   "source": [
    "### Association Rule Mining"
   ]
  },
  {
   "cell_type": "markdown",
   "id": "63ddc452",
   "metadata": {},
   "source": [
    "We begin by instantiating the `RuleMiner` class with a `support_t` of `30` and a `confidence_t` of `0.6`. The `support_t` and `confidence_t` were chosen to be `30` and `0.6` respectively because other pairs of values led to either hundreds of rules or none at all in the final result."
   ]
  },
  {
   "cell_type": "code",
   "execution_count": 233,
   "id": "1b142f5c",
   "metadata": {},
   "outputs": [],
   "source": [
    "rule_miner = RuleMiner(30, 0.6)"
   ]
  },
  {
   "cell_type": "markdown",
   "id": "dc63a8ae",
   "metadata": {},
   "source": [
    "Then we get the association rules using the `.get_association_rules` function from our `rule_miner.py` file."
   ]
  },
  {
   "cell_type": "code",
   "execution_count": 234,
   "id": "4ca3c1c5",
   "metadata": {},
   "outputs": [],
   "source": [
    "rules = rule_miner.get_association_rules(df_encoded)"
   ]
  },
  {
   "cell_type": "markdown",
   "id": "6f5fe332",
   "metadata": {},
   "source": [
    "Since our Research Question is specifically focused on when Bulk Purhcases happen, we want to specifically filter `rules` to only show what contains `Bulk_Purchase` in the right-hand side. We also want to know the confidence to see how certain these rules are."
   ]
  },
  {
   "cell_type": "code",
   "execution_count": 235,
   "id": "0d76cc46",
   "metadata": {},
   "outputs": [
    {
     "name": "stdout",
     "output_type": "stream",
     "text": [
      "['Category_Furniture', 'Discount_Applied', 'Location_Online', 'Month_9'] -> ['Bulk_Purchase'] | 0.61\n",
      "['Category_Milk_Products', 'Discount_Applied', 'Location_Online', 'Month_1'] -> ['Bulk_Purchase'] | 0.60\n",
      "['Discount_Applied', 'Location_Online', 'Month_2', 'Payment_Method_Digital_Wallet'] -> ['Bulk_Purchase'] | 0.62\n"
     ]
    }
   ],
   "source": [
    "# filter the rules so that only bulk purchase rules are returned\n",
    "bulk_purchase_rules = [\n",
    "    (lhs, rhs) for lhs, rhs in rules \n",
    "    if 'Bulk_Purchase' in rhs\n",
    "]\n",
    "\n",
    "# print the bulk purchase rules with their confidence\n",
    "for lhs, rhs in bulk_purchase_rules:\n",
    "    confidence = rule_miner.get_confidence(df_encoded, (lhs, rhs))\n",
    "    print(f\"{lhs} -> {rhs} | {confidence:.2f}\")"
   ]
  },
  {
   "cell_type": "markdown",
   "id": "d0822d7b",
   "metadata": {},
   "source": [
    "## Statistical Inference"
   ]
  },
  {
   "cell_type": "markdown",
   "id": "ebdbb195",
   "metadata": {},
   "source": [
    "The next step in the research for this data step is to verify our hypotheses via a series of hypothesis tests. Many of these tests were mentioned in their respective research questions, but they will be reiterated in this section with justification as to why that test is best suited to answer that question."
   ]
  },
  {
   "cell_type": "markdown",
   "id": "2323e578",
   "metadata": {},
   "source": [
    "### Test #1: Anova to test any statistically significant difference among the average price per unit of item bought per quantity group\n",
    "\n",
    "During the EDA, it was noted that there seemed to be no special patterns between the price per unit of item bought and the quantity of the items that were bought. However, even though we did a correlation test to prove that there is no correlation, it remains to be seen if there is a statistically significant difference among the average price per unit among the quantity groups. This is something important to test because it could clue us in if a certain quantity group has a higher or lower average price per unit compared to others, which could be a signifier of things like customer psyche.\n",
    "\n",
    "For this hypothesis test we will have the following:\n",
    "<br>\n",
    "<b> Null Hypothesis: </b> There is no statistically significant difference among the average prices spent per quantity\n",
    "<b> Alternative Hypothesis: </b> There is a statistically significant difference among the average prices spent per quantity\n",
    "\n",
    "We will be using a significance level of 0.05"
   ]
  },
  {
   "cell_type": "markdown",
   "id": "220315d9",
   "metadata": {},
   "source": [
    "Beginning with setting up the groups, let us first set up an array for each group of Quantity purchased"
   ]
  },
  {
   "cell_type": "code",
   "execution_count": 236,
   "id": "8ee24cb7",
   "metadata": {},
   "outputs": [],
   "source": [
    "group1 = []\n",
    "group2 = []\n",
    "group3 = []\n",
    "group4 = []\n",
    "group5 = []\n",
    "group6 = []\n",
    "group7 = []\n",
    "group8 =[]\n",
    "group9 = []\n",
    "group10 = []"
   ]
  },
  {
   "cell_type": "markdown",
   "id": "6be1ebc5",
   "metadata": {},
   "source": [
    "Now that each quantity group has its own array, we will pass all the observations into their respective array"
   ]
  },
  {
   "cell_type": "code",
   "execution_count": 237,
   "id": "43b41b01",
   "metadata": {},
   "outputs": [],
   "source": [
    "\n",
    "groupMap = {\n",
    "    1: group1, 2: group2, 3: group3, 4: group4, 5: group5,\n",
    "    6: group6, 7: group7, 8: group8, 9: group9, 10: group10\n",
    "}\n",
    "\n",
    "\n",
    "\n",
    "for _,row in df.iterrows():\n",
    "    amnt = row['Quantity']\n",
    "    price = row['Price Per Unit']\n",
    "    if amnt in groupMap:\n",
    "        groupMap[amnt].append(price)\n",
    "\n"
   ]
  },
  {
   "cell_type": "markdown",
   "id": "ac247178",
   "metadata": {},
   "source": [
    "With each quantity group now assigned its proper price observations, we can now perform the anova and the f-statistic and its corresponding p-score"
   ]
  },
  {
   "cell_type": "code",
   "execution_count": 238,
   "id": "9c778888",
   "metadata": {},
   "outputs": [
    {
     "name": "stdout",
     "output_type": "stream",
     "text": [
      "F-Statistic: 0.79\n",
      "P-Score: 0.63\n"
     ]
    }
   ],
   "source": [
    "fstat, pscore = stats.f_oneway(group1,group2,group3,group4,group5,group6,group7,group8,group9,group10)\n",
    "print(\"F-Statistic: {:.2f}\".format(fstat))\n",
    "print(\"P-Score: {:.2f}\".format(pscore))"
   ]
  },
  {
   "cell_type": "markdown",
   "id": "63de3900",
   "metadata": {},
   "source": [
    "With the P-Score being well above 0.05, we <b> fail to reject </b> the null hypothesis. Thus, we have to believe that there is no significant difference between the average prices per quantity of item. This further supports our earlier hypothesis that there is no correlation/relationship between the two variables."
   ]
  },
  {
   "cell_type": "markdown",
   "id": "110ccaba",
   "metadata": {},
   "source": [
    "### Test #2: Anova to test for any statistically significant differences among the total price of purchase per quantity group\n"
   ]
  },
  {
   "cell_type": "markdown",
   "id": "81901cdf",
   "metadata": {},
   "source": [
    "During the EDA, we found a potentially interesting relationship between the total price of the transaction and the number of items bought. And while the correlation test yielded results of no correlation, it is still important to test if there are any statistically significant differences among these groups. Thus, the second question has a similar setup to the first, and has a similar hypothesis test. Similar to the previous question, while we had performed a correlation test and came to the conclusion that a relationship was unlikely, we can do further testing via and anova. By seeing if the average total spent per purchase has a statistical difference or not, we can have a more concrete answer as to whether or not these two variables have a relationship. Thus, we set the hypothesis as so:\n",
    "\n",
    "<br>\n",
    "<b> Null Hypothesis: </b> There is no statistically significant difference among the average total per quantity\n",
    "\n",
    "<b> Alternative Hypothesis: </b> There is a statistically significant difference among the average total per quantity\n",
    "\n",
    "We can use a smiliar setup as we did last time, first let us map the total price to their proper categories"
   ]
  },
  {
   "cell_type": "code",
   "execution_count": 239,
   "id": "deeccb7e",
   "metadata": {},
   "outputs": [],
   "source": [
    "totalgroup1 = []\n",
    "totalgroup2 = []\n",
    "totalgroup3 = []\n",
    "totalgroup4 = []\n",
    "totalgroup5 = []\n",
    "totalgroup6 = []\n",
    "totalgroup7 = []\n",
    "totalgroup8 = []\n",
    "totalgroup9 = []\n",
    "totalgroup10 = []\n",
    "\n",
    "\n",
    "groupMap = {\n",
    "    1: totalgroup1, 2: totalgroup2, 3: totalgroup3, 4: totalgroup4, 5: totalgroup5,\n",
    "    6: totalgroup6, 7: totalgroup7, 8: totalgroup8, 9: totalgroup9, 10: totalgroup10\n",
    "}\n",
    "\n",
    "\n",
    "\n",
    "for _,row in df.iterrows():\n",
    "    amnt = row['Quantity']\n",
    "    total = row['Total Spent']\n",
    "    if amnt in groupMap:\n",
    "        groupMap[amnt].append(total)\n"
   ]
  },
  {
   "cell_type": "markdown",
   "id": "0edf1a95",
   "metadata": {},
   "source": [
    "Now, let us get the do the annova"
   ]
  },
  {
   "cell_type": "code",
   "execution_count": 240,
   "id": "055deea0",
   "metadata": {},
   "outputs": [
    {
     "name": "stdout",
     "output_type": "stream",
     "text": [
      "F-Statistic: 1851.29\n",
      "P-Score: 0.00\n"
     ]
    }
   ],
   "source": [
    "fstat, pscore = stats.f_oneway(totalgroup1,totalgroup2,totalgroup3,totalgroup4,totalgroup5,totalgroup6,totalgroup7,totalgroup8,group9,group10)\n",
    "print(\"F-Statistic: {:.2f}\".format(fstat))\n",
    "print(\"P-Score: {:.2f}\".format(pscore))"
   ]
  },
  {
   "cell_type": "markdown",
   "id": "3b4d25dd",
   "metadata": {},
   "source": [
    "This shows a very strong result. The fact that the P-Score is 0.00 suggests that the true score is much lower than 0.00. Thus with this score being much lower than 0.05, we can <b> reject the null hypothesis </b> and believe that there is a statistically significant difference among the groups. This, combined with the graphs from our earlier hypothesis, lends us to believe that there <b> is </b> a relationship between the amount of items that people buy and the total amount spent per purchase.\n",
    "\n",
    "\n",
    "### Test #3: Is there a correlation between bulk purchases and the application of discounts?\n",
    "\n",
    "The next hypothesis is based on the findings of the bulk purchases and the application of discounts in the EDA. It was found that among the bulk purchases, a large majority of them are made with a discount being applied. Thus, it was hypothesized that these two variables share a relationship. In order to test if that is the case, we will be using a Chi-Square Test of Independence as this is the best way to check for correlation between two categorical variables. The test will be set up as follows:\n",
    "\n",
    "<b> Null Hypothesis: </b> There is no relationship between the two variables\n",
    "\n",
    "<b> Alternative Hypothesis: </b> There is a relationship between the two variables\n",
    "\n",
    "We will be using a significance level of 0.05\n",
    "\n",
    "We can first start by compiling the two categories into a single table\n"
   ]
  },
  {
   "cell_type": "code",
   "execution_count": 241,
   "id": "e047cdc9",
   "metadata": {},
   "outputs": [
    {
     "data": {
      "text/html": [
       "<div>\n",
       "<style scoped>\n",
       "    .dataframe tbody tr th:only-of-type {\n",
       "        vertical-align: middle;\n",
       "    }\n",
       "\n",
       "    .dataframe tbody tr th {\n",
       "        vertical-align: top;\n",
       "    }\n",
       "\n",
       "    .dataframe thead th {\n",
       "        text-align: right;\n",
       "    }\n",
       "</style>\n",
       "<table border=\"1\" class=\"dataframe\">\n",
       "  <thead>\n",
       "    <tr style=\"text-align: right;\">\n",
       "      <th>Discount Applied</th>\n",
       "      <th>False</th>\n",
       "      <th>True</th>\n",
       "    </tr>\n",
       "    <tr>\n",
       "      <th>Bulk Purchase</th>\n",
       "      <th></th>\n",
       "      <th></th>\n",
       "    </tr>\n",
       "  </thead>\n",
       "  <tbody>\n",
       "    <tr>\n",
       "      <th>False</th>\n",
       "      <td>1949</td>\n",
       "      <td>3969</td>\n",
       "    </tr>\n",
       "    <tr>\n",
       "      <th>True</th>\n",
       "      <td>2015</td>\n",
       "      <td>4038</td>\n",
       "    </tr>\n",
       "  </tbody>\n",
       "</table>\n",
       "</div>"
      ],
      "text/plain": [
       "Discount Applied  False  True \n",
       "Bulk Purchase                 \n",
       "False              1949   3969\n",
       "True               2015   4038"
      ]
     },
     "execution_count": 241,
     "metadata": {},
     "output_type": "execute_result"
    }
   ],
   "source": [
    "discountbulktable = pd.crosstab(df['Bulk Purchase'], df['Discount Applied'])\n",
    "discountbulktable"
   ]
  },
  {
   "cell_type": "markdown",
   "id": "190ca97b",
   "metadata": {},
   "source": [
    "Now that we have a table, we can use Pearson's Chi-Square Test of Independence with the function chi2_contingency()"
   ]
  },
  {
   "cell_type": "code",
   "execution_count": 242,
   "id": "7817c038",
   "metadata": {},
   "outputs": [
    {
     "name": "stdout",
     "output_type": "stream",
     "text": [
      "P-Value: 0.69\n"
     ]
    }
   ],
   "source": [
    "chi2, pvalue, dof, expected = stats.chi2_contingency(discountbulktable)\n",
    "print(\"P-Value: {:.2f}\".format(pvalue))"
   ]
  },
  {
   "cell_type": "markdown",
   "id": "29ba652c",
   "metadata": {},
   "source": [
    "With a P Score of 0.69, well over 0.05, we <b> fail to reject </b> the null hypothesis and conclude that there is no correlative relationship between the application of a discount and whether or not the customer will make a bulk purchase.\n",
    "\n",
    "\n",
    "### Test 4: Using Chi-Square Test of good fit to check if the distribution per month of bulk purchases matches the distribution of the whole dataset \n",
    "\n",
    "During EDA, we found that a large majority of bulk purchases were made in January. To test if the distribution seen in the EDA matches what is found in the whole database, we will be performing another Chi square test. We will set the hypothesis test as thus:\n",
    "\n",
    "<b> Null Hypothesis: </b> The distribution of bulk orders per month is representative of the entire dataset\n",
    "\n",
    "<b> Alternative Hypothesis: </b> The distribution of bulk orders per month is not representative of the entire dataset\n",
    "\n",
    "We will be using a significance level of 0.05\n",
    "\n",
    "Let's start by getting the expected amount of observations"
   ]
  },
  {
   "cell_type": "code",
   "execution_count": 243,
   "id": "23d0a762",
   "metadata": {},
   "outputs": [
    {
     "name": "stdout",
     "output_type": "stream",
     "text": [
      "Month\n",
      "1     1093\n",
      "2      916\n",
      "3      965\n",
      "4      953\n",
      "5      978\n",
      "6      991\n",
      "7     1039\n",
      "8      992\n",
      "9      984\n",
      "10     934\n",
      "11     950\n",
      "12     974\n",
      "Name: count, dtype: int64\n"
     ]
    }
   ],
   "source": [
    "expectedMonthObservations = df[df['Year'] != 2025]\n",
    "expectedMonthObservations = expectedMonthObservations['Month'].value_counts().sort_index()\n",
    "print(expectedMonthObservations)\n",
    "\n"
   ]
  },
  {
   "cell_type": "markdown",
   "id": "e99451a3",
   "metadata": {},
   "source": [
    "We can use the previously defined \"df_no2025\" as the observations of the sample"
   ]
  },
  {
   "cell_type": "code",
   "execution_count": 244,
   "id": "c86d600f",
   "metadata": {},
   "outputs": [
    {
     "name": "stdout",
     "output_type": "stream",
     "text": [
      "Month\n",
      "1     570\n",
      "2     476\n",
      "3     474\n",
      "4     490\n",
      "5     491\n",
      "6     503\n",
      "7     523\n",
      "8     478\n",
      "9     496\n",
      "10    472\n",
      "11    468\n",
      "12    515\n",
      "Name: count, dtype: int64\n"
     ]
    }
   ],
   "source": [
    "sampleMonthObservations = df_no2025['Month'].value_counts().sort_index()\n",
    "print(sampleMonthObservations)"
   ]
  },
  {
   "cell_type": "markdown",
   "id": "7dda4ef2",
   "metadata": {},
   "source": [
    "Before using the chi square function, we must first scale down the full observations to the size of the sample observations"
   ]
  },
  {
   "cell_type": "code",
   "execution_count": 245,
   "id": "1fee65d7",
   "metadata": {},
   "outputs": [],
   "source": [
    "expectedMonthObservations = expectedMonthObservations * (sampleMonthObservations.sum()/expectedMonthObservations.sum())"
   ]
  },
  {
   "cell_type": "markdown",
   "id": "e02ff212",
   "metadata": {},
   "source": [
    "Finally, we can use the chi square function in order to get the chi statistic and the p-value"
   ]
  },
  {
   "cell_type": "code",
   "execution_count": 246,
   "id": "05ab5990",
   "metadata": {},
   "outputs": [
    {
     "name": "stdout",
     "output_type": "stream",
     "text": [
      "Chi square statistic: 3.93\n",
      "P Score: 0.97\n"
     ]
    }
   ],
   "source": [
    "monthChi2, monthPscore = stats.chisquare(sampleMonthObservations, expectedMonthObservations)\n",
    "print(\"Chi square statistic: {:.2f}\".format(monthChi2))\n",
    "print(\"P Score: {:.2f}\".format(monthPscore))"
   ]
  },
  {
   "cell_type": "markdown",
   "id": "71244142",
   "metadata": {},
   "source": [
    "Similar to the previous hypothesis test, we <b> fail to reject </b> the null hypothesis. Meaning that it is likely that the distribution of bulk orders per month is representative of the distribution of orders per month in general. This means that it is likely that there is no special relationship between any month variable and the likelihood of making bulk purchases.\n",
    "\n",
    "###  Test #5: Checking the correlation between payment method and bulk purchases\n",
    "\n",
    "During the EDA, we compared the distributions of the different kinds of payment methods and the bulk purchases and hypothesized that the two variabales may have  a relationship. In order to verify if there is a statistically significant relationship, a Pearson's Chi-Square Test will be performed.\n",
    "\n",
    "This hypothesis test is set up in the following way:\n",
    "\n",
    "<b> Null Hypothesis: </b> There is no statistically significant relationship between bulk purchases and the method of payment\n",
    "\n",
    "<b> Alternative Hypothesis: </b> There is a statistically sginificant relationship between bulk purchases and the method of payment\n",
    "\n",
    "We can use the previously defined payment_counts to call the chi2_contingency() function which performs this test automatically"
   ]
  },
  {
   "cell_type": "code",
   "execution_count": 247,
   "id": "d10d08ca",
   "metadata": {},
   "outputs": [
    {
     "name": "stdout",
     "output_type": "stream",
     "text": [
      "P-Value: 0.40\n"
     ]
    }
   ],
   "source": [
    "chi2, pvalue, dof, expected = stats.chi2_contingency(payment_counts)\n",
    "print(\"P-Value: {:.2f}\".format(pvalue))"
   ]
  },
  {
   "cell_type": "markdown",
   "id": "e3601f48",
   "metadata": {},
   "source": [
    "With a P-Value of 0.4, we <b> fail to dismiss </b> the null hypothesis, which means there is no correlation or statsitically significant relationship between the method of payment used in the transaction and whether or not that transaction is considered a bulk purchase."
   ]
  },
  {
   "cell_type": "markdown",
   "id": "bce6e099",
   "metadata": {},
   "source": [
    "## Conclusion\n",
    "\n",
    "In this study, we began with a raw, unrefined dataset simulating retail store sales and undertook a thorough data cleaning process to prepare it for meaningful analysis. We addressed a number of data quality concerns that frequently occur in real-world data science, such as inconsistent formatting, missing values, and inaccurate data types. Through systematic preprocessing, we were able to successfully  convert the dataset into a clean, structured format that is appropriate for exploratory data analysis (EDA). \n",
    "\n",
    "The research question \"When are customers willing to make bulk purchases?\" served as our guide as we carried out a number of focused investigations. We found that bulk purchases—defined as transactions with six or more items—are most common in the month of January, suggesting seasonal trends in purchasing behavior. We also identified that while non-bulk buyers are more likely to use credit cards, bulk buyers are more likely to obtain discounts and prefer payment options like cash and digital wallets. Furthermore, there was no significant association between price per unit and purchase quantity, while there was a modest but positive correlation between total spending and quantity purchased.\n",
    "\n",
    "Overall, our study reveals a number of behavioral patterns that might guide retail decision-making, especially when it comes to payment system optimization, marketing tactics, and promotional planning.  While the dataset is simulated and not representative of any specific business,   the steps taken and the knowledge acquired are similar to the challenges and outcomes that are common in real-world retail analytics.\n"
   ]
  }
 ],
 "metadata": {
  "kernelspec": {
   "display_name": "base",
   "language": "python",
   "name": "python3"
  },
  "language_info": {
   "codemirror_mode": {
    "name": "ipython",
    "version": 3
   },
   "file_extension": ".py",
   "mimetype": "text/x-python",
   "name": "python",
   "nbconvert_exporter": "python",
   "pygments_lexer": "ipython3",
   "version": "3.12.7"
  }
 },
 "nbformat": 4,
 "nbformat_minor": 5
}
