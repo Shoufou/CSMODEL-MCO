{
 "cells": [
  {
   "cell_type": "markdown",
   "id": "2a4de9ec",
   "metadata": {},
   "source": [
    "## Dataset Description\n",
    "\n",
    "### Dataset Overview\n",
    "\n",
    "The dataset used for this research, \"Retail Store Sales - Dirty for Data Cleaning\", simulates a point-of-sale transaction in a retail store. Specifically, it was made for practicing data analysis and cleaning. Several weaknesses that are frequently present in real-world business datasets, including missing values, inconsistent formats, and potential duplication, are included in the data, which is constructed to reflect actual retail transactions. "
   ]
  },
  {
   "cell_type": "markdown",
   "id": "61f6a289",
   "metadata": {},
   "source": [
    "### Data Source and Collection"
   ]
  },
  {
   "cell_type": "markdown",
   "id": "81cfbf86",
   "metadata": {},
   "source": [
    "This dataset is publicly available on Kaggle, created by Ahmed Mohammed. It was formulated to represent the real world complex nature of transactional sales records observed in retail settings. For instructional and analytical reasons, the dataset is structured to mimic realistic scenarios, even if it is not based on the records of a real business."
   ]
  },
  {
   "cell_type": "markdown",
   "id": "0511d54d",
   "metadata": {},
   "source": [
    "### Potential Implications of Data Collection"
   ]
  },
  {
   "cell_type": "markdown",
   "id": "53b20765",
   "metadata": {},
   "source": [
    "The dataset is simulated, thus it is free of the sampling biases and privacy issues that are usually present in real-world data.  But before any substantial analysis can occur, its purposeful roughness motivates students to use the proper data cleaning techniques.  The difficulties this dataset poses are reflective of real data management issues that arise in real life, even if the insights it offers might not be directly applicable to actual businesses."
   ]
  },
  {
   "cell_type": "markdown",
   "id": "31e7c43a",
   "metadata": {},
   "source": [
    "### Structure of Data\n",
    "\n",
    "The dataset is presented in a tabular format, where: \n",
    "\n",
    "- Rows represents a unique sales transaction\n",
    "- Columns represents an important attribute of the transaction (e.g., item, quantity, payment method, etc.)\n",
    "- The dataset contains 12,575 observations."
   ]
  },
  {
   "cell_type": "markdown",
   "id": "c0dfd2c9",
   "metadata": {},
   "source": [
    "### Attribute Description\n",
    "\n",
    "- Transaction ID - A unique identifier for each transaction. \n",
    "- Customer ID - A unique identifier for each costumer. \n",
    "- Category - The category of the purchased item. \n",
    "- Item - The name of the purchased item. \n",
    "- Price Per Unit - The statistic price of a single unit of the item. \n",
    "- Quantity - The quantity of the item purchased. \n",
    "- Total Spent - The total amount spent on the transaction. \n",
    "- Payment Method - The method of payment used. \n",
    "- Location - The location where the transaction occured. \n",
    "- Transaction Date - The date of the transaction. \n",
    "- Discount Applied - Whether discount is applied or not. "
   ]
  },
  {
   "cell_type": "markdown",
   "id": "5b355b7b",
   "metadata": {},
   "source": [
    "## Data Cleaning"
   ]
  },
  {
   "cell_type": "markdown",
   "id": "5efea5c8",
   "metadata": {},
   "source": [
    "Before any Exploratory Data Analysis can be done to answer our research questions with the dataset, we have to clean the data first in case there are any issues that may result in problems with the analysis."
   ]
  },
  {
   "cell_type": "markdown",
   "id": "1538fcfd",
   "metadata": {},
   "source": [
    "### Importing, Loading and Reading the Dataset"
   ]
  },
  {
   "cell_type": "markdown",
   "id": "15b2f0e2",
   "metadata": {},
   "source": [
    "We begin by importing all the necessary libraries before starting the actual Data Cleaning process."
   ]
  },
  {
   "cell_type": "code",
   "execution_count": 3,
   "id": "8497d786",
   "metadata": {},
   "outputs": [],
   "source": [
    "import numpy as np\n",
    "import pandas as pd\n",
    "import matplotlib.pyplot as mpl"
   ]
  },
  {
   "cell_type": "markdown",
   "id": "24154155",
   "metadata": {},
   "source": [
    "Next, we load the dataset and call the `.head()` function to view a snippet of the dataset's contents."
   ]
  },
  {
   "cell_type": "code",
   "execution_count": 4,
   "id": "b39137ef",
   "metadata": {},
   "outputs": [
    {
     "data": {
      "text/html": [
       "<div>\n",
       "<style scoped>\n",
       "    .dataframe tbody tr th:only-of-type {\n",
       "        vertical-align: middle;\n",
       "    }\n",
       "\n",
       "    .dataframe tbody tr th {\n",
       "        vertical-align: top;\n",
       "    }\n",
       "\n",
       "    .dataframe thead th {\n",
       "        text-align: right;\n",
       "    }\n",
       "</style>\n",
       "<table border=\"1\" class=\"dataframe\">\n",
       "  <thead>\n",
       "    <tr style=\"text-align: right;\">\n",
       "      <th></th>\n",
       "      <th>Transaction ID</th>\n",
       "      <th>Customer ID</th>\n",
       "      <th>Category</th>\n",
       "      <th>Item</th>\n",
       "      <th>Price Per Unit</th>\n",
       "      <th>Quantity</th>\n",
       "      <th>Total Spent</th>\n",
       "      <th>Payment Method</th>\n",
       "      <th>Location</th>\n",
       "      <th>Transaction Date</th>\n",
       "      <th>Discount Applied</th>\n",
       "    </tr>\n",
       "  </thead>\n",
       "  <tbody>\n",
       "    <tr>\n",
       "      <th>0</th>\n",
       "      <td>TXN_6867343</td>\n",
       "      <td>CUST_09</td>\n",
       "      <td>Patisserie</td>\n",
       "      <td>Item_10_PAT</td>\n",
       "      <td>18.5</td>\n",
       "      <td>10.0</td>\n",
       "      <td>185.0</td>\n",
       "      <td>Digital Wallet</td>\n",
       "      <td>Online</td>\n",
       "      <td>2024-04-08</td>\n",
       "      <td>True</td>\n",
       "    </tr>\n",
       "    <tr>\n",
       "      <th>1</th>\n",
       "      <td>TXN_3731986</td>\n",
       "      <td>CUST_22</td>\n",
       "      <td>Milk Products</td>\n",
       "      <td>Item_17_MILK</td>\n",
       "      <td>29.0</td>\n",
       "      <td>9.0</td>\n",
       "      <td>261.0</td>\n",
       "      <td>Digital Wallet</td>\n",
       "      <td>Online</td>\n",
       "      <td>2023-07-23</td>\n",
       "      <td>True</td>\n",
       "    </tr>\n",
       "    <tr>\n",
       "      <th>2</th>\n",
       "      <td>TXN_9303719</td>\n",
       "      <td>CUST_02</td>\n",
       "      <td>Butchers</td>\n",
       "      <td>Item_12_BUT</td>\n",
       "      <td>21.5</td>\n",
       "      <td>2.0</td>\n",
       "      <td>43.0</td>\n",
       "      <td>Credit Card</td>\n",
       "      <td>Online</td>\n",
       "      <td>2022-10-05</td>\n",
       "      <td>False</td>\n",
       "    </tr>\n",
       "    <tr>\n",
       "      <th>3</th>\n",
       "      <td>TXN_9458126</td>\n",
       "      <td>CUST_06</td>\n",
       "      <td>Beverages</td>\n",
       "      <td>Item_16_BEV</td>\n",
       "      <td>27.5</td>\n",
       "      <td>9.0</td>\n",
       "      <td>247.5</td>\n",
       "      <td>Credit Card</td>\n",
       "      <td>Online</td>\n",
       "      <td>2022-05-07</td>\n",
       "      <td>NaN</td>\n",
       "    </tr>\n",
       "    <tr>\n",
       "      <th>4</th>\n",
       "      <td>TXN_4575373</td>\n",
       "      <td>CUST_05</td>\n",
       "      <td>Food</td>\n",
       "      <td>Item_6_FOOD</td>\n",
       "      <td>12.5</td>\n",
       "      <td>7.0</td>\n",
       "      <td>87.5</td>\n",
       "      <td>Digital Wallet</td>\n",
       "      <td>Online</td>\n",
       "      <td>2022-10-02</td>\n",
       "      <td>False</td>\n",
       "    </tr>\n",
       "  </tbody>\n",
       "</table>\n",
       "</div>"
      ],
      "text/plain": [
       "  Transaction ID Customer ID       Category          Item  Price Per Unit  \\\n",
       "0    TXN_6867343     CUST_09     Patisserie   Item_10_PAT            18.5   \n",
       "1    TXN_3731986     CUST_22  Milk Products  Item_17_MILK            29.0   \n",
       "2    TXN_9303719     CUST_02       Butchers   Item_12_BUT            21.5   \n",
       "3    TXN_9458126     CUST_06      Beverages   Item_16_BEV            27.5   \n",
       "4    TXN_4575373     CUST_05           Food   Item_6_FOOD            12.5   \n",
       "\n",
       "   Quantity  Total Spent  Payment Method Location Transaction Date  \\\n",
       "0      10.0        185.0  Digital Wallet   Online       2024-04-08   \n",
       "1       9.0        261.0  Digital Wallet   Online       2023-07-23   \n",
       "2       2.0         43.0     Credit Card   Online       2022-10-05   \n",
       "3       9.0        247.5     Credit Card   Online       2022-05-07   \n",
       "4       7.0         87.5  Digital Wallet   Online       2022-10-02   \n",
       "\n",
       "  Discount Applied  \n",
       "0             True  \n",
       "1             True  \n",
       "2            False  \n",
       "3              NaN  \n",
       "4            False  "
      ]
     },
     "execution_count": 4,
     "metadata": {},
     "output_type": "execute_result"
    }
   ],
   "source": [
    "df = pd.read_csv('retail_store_sales.csv')\n",
    "df.head()"
   ]
  },
  {
   "cell_type": "markdown",
   "id": "279fb06e",
   "metadata": {},
   "source": [
    "Then the `.info()` function to view general information about the dataset."
   ]
  },
  {
   "cell_type": "code",
   "execution_count": 5,
   "id": "73ea5307",
   "metadata": {},
   "outputs": [
    {
     "name": "stdout",
     "output_type": "stream",
     "text": [
      "<class 'pandas.core.frame.DataFrame'>\n",
      "RangeIndex: 12575 entries, 0 to 12574\n",
      "Data columns (total 11 columns):\n",
      " #   Column            Non-Null Count  Dtype  \n",
      "---  ------            --------------  -----  \n",
      " 0   Transaction ID    12575 non-null  object \n",
      " 1   Customer ID       12575 non-null  object \n",
      " 2   Category          12575 non-null  object \n",
      " 3   Item              11362 non-null  object \n",
      " 4   Price Per Unit    11966 non-null  float64\n",
      " 5   Quantity          11971 non-null  float64\n",
      " 6   Total Spent       11971 non-null  float64\n",
      " 7   Payment Method    12575 non-null  object \n",
      " 8   Location          12575 non-null  object \n",
      " 9   Transaction Date  12575 non-null  object \n",
      " 10  Discount Applied  8376 non-null   object \n",
      "dtypes: float64(3), object(8)\n",
      "memory usage: 1.1+ MB\n"
     ]
    }
   ],
   "source": [
    "df.info()"
   ]
  },
  {
   "cell_type": "markdown",
   "id": "0484d1a3",
   "metadata": {},
   "source": [
    "This tells us that the dataset contains 12575 entries, but more importantly, we can quickly identify (3) potential issues we'll need to resolve as we go through the Data Cleaning process:\n",
    "\n",
    "1. The `Discount Applied` column uses a Dtype of `object` rather than `boolean`.\n",
    "\n",
    "2. The `Transaction Date` column uses a Dtype of `object` rather than `datetime64[ns]`. But since it also contains day, month, and year in one column, we can split these into their own respective Dtype `int64` columns.\n",
    "\n",
    "3. The columns `Item`, `Price Per Unit`, `Quantity`, `Total Spent`, and `Discount Applied` all contain null values. Thus, we'll need to look into any inconsistencies or issues with these columns.\n",
    "\n",
    "But before investigating these specific dataset issues, we'll start off with some preliminary checks by looking for duplicate values and duplicate categorical representations."
   ]
  },
  {
   "cell_type": "markdown",
   "id": "30dfe1f7",
   "metadata": {},
   "source": [
    "### Duplicate Values"
   ]
  },
  {
   "cell_type": "code",
   "execution_count": 6,
   "id": "5204131a",
   "metadata": {},
   "outputs": [
    {
     "data": {
      "text/plain": [
       "np.int64(0)"
      ]
     },
     "execution_count": 6,
     "metadata": {},
     "output_type": "execute_result"
    }
   ],
   "source": [
    "df.duplicated().sum()"
   ]
  },
  {
   "cell_type": "markdown",
   "id": "69bea3b0",
   "metadata": {},
   "source": [
    "This dataset contains no duplicate values, so **no issues** there."
   ]
  },
  {
   "cell_type": "markdown",
   "id": "eee50334",
   "metadata": {},
   "source": [
    "### Multiple Representations of the Same Categorical Value"
   ]
  },
  {
   "cell_type": "markdown",
   "id": "c3057f71",
   "metadata": {},
   "source": [
    "The columns to watch out for here are `Category`, `Payment Method`, and `Location`. We have to ensure none of their representations end up being the same as other ones.\n",
    "\n",
    "We'll start with `Category`."
   ]
  },
  {
   "cell_type": "code",
   "execution_count": 7,
   "id": "dc8d44ea",
   "metadata": {},
   "outputs": [
    {
     "data": {
      "text/plain": [
       "array(['Patisserie', 'Milk Products', 'Butchers', 'Beverages', 'Food',\n",
       "       'Furniture', 'Electric household essentials',\n",
       "       'Computers and electric accessories'], dtype=object)"
      ]
     },
     "execution_count": 7,
     "metadata": {},
     "output_type": "execute_result"
    }
   ],
   "source": [
    "df['Category'].unique()"
   ]
  },
  {
   "cell_type": "markdown",
   "id": "969900a0",
   "metadata": {},
   "source": [
    "Next, `Payment Method`."
   ]
  },
  {
   "cell_type": "code",
   "execution_count": 8,
   "id": "0a6c1a28",
   "metadata": {},
   "outputs": [
    {
     "data": {
      "text/plain": [
       "array(['Digital Wallet', 'Credit Card', 'Cash'], dtype=object)"
      ]
     },
     "execution_count": 8,
     "metadata": {},
     "output_type": "execute_result"
    }
   ],
   "source": [
    "df['Payment Method'].unique()"
   ]
  },
  {
   "cell_type": "markdown",
   "id": "97ef8bc5",
   "metadata": {},
   "source": [
    "Lastly, `Location`."
   ]
  },
  {
   "cell_type": "code",
   "execution_count": 9,
   "id": "220cb1fe",
   "metadata": {},
   "outputs": [
    {
     "data": {
      "text/plain": [
       "array(['Online', 'In-store'], dtype=object)"
      ]
     },
     "execution_count": 9,
     "metadata": {},
     "output_type": "execute_result"
    }
   ],
   "source": [
    "df['Location'].unique()"
   ]
  },
  {
   "cell_type": "markdown",
   "id": "93f368c1",
   "metadata": {},
   "source": [
    "Since none of the categories were representing the same thing as other categories, there are **no issues** to be found here."
   ]
  },
  {
   "cell_type": "markdown",
   "id": "fb018ab0",
   "metadata": {},
   "source": [
    "### Incorrect Datatypes"
   ]
  },
  {
   "cell_type": "markdown",
   "id": "0d9c29c4",
   "metadata": {},
   "source": [
    "For this portion, we'll resolve each of the previously mentioned columns individually."
   ]
  },
  {
   "cell_type": "markdown",
   "id": "088c5cf4",
   "metadata": {},
   "source": [
    "#### Transaction Date Column"
   ]
  },
  {
   "cell_type": "markdown",
   "id": "83b7a710",
   "metadata": {},
   "source": [
    "In order to make extracting the date into three separate columns easier, we'll first turn the `Transaction Date` into Dtype `datetime64[ns]` rather than its current Dtype of `object`. "
   ]
  },
  {
   "cell_type": "code",
   "execution_count": 10,
   "id": "dbdfaff3",
   "metadata": {},
   "outputs": [
    {
     "name": "stdout",
     "output_type": "stream",
     "text": [
      "<class 'pandas.core.frame.DataFrame'>\n",
      "RangeIndex: 12575 entries, 0 to 12574\n",
      "Data columns (total 11 columns):\n",
      " #   Column            Non-Null Count  Dtype         \n",
      "---  ------            --------------  -----         \n",
      " 0   Transaction ID    12575 non-null  object        \n",
      " 1   Customer ID       12575 non-null  object        \n",
      " 2   Category          12575 non-null  object        \n",
      " 3   Item              11362 non-null  object        \n",
      " 4   Price Per Unit    11966 non-null  float64       \n",
      " 5   Quantity          11971 non-null  float64       \n",
      " 6   Total Spent       11971 non-null  float64       \n",
      " 7   Payment Method    12575 non-null  object        \n",
      " 8   Location          12575 non-null  object        \n",
      " 9   Transaction Date  12575 non-null  datetime64[ns]\n",
      " 10  Discount Applied  8376 non-null   object        \n",
      "dtypes: datetime64[ns](1), float64(3), object(7)\n",
      "memory usage: 1.1+ MB\n"
     ]
    }
   ],
   "source": [
    "df['Transaction Date'] = pd.to_datetime(df['Transaction Date'])\n",
    "df.info()"
   ]
  },
  {
   "cell_type": "markdown",
   "id": "8879da5c",
   "metadata": {},
   "source": [
    "Afterwards, we may use `.dt.year`, `.dt.month`, and `.dt.day` to extract each part of the date and put them into their own separate columns."
   ]
  },
  {
   "cell_type": "code",
   "execution_count": 11,
   "id": "eebe1aa4",
   "metadata": {},
   "outputs": [
    {
     "data": {
      "text/html": [
       "<div>\n",
       "<style scoped>\n",
       "    .dataframe tbody tr th:only-of-type {\n",
       "        vertical-align: middle;\n",
       "    }\n",
       "\n",
       "    .dataframe tbody tr th {\n",
       "        vertical-align: top;\n",
       "    }\n",
       "\n",
       "    .dataframe thead th {\n",
       "        text-align: right;\n",
       "    }\n",
       "</style>\n",
       "<table border=\"1\" class=\"dataframe\">\n",
       "  <thead>\n",
       "    <tr style=\"text-align: right;\">\n",
       "      <th></th>\n",
       "      <th>Transaction ID</th>\n",
       "      <th>Customer ID</th>\n",
       "      <th>Category</th>\n",
       "      <th>Item</th>\n",
       "      <th>Price Per Unit</th>\n",
       "      <th>Quantity</th>\n",
       "      <th>Total Spent</th>\n",
       "      <th>Payment Method</th>\n",
       "      <th>Location</th>\n",
       "      <th>Transaction Date</th>\n",
       "      <th>Discount Applied</th>\n",
       "      <th>Year</th>\n",
       "      <th>Month</th>\n",
       "      <th>Day</th>\n",
       "    </tr>\n",
       "  </thead>\n",
       "  <tbody>\n",
       "    <tr>\n",
       "      <th>0</th>\n",
       "      <td>TXN_6867343</td>\n",
       "      <td>CUST_09</td>\n",
       "      <td>Patisserie</td>\n",
       "      <td>Item_10_PAT</td>\n",
       "      <td>18.5</td>\n",
       "      <td>10.0</td>\n",
       "      <td>185.0</td>\n",
       "      <td>Digital Wallet</td>\n",
       "      <td>Online</td>\n",
       "      <td>2024-04-08</td>\n",
       "      <td>True</td>\n",
       "      <td>2024</td>\n",
       "      <td>4</td>\n",
       "      <td>8</td>\n",
       "    </tr>\n",
       "    <tr>\n",
       "      <th>1</th>\n",
       "      <td>TXN_3731986</td>\n",
       "      <td>CUST_22</td>\n",
       "      <td>Milk Products</td>\n",
       "      <td>Item_17_MILK</td>\n",
       "      <td>29.0</td>\n",
       "      <td>9.0</td>\n",
       "      <td>261.0</td>\n",
       "      <td>Digital Wallet</td>\n",
       "      <td>Online</td>\n",
       "      <td>2023-07-23</td>\n",
       "      <td>True</td>\n",
       "      <td>2023</td>\n",
       "      <td>7</td>\n",
       "      <td>23</td>\n",
       "    </tr>\n",
       "    <tr>\n",
       "      <th>2</th>\n",
       "      <td>TXN_9303719</td>\n",
       "      <td>CUST_02</td>\n",
       "      <td>Butchers</td>\n",
       "      <td>Item_12_BUT</td>\n",
       "      <td>21.5</td>\n",
       "      <td>2.0</td>\n",
       "      <td>43.0</td>\n",
       "      <td>Credit Card</td>\n",
       "      <td>Online</td>\n",
       "      <td>2022-10-05</td>\n",
       "      <td>False</td>\n",
       "      <td>2022</td>\n",
       "      <td>10</td>\n",
       "      <td>5</td>\n",
       "    </tr>\n",
       "    <tr>\n",
       "      <th>3</th>\n",
       "      <td>TXN_9458126</td>\n",
       "      <td>CUST_06</td>\n",
       "      <td>Beverages</td>\n",
       "      <td>Item_16_BEV</td>\n",
       "      <td>27.5</td>\n",
       "      <td>9.0</td>\n",
       "      <td>247.5</td>\n",
       "      <td>Credit Card</td>\n",
       "      <td>Online</td>\n",
       "      <td>2022-05-07</td>\n",
       "      <td>NaN</td>\n",
       "      <td>2022</td>\n",
       "      <td>5</td>\n",
       "      <td>7</td>\n",
       "    </tr>\n",
       "    <tr>\n",
       "      <th>4</th>\n",
       "      <td>TXN_4575373</td>\n",
       "      <td>CUST_05</td>\n",
       "      <td>Food</td>\n",
       "      <td>Item_6_FOOD</td>\n",
       "      <td>12.5</td>\n",
       "      <td>7.0</td>\n",
       "      <td>87.5</td>\n",
       "      <td>Digital Wallet</td>\n",
       "      <td>Online</td>\n",
       "      <td>2022-10-02</td>\n",
       "      <td>False</td>\n",
       "      <td>2022</td>\n",
       "      <td>10</td>\n",
       "      <td>2</td>\n",
       "    </tr>\n",
       "  </tbody>\n",
       "</table>\n",
       "</div>"
      ],
      "text/plain": [
       "  Transaction ID Customer ID       Category          Item  Price Per Unit  \\\n",
       "0    TXN_6867343     CUST_09     Patisserie   Item_10_PAT            18.5   \n",
       "1    TXN_3731986     CUST_22  Milk Products  Item_17_MILK            29.0   \n",
       "2    TXN_9303719     CUST_02       Butchers   Item_12_BUT            21.5   \n",
       "3    TXN_9458126     CUST_06      Beverages   Item_16_BEV            27.5   \n",
       "4    TXN_4575373     CUST_05           Food   Item_6_FOOD            12.5   \n",
       "\n",
       "   Quantity  Total Spent  Payment Method Location Transaction Date  \\\n",
       "0      10.0        185.0  Digital Wallet   Online       2024-04-08   \n",
       "1       9.0        261.0  Digital Wallet   Online       2023-07-23   \n",
       "2       2.0         43.0     Credit Card   Online       2022-10-05   \n",
       "3       9.0        247.5     Credit Card   Online       2022-05-07   \n",
       "4       7.0         87.5  Digital Wallet   Online       2022-10-02   \n",
       "\n",
       "  Discount Applied  Year  Month  Day  \n",
       "0             True  2024      4    8  \n",
       "1             True  2023      7   23  \n",
       "2            False  2022     10    5  \n",
       "3              NaN  2022      5    7  \n",
       "4            False  2022     10    2  "
      ]
     },
     "execution_count": 11,
     "metadata": {},
     "output_type": "execute_result"
    }
   ],
   "source": [
    "df['Year'] = df['Transaction Date'].dt.year\n",
    "df['Month'] = df['Transaction Date'].dt.month\n",
    "df['Day'] = df['Transaction Date'].dt.day\n",
    "df.head()"
   ]
  },
  {
   "cell_type": "markdown",
   "id": "45d97122",
   "metadata": {},
   "source": [
    "Now that we've created columns `Year`, `Month`, and `Day` we no longer need the `Transaction Date` column, so we'll drop it."
   ]
  },
  {
   "cell_type": "code",
   "execution_count": 12,
   "id": "cfd8d485",
   "metadata": {},
   "outputs": [
    {
     "data": {
      "text/html": [
       "<div>\n",
       "<style scoped>\n",
       "    .dataframe tbody tr th:only-of-type {\n",
       "        vertical-align: middle;\n",
       "    }\n",
       "\n",
       "    .dataframe tbody tr th {\n",
       "        vertical-align: top;\n",
       "    }\n",
       "\n",
       "    .dataframe thead th {\n",
       "        text-align: right;\n",
       "    }\n",
       "</style>\n",
       "<table border=\"1\" class=\"dataframe\">\n",
       "  <thead>\n",
       "    <tr style=\"text-align: right;\">\n",
       "      <th></th>\n",
       "      <th>Transaction ID</th>\n",
       "      <th>Customer ID</th>\n",
       "      <th>Category</th>\n",
       "      <th>Item</th>\n",
       "      <th>Price Per Unit</th>\n",
       "      <th>Quantity</th>\n",
       "      <th>Total Spent</th>\n",
       "      <th>Payment Method</th>\n",
       "      <th>Location</th>\n",
       "      <th>Discount Applied</th>\n",
       "      <th>Year</th>\n",
       "      <th>Month</th>\n",
       "      <th>Day</th>\n",
       "    </tr>\n",
       "  </thead>\n",
       "  <tbody>\n",
       "    <tr>\n",
       "      <th>0</th>\n",
       "      <td>TXN_6867343</td>\n",
       "      <td>CUST_09</td>\n",
       "      <td>Patisserie</td>\n",
       "      <td>Item_10_PAT</td>\n",
       "      <td>18.5</td>\n",
       "      <td>10.0</td>\n",
       "      <td>185.0</td>\n",
       "      <td>Digital Wallet</td>\n",
       "      <td>Online</td>\n",
       "      <td>True</td>\n",
       "      <td>2024</td>\n",
       "      <td>4</td>\n",
       "      <td>8</td>\n",
       "    </tr>\n",
       "    <tr>\n",
       "      <th>1</th>\n",
       "      <td>TXN_3731986</td>\n",
       "      <td>CUST_22</td>\n",
       "      <td>Milk Products</td>\n",
       "      <td>Item_17_MILK</td>\n",
       "      <td>29.0</td>\n",
       "      <td>9.0</td>\n",
       "      <td>261.0</td>\n",
       "      <td>Digital Wallet</td>\n",
       "      <td>Online</td>\n",
       "      <td>True</td>\n",
       "      <td>2023</td>\n",
       "      <td>7</td>\n",
       "      <td>23</td>\n",
       "    </tr>\n",
       "    <tr>\n",
       "      <th>2</th>\n",
       "      <td>TXN_9303719</td>\n",
       "      <td>CUST_02</td>\n",
       "      <td>Butchers</td>\n",
       "      <td>Item_12_BUT</td>\n",
       "      <td>21.5</td>\n",
       "      <td>2.0</td>\n",
       "      <td>43.0</td>\n",
       "      <td>Credit Card</td>\n",
       "      <td>Online</td>\n",
       "      <td>False</td>\n",
       "      <td>2022</td>\n",
       "      <td>10</td>\n",
       "      <td>5</td>\n",
       "    </tr>\n",
       "    <tr>\n",
       "      <th>3</th>\n",
       "      <td>TXN_9458126</td>\n",
       "      <td>CUST_06</td>\n",
       "      <td>Beverages</td>\n",
       "      <td>Item_16_BEV</td>\n",
       "      <td>27.5</td>\n",
       "      <td>9.0</td>\n",
       "      <td>247.5</td>\n",
       "      <td>Credit Card</td>\n",
       "      <td>Online</td>\n",
       "      <td>NaN</td>\n",
       "      <td>2022</td>\n",
       "      <td>5</td>\n",
       "      <td>7</td>\n",
       "    </tr>\n",
       "    <tr>\n",
       "      <th>4</th>\n",
       "      <td>TXN_4575373</td>\n",
       "      <td>CUST_05</td>\n",
       "      <td>Food</td>\n",
       "      <td>Item_6_FOOD</td>\n",
       "      <td>12.5</td>\n",
       "      <td>7.0</td>\n",
       "      <td>87.5</td>\n",
       "      <td>Digital Wallet</td>\n",
       "      <td>Online</td>\n",
       "      <td>False</td>\n",
       "      <td>2022</td>\n",
       "      <td>10</td>\n",
       "      <td>2</td>\n",
       "    </tr>\n",
       "  </tbody>\n",
       "</table>\n",
       "</div>"
      ],
      "text/plain": [
       "  Transaction ID Customer ID       Category          Item  Price Per Unit  \\\n",
       "0    TXN_6867343     CUST_09     Patisserie   Item_10_PAT            18.5   \n",
       "1    TXN_3731986     CUST_22  Milk Products  Item_17_MILK            29.0   \n",
       "2    TXN_9303719     CUST_02       Butchers   Item_12_BUT            21.5   \n",
       "3    TXN_9458126     CUST_06      Beverages   Item_16_BEV            27.5   \n",
       "4    TXN_4575373     CUST_05           Food   Item_6_FOOD            12.5   \n",
       "\n",
       "   Quantity  Total Spent  Payment Method Location Discount Applied  Year  \\\n",
       "0      10.0        185.0  Digital Wallet   Online             True  2024   \n",
       "1       9.0        261.0  Digital Wallet   Online             True  2023   \n",
       "2       2.0         43.0     Credit Card   Online            False  2022   \n",
       "3       9.0        247.5     Credit Card   Online              NaN  2022   \n",
       "4       7.0         87.5  Digital Wallet   Online            False  2022   \n",
       "\n",
       "   Month  Day  \n",
       "0      4    8  \n",
       "1      7   23  \n",
       "2     10    5  \n",
       "3      5    7  \n",
       "4     10    2  "
      ]
     },
     "execution_count": 12,
     "metadata": {},
     "output_type": "execute_result"
    }
   ],
   "source": [
    "df = df.drop(columns = 'Transaction Date')\n",
    "df.head()"
   ]
  },
  {
   "cell_type": "markdown",
   "id": "56d1f926",
   "metadata": {},
   "source": [
    "#### Discount Applied Column"
   ]
  },
  {
   "cell_type": "markdown",
   "id": "c6741f3f",
   "metadata": {},
   "source": [
    "To turn the `Discount Applied` column's Dtype into `boolean` rather than its current Dtype of `object`, we'll use `.astype('boolean')`. "
   ]
  },
  {
   "cell_type": "code",
   "execution_count": 13,
   "id": "1a3c639e",
   "metadata": {},
   "outputs": [
    {
     "name": "stdout",
     "output_type": "stream",
     "text": [
      "<class 'pandas.core.frame.DataFrame'>\n",
      "RangeIndex: 12575 entries, 0 to 12574\n",
      "Data columns (total 13 columns):\n",
      " #   Column            Non-Null Count  Dtype  \n",
      "---  ------            --------------  -----  \n",
      " 0   Transaction ID    12575 non-null  object \n",
      " 1   Customer ID       12575 non-null  object \n",
      " 2   Category          12575 non-null  object \n",
      " 3   Item              11362 non-null  object \n",
      " 4   Price Per Unit    11966 non-null  float64\n",
      " 5   Quantity          11971 non-null  float64\n",
      " 6   Total Spent       11971 non-null  float64\n",
      " 7   Payment Method    12575 non-null  object \n",
      " 8   Location          12575 non-null  object \n",
      " 9   Discount Applied  8376 non-null   boolean\n",
      " 10  Year              12575 non-null  int32  \n",
      " 11  Month             12575 non-null  int32  \n",
      " 12  Day               12575 non-null  int32  \n",
      "dtypes: boolean(1), float64(3), int32(3), object(6)\n",
      "memory usage: 1.0+ MB\n"
     ]
    }
   ],
   "source": [
    "df['Discount Applied'] = df['Discount Applied'].astype('boolean')\n",
    "df.info()"
   ]
  },
  {
   "cell_type": "markdown",
   "id": "275e8555",
   "metadata": {},
   "source": [
    "Confirm the values using `.head()`."
   ]
  },
  {
   "cell_type": "code",
   "execution_count": 14,
   "id": "560ea94e",
   "metadata": {},
   "outputs": [
    {
     "data": {
      "text/html": [
       "<div>\n",
       "<style scoped>\n",
       "    .dataframe tbody tr th:only-of-type {\n",
       "        vertical-align: middle;\n",
       "    }\n",
       "\n",
       "    .dataframe tbody tr th {\n",
       "        vertical-align: top;\n",
       "    }\n",
       "\n",
       "    .dataframe thead th {\n",
       "        text-align: right;\n",
       "    }\n",
       "</style>\n",
       "<table border=\"1\" class=\"dataframe\">\n",
       "  <thead>\n",
       "    <tr style=\"text-align: right;\">\n",
       "      <th></th>\n",
       "      <th>Transaction ID</th>\n",
       "      <th>Customer ID</th>\n",
       "      <th>Category</th>\n",
       "      <th>Item</th>\n",
       "      <th>Price Per Unit</th>\n",
       "      <th>Quantity</th>\n",
       "      <th>Total Spent</th>\n",
       "      <th>Payment Method</th>\n",
       "      <th>Location</th>\n",
       "      <th>Discount Applied</th>\n",
       "      <th>Year</th>\n",
       "      <th>Month</th>\n",
       "      <th>Day</th>\n",
       "    </tr>\n",
       "  </thead>\n",
       "  <tbody>\n",
       "    <tr>\n",
       "      <th>0</th>\n",
       "      <td>TXN_6867343</td>\n",
       "      <td>CUST_09</td>\n",
       "      <td>Patisserie</td>\n",
       "      <td>Item_10_PAT</td>\n",
       "      <td>18.5</td>\n",
       "      <td>10.0</td>\n",
       "      <td>185.0</td>\n",
       "      <td>Digital Wallet</td>\n",
       "      <td>Online</td>\n",
       "      <td>True</td>\n",
       "      <td>2024</td>\n",
       "      <td>4</td>\n",
       "      <td>8</td>\n",
       "    </tr>\n",
       "    <tr>\n",
       "      <th>1</th>\n",
       "      <td>TXN_3731986</td>\n",
       "      <td>CUST_22</td>\n",
       "      <td>Milk Products</td>\n",
       "      <td>Item_17_MILK</td>\n",
       "      <td>29.0</td>\n",
       "      <td>9.0</td>\n",
       "      <td>261.0</td>\n",
       "      <td>Digital Wallet</td>\n",
       "      <td>Online</td>\n",
       "      <td>True</td>\n",
       "      <td>2023</td>\n",
       "      <td>7</td>\n",
       "      <td>23</td>\n",
       "    </tr>\n",
       "    <tr>\n",
       "      <th>2</th>\n",
       "      <td>TXN_9303719</td>\n",
       "      <td>CUST_02</td>\n",
       "      <td>Butchers</td>\n",
       "      <td>Item_12_BUT</td>\n",
       "      <td>21.5</td>\n",
       "      <td>2.0</td>\n",
       "      <td>43.0</td>\n",
       "      <td>Credit Card</td>\n",
       "      <td>Online</td>\n",
       "      <td>False</td>\n",
       "      <td>2022</td>\n",
       "      <td>10</td>\n",
       "      <td>5</td>\n",
       "    </tr>\n",
       "    <tr>\n",
       "      <th>3</th>\n",
       "      <td>TXN_9458126</td>\n",
       "      <td>CUST_06</td>\n",
       "      <td>Beverages</td>\n",
       "      <td>Item_16_BEV</td>\n",
       "      <td>27.5</td>\n",
       "      <td>9.0</td>\n",
       "      <td>247.5</td>\n",
       "      <td>Credit Card</td>\n",
       "      <td>Online</td>\n",
       "      <td>&lt;NA&gt;</td>\n",
       "      <td>2022</td>\n",
       "      <td>5</td>\n",
       "      <td>7</td>\n",
       "    </tr>\n",
       "    <tr>\n",
       "      <th>4</th>\n",
       "      <td>TXN_4575373</td>\n",
       "      <td>CUST_05</td>\n",
       "      <td>Food</td>\n",
       "      <td>Item_6_FOOD</td>\n",
       "      <td>12.5</td>\n",
       "      <td>7.0</td>\n",
       "      <td>87.5</td>\n",
       "      <td>Digital Wallet</td>\n",
       "      <td>Online</td>\n",
       "      <td>False</td>\n",
       "      <td>2022</td>\n",
       "      <td>10</td>\n",
       "      <td>2</td>\n",
       "    </tr>\n",
       "  </tbody>\n",
       "</table>\n",
       "</div>"
      ],
      "text/plain": [
       "  Transaction ID Customer ID       Category          Item  Price Per Unit  \\\n",
       "0    TXN_6867343     CUST_09     Patisserie   Item_10_PAT            18.5   \n",
       "1    TXN_3731986     CUST_22  Milk Products  Item_17_MILK            29.0   \n",
       "2    TXN_9303719     CUST_02       Butchers   Item_12_BUT            21.5   \n",
       "3    TXN_9458126     CUST_06      Beverages   Item_16_BEV            27.5   \n",
       "4    TXN_4575373     CUST_05           Food   Item_6_FOOD            12.5   \n",
       "\n",
       "   Quantity  Total Spent  Payment Method Location  Discount Applied  Year  \\\n",
       "0      10.0        185.0  Digital Wallet   Online              True  2024   \n",
       "1       9.0        261.0  Digital Wallet   Online              True  2023   \n",
       "2       2.0         43.0     Credit Card   Online             False  2022   \n",
       "3       9.0        247.5     Credit Card   Online              <NA>  2022   \n",
       "4       7.0         87.5  Digital Wallet   Online             False  2022   \n",
       "\n",
       "   Month  Day  \n",
       "0      4    8  \n",
       "1      7   23  \n",
       "2     10    5  \n",
       "3      5    7  \n",
       "4     10    2  "
      ]
     },
     "execution_count": 14,
     "metadata": {},
     "output_type": "execute_result"
    }
   ],
   "source": [
    "df.head()"
   ]
  },
  {
   "cell_type": "markdown",
   "id": "e8f6688f",
   "metadata": {},
   "source": [
    "### Missing Data"
   ]
  },
  {
   "cell_type": "markdown",
   "id": "6e1fde44",
   "metadata": {},
   "source": [
    "For this portion, we'll resolve each of the previously mentioned columns individually."
   ]
  },
  {
   "cell_type": "markdown",
   "id": "24203637",
   "metadata": {},
   "source": [
    "#### Item Column"
   ]
  },
  {
   "cell_type": "markdown",
   "id": "c884ad9b",
   "metadata": {},
   "source": [
    "One simple solution would be to drop all rows containing null values in the Item column. However, let's take a quick glance at the `Category` and `Item` columns."
   ]
  },
  {
   "cell_type": "code",
   "execution_count": 15,
   "id": "bb8b080a",
   "metadata": {},
   "outputs": [
    {
     "data": {
      "text/html": [
       "<div>\n",
       "<style scoped>\n",
       "    .dataframe tbody tr th:only-of-type {\n",
       "        vertical-align: middle;\n",
       "    }\n",
       "\n",
       "    .dataframe tbody tr th {\n",
       "        vertical-align: top;\n",
       "    }\n",
       "\n",
       "    .dataframe thead th {\n",
       "        text-align: right;\n",
       "    }\n",
       "</style>\n",
       "<table border=\"1\" class=\"dataframe\">\n",
       "  <thead>\n",
       "    <tr style=\"text-align: right;\">\n",
       "      <th></th>\n",
       "      <th>Category</th>\n",
       "      <th>Item</th>\n",
       "    </tr>\n",
       "  </thead>\n",
       "  <tbody>\n",
       "    <tr>\n",
       "      <th>0</th>\n",
       "      <td>Patisserie</td>\n",
       "      <td>Item_10_PAT</td>\n",
       "    </tr>\n",
       "    <tr>\n",
       "      <th>1</th>\n",
       "      <td>Milk Products</td>\n",
       "      <td>Item_17_MILK</td>\n",
       "    </tr>\n",
       "    <tr>\n",
       "      <th>2</th>\n",
       "      <td>Butchers</td>\n",
       "      <td>Item_12_BUT</td>\n",
       "    </tr>\n",
       "    <tr>\n",
       "      <th>3</th>\n",
       "      <td>Beverages</td>\n",
       "      <td>Item_16_BEV</td>\n",
       "    </tr>\n",
       "    <tr>\n",
       "      <th>4</th>\n",
       "      <td>Food</td>\n",
       "      <td>Item_6_FOOD</td>\n",
       "    </tr>\n",
       "    <tr>\n",
       "      <th>5</th>\n",
       "      <td>Patisserie</td>\n",
       "      <td>NaN</td>\n",
       "    </tr>\n",
       "    <tr>\n",
       "      <th>6</th>\n",
       "      <td>Food</td>\n",
       "      <td>Item_1_FOOD</td>\n",
       "    </tr>\n",
       "    <tr>\n",
       "      <th>7</th>\n",
       "      <td>Furniture</td>\n",
       "      <td>NaN</td>\n",
       "    </tr>\n",
       "  </tbody>\n",
       "</table>\n",
       "</div>"
      ],
      "text/plain": [
       "        Category          Item\n",
       "0     Patisserie   Item_10_PAT\n",
       "1  Milk Products  Item_17_MILK\n",
       "2       Butchers   Item_12_BUT\n",
       "3      Beverages   Item_16_BEV\n",
       "4           Food   Item_6_FOOD\n",
       "5     Patisserie           NaN\n",
       "6           Food   Item_1_FOOD\n",
       "7      Furniture           NaN"
      ]
     },
     "execution_count": 15,
     "metadata": {},
     "output_type": "execute_result"
    }
   ],
   "source": [
    "df[['Category', 'Item']].head(8)"
   ]
  },
  {
   "cell_type": "markdown",
   "id": "80dcae9e",
   "metadata": {},
   "source": [
    "Each item has the pattern `Item_##_CATEGORYID` with the category identifier being based on the value in `Category`. So while we can't figure out what item number was chosen, we can still figure out the category identifier for each item. After all, the `Category` column contains 0 null values.\n",
    "\n",
    "So rather than dropping the null values for `Item` and losing potentially precious data, we can instead fill up all the rows for `Item` using only the category identifier.\n",
    "\n",
    "We'll first create a dictionary of key-value pairs, with the content of `Category` serving as our key and the category identifier as the value."
   ]
  },
  {
   "cell_type": "code",
   "execution_count": 16,
   "id": "7138f4a5",
   "metadata": {},
   "outputs": [
    {
     "data": {
      "text/plain": [
       "{'Patisserie': 'Item_NA_PAT',\n",
       " 'Milk Products': 'Item_NA_MILK',\n",
       " 'Butchers': 'Item_NA_BUT',\n",
       " 'Beverages': 'Item_NA_BEV',\n",
       " 'Food': 'Item_NA_FOOD',\n",
       " 'Furniture': 'Item_NA_FUR',\n",
       " 'Electric household essentials': 'Item_NA_EHE',\n",
       " 'Computers and electric accessories': 'Item_NA_CEA'}"
      ]
     },
     "execution_count": 16,
     "metadata": {},
     "output_type": "execute_result"
    }
   ],
   "source": [
    "category_id = {'Patisserie':'Item_NA_PAT', 'Milk Products':'Item_NA_MILK', 'Butchers':'Item_NA_BUT', 'Beverages':'Item_NA_BEV',\n",
    "               'Food':'Item_NA_FOOD', 'Furniture':'Item_NA_FUR', 'Electric household essentials':'Item_NA_EHE',\n",
    "               'Computers and electric accessories':'Item_NA_CEA'}\n",
    "category_id"
   ]
  },
  {
   "cell_type": "code",
   "execution_count": 17,
   "id": "4effc590",
   "metadata": {},
   "outputs": [
    {
     "data": {
      "text/html": [
       "<div>\n",
       "<style scoped>\n",
       "    .dataframe tbody tr th:only-of-type {\n",
       "        vertical-align: middle;\n",
       "    }\n",
       "\n",
       "    .dataframe tbody tr th {\n",
       "        vertical-align: top;\n",
       "    }\n",
       "\n",
       "    .dataframe thead th {\n",
       "        text-align: right;\n",
       "    }\n",
       "</style>\n",
       "<table border=\"1\" class=\"dataframe\">\n",
       "  <thead>\n",
       "    <tr style=\"text-align: right;\">\n",
       "      <th></th>\n",
       "      <th>Category</th>\n",
       "      <th>Item</th>\n",
       "    </tr>\n",
       "  </thead>\n",
       "  <tbody>\n",
       "    <tr>\n",
       "      <th>0</th>\n",
       "      <td>Patisserie</td>\n",
       "      <td>Item_10_PAT</td>\n",
       "    </tr>\n",
       "    <tr>\n",
       "      <th>1</th>\n",
       "      <td>Milk Products</td>\n",
       "      <td>Item_17_MILK</td>\n",
       "    </tr>\n",
       "    <tr>\n",
       "      <th>2</th>\n",
       "      <td>Butchers</td>\n",
       "      <td>Item_12_BUT</td>\n",
       "    </tr>\n",
       "    <tr>\n",
       "      <th>3</th>\n",
       "      <td>Beverages</td>\n",
       "      <td>Item_16_BEV</td>\n",
       "    </tr>\n",
       "    <tr>\n",
       "      <th>4</th>\n",
       "      <td>Food</td>\n",
       "      <td>Item_6_FOOD</td>\n",
       "    </tr>\n",
       "    <tr>\n",
       "      <th>5</th>\n",
       "      <td>Patisserie</td>\n",
       "      <td>Item_NA_PAT</td>\n",
       "    </tr>\n",
       "    <tr>\n",
       "      <th>6</th>\n",
       "      <td>Food</td>\n",
       "      <td>Item_1_FOOD</td>\n",
       "    </tr>\n",
       "    <tr>\n",
       "      <th>7</th>\n",
       "      <td>Furniture</td>\n",
       "      <td>Item_NA_FUR</td>\n",
       "    </tr>\n",
       "  </tbody>\n",
       "</table>\n",
       "</div>"
      ],
      "text/plain": [
       "        Category          Item\n",
       "0     Patisserie   Item_10_PAT\n",
       "1  Milk Products  Item_17_MILK\n",
       "2       Butchers   Item_12_BUT\n",
       "3      Beverages   Item_16_BEV\n",
       "4           Food   Item_6_FOOD\n",
       "5     Patisserie   Item_NA_PAT\n",
       "6           Food   Item_1_FOOD\n",
       "7      Furniture   Item_NA_FUR"
      ]
     },
     "execution_count": 17,
     "metadata": {},
     "output_type": "execute_result"
    }
   ],
   "source": [
    "df['Item'] = df['Item'].fillna(df['Category'].map(category_id))\n",
    "df[['Category', 'Item']].head(8)"
   ]
  },
  {
   "cell_type": "markdown",
   "id": "1bd31f30",
   "metadata": {},
   "source": [
    "And if we run `.info()` on our dataset, `Item` should no longer contain any null values."
   ]
  },
  {
   "cell_type": "code",
   "execution_count": 18,
   "id": "2f500a71",
   "metadata": {},
   "outputs": [
    {
     "name": "stdout",
     "output_type": "stream",
     "text": [
      "<class 'pandas.core.frame.DataFrame'>\n",
      "RangeIndex: 12575 entries, 0 to 12574\n",
      "Data columns (total 13 columns):\n",
      " #   Column            Non-Null Count  Dtype  \n",
      "---  ------            --------------  -----  \n",
      " 0   Transaction ID    12575 non-null  object \n",
      " 1   Customer ID       12575 non-null  object \n",
      " 2   Category          12575 non-null  object \n",
      " 3   Item              12575 non-null  object \n",
      " 4   Price Per Unit    11966 non-null  float64\n",
      " 5   Quantity          11971 non-null  float64\n",
      " 6   Total Spent       11971 non-null  float64\n",
      " 7   Payment Method    12575 non-null  object \n",
      " 8   Location          12575 non-null  object \n",
      " 9   Discount Applied  8376 non-null   boolean\n",
      " 10  Year              12575 non-null  int32  \n",
      " 11  Month             12575 non-null  int32  \n",
      " 12  Day               12575 non-null  int32  \n",
      "dtypes: boolean(1), float64(3), int32(3), object(6)\n",
      "memory usage: 1.0+ MB\n"
     ]
    }
   ],
   "source": [
    "df.info()"
   ]
  },
  {
   "cell_type": "markdown",
   "id": "ada5980b",
   "metadata": {},
   "source": [
    "#### Price Per Unit Column"
   ]
  },
  {
   "cell_type": "markdown",
   "id": "a26103dc",
   "metadata": {},
   "source": [
    "Filling up the null values for `Price Per Unit` is doable as long as both `Quantity` and `Total Spent` contain values. All we have to do is compute what the price per unit would be based on the quantity and total spent."
   ]
  },
  {
   "cell_type": "code",
   "execution_count": 19,
   "id": "ee934e57",
   "metadata": {},
   "outputs": [
    {
     "name": "stdout",
     "output_type": "stream",
     "text": [
      "<class 'pandas.core.frame.DataFrame'>\n",
      "RangeIndex: 12575 entries, 0 to 12574\n",
      "Data columns (total 13 columns):\n",
      " #   Column            Non-Null Count  Dtype  \n",
      "---  ------            --------------  -----  \n",
      " 0   Transaction ID    12575 non-null  object \n",
      " 1   Customer ID       12575 non-null  object \n",
      " 2   Category          12575 non-null  object \n",
      " 3   Item              12575 non-null  object \n",
      " 4   Price Per Unit    12575 non-null  float64\n",
      " 5   Quantity          11971 non-null  float64\n",
      " 6   Total Spent       11971 non-null  float64\n",
      " 7   Payment Method    12575 non-null  object \n",
      " 8   Location          12575 non-null  object \n",
      " 9   Discount Applied  8376 non-null   boolean\n",
      " 10  Year              12575 non-null  int32  \n",
      " 11  Month             12575 non-null  int32  \n",
      " 12  Day               12575 non-null  int32  \n",
      "dtypes: boolean(1), float64(3), int32(3), object(6)\n",
      "memory usage: 1.0+ MB\n"
     ]
    }
   ],
   "source": [
    "df['Price Per Unit'] = df['Price Per Unit'].fillna(df['Total Spent']/df['Quantity'])\n",
    "df.info()"
   ]
  },
  {
   "cell_type": "markdown",
   "id": "b8c7e91f",
   "metadata": {},
   "source": [
    "#### Quantity and Total Spent Columns"
   ]
  },
  {
   "cell_type": "markdown",
   "id": "dc9b8e9c",
   "metadata": {},
   "source": [
    "Suspiciously enough, both `Quanity` and `Total Spent` contain the same number of null values. We'll investigate them first to see if they both share null values."
   ]
  },
  {
   "cell_type": "code",
   "execution_count": 20,
   "id": "d04d1d97",
   "metadata": {},
   "outputs": [
    {
     "data": {
      "text/plain": [
       "np.True_"
      ]
     },
     "execution_count": 20,
     "metadata": {},
     "output_type": "execute_result"
    }
   ],
   "source": [
    "(df['Quantity'].isna() == df['Total Spent'].isna()).all()"
   ]
  },
  {
   "cell_type": "markdown",
   "id": "27a81451",
   "metadata": {},
   "source": [
    "While we were able to fill up `Price Per Unit` using `Quantity` and `Total Spent` as reference, the opposite doesn't hold true. Since we can't fill these missing values, we'll delete all rows containing null values in both columns"
   ]
  },
  {
   "cell_type": "code",
   "execution_count": 21,
   "id": "1a424c19",
   "metadata": {},
   "outputs": [
    {
     "name": "stdout",
     "output_type": "stream",
     "text": [
      "<class 'pandas.core.frame.DataFrame'>\n",
      "Index: 11971 entries, 0 to 12574\n",
      "Data columns (total 13 columns):\n",
      " #   Column            Non-Null Count  Dtype  \n",
      "---  ------            --------------  -----  \n",
      " 0   Transaction ID    11971 non-null  object \n",
      " 1   Customer ID       11971 non-null  object \n",
      " 2   Category          11971 non-null  object \n",
      " 3   Item              11971 non-null  object \n",
      " 4   Price Per Unit    11971 non-null  float64\n",
      " 5   Quantity          11971 non-null  float64\n",
      " 6   Total Spent       11971 non-null  float64\n",
      " 7   Payment Method    11971 non-null  object \n",
      " 8   Location          11971 non-null  object \n",
      " 9   Discount Applied  7983 non-null   boolean\n",
      " 10  Year              11971 non-null  int32  \n",
      " 11  Month             11971 non-null  int32  \n",
      " 12  Day               11971 non-null  int32  \n",
      "dtypes: boolean(1), float64(3), int32(3), object(6)\n",
      "memory usage: 1.1+ MB\n"
     ]
    }
   ],
   "source": [
    "df.dropna(subset = ['Quantity', 'Total Spent'], inplace = True)\n",
    "df.info()"
   ]
  },
  {
   "cell_type": "markdown",
   "id": "5eebb523",
   "metadata": {},
   "source": [
    "#### Discount Applied Column"
   ]
  },
  {
   "cell_type": "markdown",
   "id": "f6fa85ad",
   "metadata": {},
   "source": [
    "Removing the null values in `Discount Applied` would be a huge loss in data, considering how many rows would be removed."
   ]
  },
  {
   "cell_type": "code",
   "execution_count": 22,
   "id": "8bfbee9a",
   "metadata": {},
   "outputs": [
    {
     "data": {
      "text/plain": [
       "np.int64(3988)"
      ]
     },
     "execution_count": 22,
     "metadata": {},
     "output_type": "execute_result"
    }
   ],
   "source": [
    "# All columns have the same number of non-null values except for Discount Applied\n",
    "df['Item'].count() - df['Discount Applied'].count()"
   ]
  },
  {
   "cell_type": "markdown",
   "id": "1e8b103d",
   "metadata": {},
   "source": [
    "As you can see, we would lose `3988` rows of data. Instead of dropping the rows with null values, let's instead calculate for the mode. We use mode here over mean and median because the `Discount Applied` column contains categorical data."
   ]
  },
  {
   "cell_type": "code",
   "execution_count": 23,
   "id": "91540f4b",
   "metadata": {},
   "outputs": [
    {
     "name": "stdout",
     "output_type": "stream",
     "text": [
      "<class 'pandas.core.frame.DataFrame'>\n",
      "Index: 11971 entries, 0 to 12574\n",
      "Data columns (total 13 columns):\n",
      " #   Column            Non-Null Count  Dtype  \n",
      "---  ------            --------------  -----  \n",
      " 0   Transaction ID    11971 non-null  object \n",
      " 1   Customer ID       11971 non-null  object \n",
      " 2   Category          11971 non-null  object \n",
      " 3   Item              11971 non-null  object \n",
      " 4   Price Per Unit    11971 non-null  float64\n",
      " 5   Quantity          11971 non-null  float64\n",
      " 6   Total Spent       11971 non-null  float64\n",
      " 7   Payment Method    11971 non-null  object \n",
      " 8   Location          11971 non-null  object \n",
      " 9   Discount Applied  11971 non-null  boolean\n",
      " 10  Year              11971 non-null  int32  \n",
      " 11  Month             11971 non-null  int32  \n",
      " 12  Day               11971 non-null  int32  \n",
      "dtypes: boolean(1), float64(3), int32(3), object(6)\n",
      "memory usage: 1.1+ MB\n"
     ]
    }
   ],
   "source": [
    "df['Discount Applied'] = df['Discount Applied'].fillna(df['Discount Applied'].mode()[0])\n",
    "df.info()"
   ]
  },
  {
   "cell_type": "markdown",
   "id": "9dcc1d25",
   "metadata": {},
   "source": [
    "### Inconsistent Formatting"
   ]
  },
  {
   "cell_type": "code",
   "execution_count": 24,
   "id": "9d228cbd",
   "metadata": {},
   "outputs": [
    {
     "data": {
      "text/html": [
       "<div>\n",
       "<style scoped>\n",
       "    .dataframe tbody tr th:only-of-type {\n",
       "        vertical-align: middle;\n",
       "    }\n",
       "\n",
       "    .dataframe tbody tr th {\n",
       "        vertical-align: top;\n",
       "    }\n",
       "\n",
       "    .dataframe thead th {\n",
       "        text-align: right;\n",
       "    }\n",
       "</style>\n",
       "<table border=\"1\" class=\"dataframe\">\n",
       "  <thead>\n",
       "    <tr style=\"text-align: right;\">\n",
       "      <th></th>\n",
       "      <th>Transaction ID</th>\n",
       "      <th>Customer ID</th>\n",
       "      <th>Category</th>\n",
       "      <th>Item</th>\n",
       "      <th>Price Per Unit</th>\n",
       "      <th>Quantity</th>\n",
       "      <th>Total Spent</th>\n",
       "      <th>Payment Method</th>\n",
       "      <th>Location</th>\n",
       "      <th>Discount Applied</th>\n",
       "      <th>Year</th>\n",
       "      <th>Month</th>\n",
       "      <th>Day</th>\n",
       "    </tr>\n",
       "  </thead>\n",
       "  <tbody>\n",
       "    <tr>\n",
       "      <th>0</th>\n",
       "      <td>TXN_6867343</td>\n",
       "      <td>CUST_09</td>\n",
       "      <td>Patisserie</td>\n",
       "      <td>Item_10_PAT</td>\n",
       "      <td>18.5</td>\n",
       "      <td>10.0</td>\n",
       "      <td>185.0</td>\n",
       "      <td>Digital Wallet</td>\n",
       "      <td>Online</td>\n",
       "      <td>True</td>\n",
       "      <td>2024</td>\n",
       "      <td>4</td>\n",
       "      <td>8</td>\n",
       "    </tr>\n",
       "    <tr>\n",
       "      <th>1</th>\n",
       "      <td>TXN_3731986</td>\n",
       "      <td>CUST_22</td>\n",
       "      <td>Milk Products</td>\n",
       "      <td>Item_17_MILK</td>\n",
       "      <td>29.0</td>\n",
       "      <td>9.0</td>\n",
       "      <td>261.0</td>\n",
       "      <td>Digital Wallet</td>\n",
       "      <td>Online</td>\n",
       "      <td>True</td>\n",
       "      <td>2023</td>\n",
       "      <td>7</td>\n",
       "      <td>23</td>\n",
       "    </tr>\n",
       "    <tr>\n",
       "      <th>2</th>\n",
       "      <td>TXN_9303719</td>\n",
       "      <td>CUST_02</td>\n",
       "      <td>Butchers</td>\n",
       "      <td>Item_12_BUT</td>\n",
       "      <td>21.5</td>\n",
       "      <td>2.0</td>\n",
       "      <td>43.0</td>\n",
       "      <td>Credit Card</td>\n",
       "      <td>Online</td>\n",
       "      <td>False</td>\n",
       "      <td>2022</td>\n",
       "      <td>10</td>\n",
       "      <td>5</td>\n",
       "    </tr>\n",
       "    <tr>\n",
       "      <th>3</th>\n",
       "      <td>TXN_9458126</td>\n",
       "      <td>CUST_06</td>\n",
       "      <td>Beverages</td>\n",
       "      <td>Item_16_BEV</td>\n",
       "      <td>27.5</td>\n",
       "      <td>9.0</td>\n",
       "      <td>247.5</td>\n",
       "      <td>Credit Card</td>\n",
       "      <td>Online</td>\n",
       "      <td>True</td>\n",
       "      <td>2022</td>\n",
       "      <td>5</td>\n",
       "      <td>7</td>\n",
       "    </tr>\n",
       "    <tr>\n",
       "      <th>4</th>\n",
       "      <td>TXN_4575373</td>\n",
       "      <td>CUST_05</td>\n",
       "      <td>Food</td>\n",
       "      <td>Item_6_FOOD</td>\n",
       "      <td>12.5</td>\n",
       "      <td>7.0</td>\n",
       "      <td>87.5</td>\n",
       "      <td>Digital Wallet</td>\n",
       "      <td>Online</td>\n",
       "      <td>False</td>\n",
       "      <td>2022</td>\n",
       "      <td>10</td>\n",
       "      <td>2</td>\n",
       "    </tr>\n",
       "  </tbody>\n",
       "</table>\n",
       "</div>"
      ],
      "text/plain": [
       "  Transaction ID Customer ID       Category          Item  Price Per Unit  \\\n",
       "0    TXN_6867343     CUST_09     Patisserie   Item_10_PAT            18.5   \n",
       "1    TXN_3731986     CUST_22  Milk Products  Item_17_MILK            29.0   \n",
       "2    TXN_9303719     CUST_02       Butchers   Item_12_BUT            21.5   \n",
       "3    TXN_9458126     CUST_06      Beverages   Item_16_BEV            27.5   \n",
       "4    TXN_4575373     CUST_05           Food   Item_6_FOOD            12.5   \n",
       "\n",
       "   Quantity  Total Spent  Payment Method Location  Discount Applied  Year  \\\n",
       "0      10.0        185.0  Digital Wallet   Online              True  2024   \n",
       "1       9.0        261.0  Digital Wallet   Online              True  2023   \n",
       "2       2.0         43.0     Credit Card   Online             False  2022   \n",
       "3       9.0        247.5     Credit Card   Online              True  2022   \n",
       "4       7.0         87.5  Digital Wallet   Online             False  2022   \n",
       "\n",
       "   Month  Day  \n",
       "0      4    8  \n",
       "1      7   23  \n",
       "2     10    5  \n",
       "3      5    7  \n",
       "4     10    2  "
      ]
     },
     "execution_count": 24,
     "metadata": {},
     "output_type": "execute_result"
    }
   ],
   "source": [
    "df.head()"
   ]
  },
  {
   "cell_type": "markdown",
   "id": "7eeec131",
   "metadata": {},
   "source": [
    "Columns `Transaction ID`, `Customer ID`, and `Item` all follow a specific formatting. Let's make sure there are 0 inconsistencies and that this format is followed throughout the entire dataset by using regex."
   ]
  },
  {
   "cell_type": "code",
   "execution_count": 25,
   "id": "0705a5f3",
   "metadata": {},
   "outputs": [
    {
     "data": {
      "text/plain": [
       "True"
      ]
     },
     "execution_count": 25,
     "metadata": {},
     "output_type": "execute_result"
    }
   ],
   "source": [
    "# Starts with TXN_ and ends with 7 digits\n",
    "txn_regex = r\"^TXN_\\d{7}$\"\n",
    "invalid_txn = df[~df['Transaction ID'].str.match(txn_regex)]\n",
    "\n",
    "invalid_txn.empty"
   ]
  },
  {
   "cell_type": "code",
   "execution_count": 26,
   "id": "9b6ac02f",
   "metadata": {},
   "outputs": [
    {
     "data": {
      "text/plain": [
       "True"
      ]
     },
     "execution_count": 26,
     "metadata": {},
     "output_type": "execute_result"
    }
   ],
   "source": [
    "# Starts with CUST_ and ends with 2 digits\n",
    "cust_regex = r\"^CUST_\\d{2}$\"\n",
    "invalid_cust = df[~df['Customer ID'].str.match(cust_regex)]\n",
    "\n",
    "invalid_cust.empty"
   ]
  },
  {
   "cell_type": "code",
   "execution_count": 27,
   "id": "0be80487",
   "metadata": {},
   "outputs": [
    {
     "data": {
      "text/plain": [
       "True"
      ]
     },
     "execution_count": 27,
     "metadata": {},
     "output_type": "execute_result"
    }
   ],
   "source": [
    "# Starts with Item_, then 1 or 2 letters/digits, and ends with 3 or 4 letters\n",
    "item_regex = r\"^Item_\\w{1,2}_[A-Z]{3,4}$\"\n",
    "invalid_item = df[~df['Item'].str.match(item_regex)]\n",
    "\n",
    "invalid_item.empty"
   ]
  },
  {
   "cell_type": "markdown",
   "id": "93dae192",
   "metadata": {},
   "source": [
    "There are zero inconsistencies with the formatting, so **no issues** here."
   ]
  },
  {
   "cell_type": "markdown",
   "id": "7d0f1d0e",
   "metadata": {},
   "source": [
    "## Research Question & Exploratory Data Analysis"
   ]
  },
  {
   "cell_type": "markdown",
   "id": "89534c7a",
   "metadata": {},
   "source": [
    "### The Research Question\n",
    "\n",
    "Now that the data has been sufficiently clean, it is ready for the Exploratory Data Analysis (EDA). However, before beginning it is important to decide on a research question that will govern how the EDA is carried out. For this study, the research question is: <b> When are customers willing to make bulk purchases? </b>. To answer this, we will be looking for the variables that correlate with high amounts of items bought"
   ]
  },
  {
   "cell_type": "markdown",
   "id": "a71e29de",
   "metadata": {},
   "source": [
    "### Exploratory Data Analysis\n",
    "\n",
    "To begin with, let us first find the summary statistics of the quantity of items per purchase. This is important because we need to know values like the average number of orders so we can find patterns between orders that exceed this average.\n",
    "\n",
    "\n",
    "Let us first find the mean of the quantity column:"
   ]
  },
  {
   "cell_type": "code",
   "execution_count": 28,
   "id": "84819fcc",
   "metadata": {},
   "outputs": [
    {
     "name": "stdout",
     "output_type": "stream",
     "text": [
      "5.54\n"
     ]
    }
   ],
   "source": [
    "print('{:.2f}'.format(df['Quantity'].mean()))"
   ]
  },
  {
   "cell_type": "markdown",
   "id": "6ef629ee",
   "metadata": {},
   "source": [
    "Now, let us look for the median of the same column: "
   ]
  },
  {
   "cell_type": "code",
   "execution_count": 29,
   "id": "5bde9f7e",
   "metadata": {},
   "outputs": [
    {
     "name": "stdout",
     "output_type": "stream",
     "text": [
      "6.0\n"
     ]
    }
   ],
   "source": [
    "print(df['Quantity'].median())"
   ]
  },
  {
   "cell_type": "markdown",
   "id": "02bc87fe",
   "metadata": {},
   "source": [
    "Finally, we will take a look at the mode of the quantity column"
   ]
  },
  {
   "cell_type": "code",
   "execution_count": 30,
   "id": "74b8c25e",
   "metadata": {},
   "outputs": [
    {
     "name": "stdout",
     "output_type": "stream",
     "text": [
      "0    10.0\n",
      "Name: Quantity, dtype: float64\n"
     ]
    }
   ],
   "source": [
    "print(df['Quantity'].mode())"
   ]
  },
  {
   "cell_type": "markdown",
   "id": "5ed8fe22",
   "metadata": {},
   "source": [
    "Using the mean and the median, we can see that the average number of orders made is around 5-6. One concern is that the mode of of the column is much higher than the mean and median of the column. This calls into question the distribution of the graph which we can verify in a few different ways:\n",
    "\n",
    "the first is finding the standard distribution of the specific variable:"
   ]
  },
  {
   "cell_type": "code",
   "execution_count": 31,
   "id": "d3858460",
   "metadata": {},
   "outputs": [
    {
     "name": "stdout",
     "output_type": "stream",
     "text": [
      "2.86\n"
     ]
    }
   ],
   "source": [
    "print('{:.2f}'.format(df['Quantity'].std()))"
   ]
  },
  {
   "cell_type": "markdown",
   "id": "0cda9295",
   "metadata": {},
   "source": [
    "the second method we can use is visualizing the distribution of the variable using a histogram. We are using this kind of graph because it is easy to visualize the spread of data by binning numerous observations into groups based on the quantity of each purchase."
   ]
  },
  {
   "cell_type": "code",
   "execution_count": 32,
   "id": "ace13123",
   "metadata": {},
   "outputs": [
    {
     "data": {
      "image/png": "[encoded data removed]",
      "text/plain": [
       "<Figure size 640x480 with 1 Axes>"
      ]
     },
     "metadata": {},
     "output_type": "display_data"
    }
   ],
   "source": [
    "\n",
    "mpl.hist(df['Quantity'], edgecolor = 'black')\n",
    "mpl.xlabel('Quantity of Items')\n",
    "mpl.ylabel('Number of Transactions')\n",
    "mpl.show()"
   ]
  },
  {
   "cell_type": "markdown",
   "id": "54517554",
   "metadata": {},
   "source": [
    "Given this graph, we can see that the data is unimodal (10) with a slight negative skew. This means that a very slight majority of the observations are bunched on the right side of the graph. However, as can be told with the standard deviation and mean, most of the observations are clumped in the 4-7 range. \n",
    "\n",
    "For the purpose of this research, we will be considering purchases with 6 or above as bulk purchases as these are all purchases that are above the average quantity of items per purchase. Let us first begin by limiting the database to observations with a quantity of 6 or above."
   ]
  },
  {
   "cell_type": "code",
   "execution_count": 33,
   "id": "9ea21fe1",
   "metadata": {},
   "outputs": [],
   "source": [
    "df_filtered = df[df['Quantity'] >= 6]"
   ]
  },
  {
   "cell_type": "markdown",
   "id": "b350fcbb",
   "metadata": {},
   "source": [
    "Let's take a look at the head of the dataset and do some measures of the central tendancy and spread of the quantity column."
   ]
  },
  {
   "cell_type": "code",
   "execution_count": 34,
   "id": "b5e501f8",
   "metadata": {},
   "outputs": [
    {
     "data": {
      "text/html": [
       "<div>\n",
       "<style scoped>\n",
       "    .dataframe tbody tr th:only-of-type {\n",
       "        vertical-align: middle;\n",
       "    }\n",
       "\n",
       "    .dataframe tbody tr th {\n",
       "        vertical-align: top;\n",
       "    }\n",
       "\n",
       "    .dataframe thead th {\n",
       "        text-align: right;\n",
       "    }\n",
       "</style>\n",
       "<table border=\"1\" class=\"dataframe\">\n",
       "  <thead>\n",
       "    <tr style=\"text-align: right;\">\n",
       "      <th></th>\n",
       "      <th>Transaction ID</th>\n",
       "      <th>Customer ID</th>\n",
       "      <th>Category</th>\n",
       "      <th>Item</th>\n",
       "      <th>Price Per Unit</th>\n",
       "      <th>Quantity</th>\n",
       "      <th>Total Spent</th>\n",
       "      <th>Payment Method</th>\n",
       "      <th>Location</th>\n",
       "      <th>Discount Applied</th>\n",
       "      <th>Year</th>\n",
       "      <th>Month</th>\n",
       "      <th>Day</th>\n",
       "    </tr>\n",
       "  </thead>\n",
       "  <tbody>\n",
       "    <tr>\n",
       "      <th>0</th>\n",
       "      <td>TXN_6867343</td>\n",
       "      <td>CUST_09</td>\n",
       "      <td>Patisserie</td>\n",
       "      <td>Item_10_PAT</td>\n",
       "      <td>18.5</td>\n",
       "      <td>10.0</td>\n",
       "      <td>185.0</td>\n",
       "      <td>Digital Wallet</td>\n",
       "      <td>Online</td>\n",
       "      <td>True</td>\n",
       "      <td>2024</td>\n",
       "      <td>4</td>\n",
       "      <td>8</td>\n",
       "    </tr>\n",
       "    <tr>\n",
       "      <th>1</th>\n",
       "      <td>TXN_3731986</td>\n",
       "      <td>CUST_22</td>\n",
       "      <td>Milk Products</td>\n",
       "      <td>Item_17_MILK</td>\n",
       "      <td>29.0</td>\n",
       "      <td>9.0</td>\n",
       "      <td>261.0</td>\n",
       "      <td>Digital Wallet</td>\n",
       "      <td>Online</td>\n",
       "      <td>True</td>\n",
       "      <td>2023</td>\n",
       "      <td>7</td>\n",
       "      <td>23</td>\n",
       "    </tr>\n",
       "    <tr>\n",
       "      <th>2</th>\n",
       "      <td>TXN_9303719</td>\n",
       "      <td>CUST_02</td>\n",
       "      <td>Butchers</td>\n",
       "      <td>Item_12_BUT</td>\n",
       "      <td>21.5</td>\n",
       "      <td>2.0</td>\n",
       "      <td>43.0</td>\n",
       "      <td>Credit Card</td>\n",
       "      <td>Online</td>\n",
       "      <td>False</td>\n",
       "      <td>2022</td>\n",
       "      <td>10</td>\n",
       "      <td>5</td>\n",
       "    </tr>\n",
       "    <tr>\n",
       "      <th>3</th>\n",
       "      <td>TXN_9458126</td>\n",
       "      <td>CUST_06</td>\n",
       "      <td>Beverages</td>\n",
       "      <td>Item_16_BEV</td>\n",
       "      <td>27.5</td>\n",
       "      <td>9.0</td>\n",
       "      <td>247.5</td>\n",
       "      <td>Credit Card</td>\n",
       "      <td>Online</td>\n",
       "      <td>True</td>\n",
       "      <td>2022</td>\n",
       "      <td>5</td>\n",
       "      <td>7</td>\n",
       "    </tr>\n",
       "    <tr>\n",
       "      <th>4</th>\n",
       "      <td>TXN_4575373</td>\n",
       "      <td>CUST_05</td>\n",
       "      <td>Food</td>\n",
       "      <td>Item_6_FOOD</td>\n",
       "      <td>12.5</td>\n",
       "      <td>7.0</td>\n",
       "      <td>87.5</td>\n",
       "      <td>Digital Wallet</td>\n",
       "      <td>Online</td>\n",
       "      <td>False</td>\n",
       "      <td>2022</td>\n",
       "      <td>10</td>\n",
       "      <td>2</td>\n",
       "    </tr>\n",
       "    <tr>\n",
       "      <th>5</th>\n",
       "      <td>TXN_7482416</td>\n",
       "      <td>CUST_09</td>\n",
       "      <td>Patisserie</td>\n",
       "      <td>Item_NA_PAT</td>\n",
       "      <td>20.0</td>\n",
       "      <td>10.0</td>\n",
       "      <td>200.0</td>\n",
       "      <td>Credit Card</td>\n",
       "      <td>Online</td>\n",
       "      <td>True</td>\n",
       "      <td>2023</td>\n",
       "      <td>11</td>\n",
       "      <td>30</td>\n",
       "    </tr>\n",
       "    <tr>\n",
       "      <th>6</th>\n",
       "      <td>TXN_3652209</td>\n",
       "      <td>CUST_07</td>\n",
       "      <td>Food</td>\n",
       "      <td>Item_1_FOOD</td>\n",
       "      <td>5.0</td>\n",
       "      <td>8.0</td>\n",
       "      <td>40.0</td>\n",
       "      <td>Credit Card</td>\n",
       "      <td>In-store</td>\n",
       "      <td>True</td>\n",
       "      <td>2023</td>\n",
       "      <td>6</td>\n",
       "      <td>10</td>\n",
       "    </tr>\n",
       "    <tr>\n",
       "      <th>8</th>\n",
       "      <td>TXN_9728486</td>\n",
       "      <td>CUST_23</td>\n",
       "      <td>Furniture</td>\n",
       "      <td>Item_16_FUR</td>\n",
       "      <td>27.5</td>\n",
       "      <td>1.0</td>\n",
       "      <td>27.5</td>\n",
       "      <td>Credit Card</td>\n",
       "      <td>In-store</td>\n",
       "      <td>False</td>\n",
       "      <td>2023</td>\n",
       "      <td>4</td>\n",
       "      <td>26</td>\n",
       "    </tr>\n",
       "    <tr>\n",
       "      <th>9</th>\n",
       "      <td>TXN_2722661</td>\n",
       "      <td>CUST_25</td>\n",
       "      <td>Butchers</td>\n",
       "      <td>Item_22_BUT</td>\n",
       "      <td>36.5</td>\n",
       "      <td>3.0</td>\n",
       "      <td>109.5</td>\n",
       "      <td>Cash</td>\n",
       "      <td>Online</td>\n",
       "      <td>False</td>\n",
       "      <td>2024</td>\n",
       "      <td>3</td>\n",
       "      <td>14</td>\n",
       "    </tr>\n",
       "    <tr>\n",
       "      <th>10</th>\n",
       "      <td>TXN_8776416</td>\n",
       "      <td>CUST_22</td>\n",
       "      <td>Butchers</td>\n",
       "      <td>Item_3_BUT</td>\n",
       "      <td>8.0</td>\n",
       "      <td>9.0</td>\n",
       "      <td>72.0</td>\n",
       "      <td>Cash</td>\n",
       "      <td>In-store</td>\n",
       "      <td>True</td>\n",
       "      <td>2024</td>\n",
       "      <td>12</td>\n",
       "      <td>14</td>\n",
       "    </tr>\n",
       "  </tbody>\n",
       "</table>\n",
       "</div>"
      ],
      "text/plain": [
       "   Transaction ID Customer ID       Category          Item  Price Per Unit  \\\n",
       "0     TXN_6867343     CUST_09     Patisserie   Item_10_PAT            18.5   \n",
       "1     TXN_3731986     CUST_22  Milk Products  Item_17_MILK            29.0   \n",
       "2     TXN_9303719     CUST_02       Butchers   Item_12_BUT            21.5   \n",
       "3     TXN_9458126     CUST_06      Beverages   Item_16_BEV            27.5   \n",
       "4     TXN_4575373     CUST_05           Food   Item_6_FOOD            12.5   \n",
       "5     TXN_7482416     CUST_09     Patisserie   Item_NA_PAT            20.0   \n",
       "6     TXN_3652209     CUST_07           Food   Item_1_FOOD             5.0   \n",
       "8     TXN_9728486     CUST_23      Furniture   Item_16_FUR            27.5   \n",
       "9     TXN_2722661     CUST_25       Butchers   Item_22_BUT            36.5   \n",
       "10    TXN_8776416     CUST_22       Butchers    Item_3_BUT             8.0   \n",
       "\n",
       "    Quantity  Total Spent  Payment Method  Location  Discount Applied  Year  \\\n",
       "0       10.0        185.0  Digital Wallet    Online              True  2024   \n",
       "1        9.0        261.0  Digital Wallet    Online              True  2023   \n",
       "2        2.0         43.0     Credit Card    Online             False  2022   \n",
       "3        9.0        247.5     Credit Card    Online              True  2022   \n",
       "4        7.0         87.5  Digital Wallet    Online             False  2022   \n",
       "5       10.0        200.0     Credit Card    Online              True  2023   \n",
       "6        8.0         40.0     Credit Card  In-store              True  2023   \n",
       "8        1.0         27.5     Credit Card  In-store             False  2023   \n",
       "9        3.0        109.5            Cash    Online             False  2024   \n",
       "10       9.0         72.0            Cash  In-store              True  2024   \n",
       "\n",
       "    Month  Day  \n",
       "0       4    8  \n",
       "1       7   23  \n",
       "2      10    5  \n",
       "3       5    7  \n",
       "4      10    2  \n",
       "5      11   30  \n",
       "6       6   10  \n",
       "8       4   26  \n",
       "9       3   14  \n",
       "10     12   14  "
      ]
     },
     "execution_count": 34,
     "metadata": {},
     "output_type": "execute_result"
    }
   ],
   "source": [
    "df.head(10)"
   ]
  },
  {
   "cell_type": "code",
   "execution_count": 35,
   "id": "c0eab1da",
   "metadata": {},
   "outputs": [
    {
     "name": "stdout",
     "output_type": "stream",
     "text": [
      "7.99\n"
     ]
    }
   ],
   "source": [
    "print('{:.2f}'.format(df_filtered['Quantity'].mean()))"
   ]
  },
  {
   "cell_type": "code",
   "execution_count": 36,
   "id": "75aa5dd2",
   "metadata": {},
   "outputs": [
    {
     "name": "stdout",
     "output_type": "stream",
     "text": [
      "0    10.0\n",
      "Name: Quantity, dtype: float64\n"
     ]
    }
   ],
   "source": [
    "print(df_filtered['Quantity'].mode())"
   ]
  },
  {
   "cell_type": "code",
   "execution_count": 37,
   "id": "4f5271fb",
   "metadata": {},
   "outputs": [
    {
     "name": "stdout",
     "output_type": "stream",
     "text": [
      "8.00\n"
     ]
    }
   ],
   "source": [
    "print('{:.2f}'.format(df_filtered['Quantity'].median()))"
   ]
  },
  {
   "cell_type": "code",
   "execution_count": 38,
   "id": "bd3f46c5",
   "metadata": {},
   "outputs": [
    {
     "name": "stdout",
     "output_type": "stream",
     "text": [
      "1.42\n"
     ]
    }
   ],
   "source": [
    "print('{:.2f}'.format(df_filtered['Quantity'].std()))"
   ]
  },
  {
   "cell_type": "markdown",
   "id": "c33a515a",
   "metadata": {},
   "source": [
    "Now that we have a better idea of the basic measurements of the quantity column, let's look at the first EDA question\n",
    "\n",
    "### Question 1: Is there a relationship between the Quantity of Items and the Price per Unit?\n",
    "\n",
    "Let us first do an analysis of the price per unit column in this filtered dataset, we can easily visualize the distribution of the data using a boxplot"
   ]
  },
  {
   "cell_type": "code",
   "execution_count": 39,
   "id": "9aa42b64",
   "metadata": {},
   "outputs": [
    {
     "data": {
      "text/plain": [
       "<Axes: title={'center': 'Price Per Unit'}, xlabel='Quantity'>"
      ]
     },
     "execution_count": 39,
     "metadata": {},
     "output_type": "execute_result"
    },
    {
     "data": {
      "image/png": "[encoded data removed]",
      "text/plain": [
       "<Figure size 640x480 with 1 Axes>"
      ]
     },
     "metadata": {},
     "output_type": "display_data"
    }
   ],
   "source": [
    "df_filtered.boxplot(by = 'Quantity', column = ['Price Per Unit'], grid = 'False')"
   ]
  },
  {
   "cell_type": "markdown",
   "id": "ea1a73a9",
   "metadata": {},
   "source": [
    "The box column suggests that the price per unit generally ranges from ~15 to ~33 with the median of each group being in the low 20s (22-25 to be precise). We can also see that there are no outliers present in the price column of this dataset. Knowing how this column is distributed is important because from the boxplot we can see that there is no notable relationships between the Price per Unit and the Quantity in these observations. This means that there is no need for further testing to verify any statistical significance for these relationships. \n",
    "\n",
    "Before moving on, let us first see if there is a correlation between the two variables using the Pearson Correlation method. We choose this method because we want to see if a linear relationship is present between these two variables."
   ]
  },
  {
   "cell_type": "code",
   "execution_count": 40,
   "id": "9a5ae667",
   "metadata": {},
   "outputs": [
    {
     "data": {
      "text/plain": [
       "np.float64(0.01598144593228284)"
      ]
     },
     "execution_count": 40,
     "metadata": {},
     "output_type": "execute_result"
    }
   ],
   "source": [
    "df_filtered['Quantity'].corr(df_filtered['Price Per Unit'])"
   ]
  },
  {
   "cell_type": "markdown",
   "id": "01992644",
   "metadata": {},
   "source": [
    "The value of 0.01598 (when rounded to 4 decimal places) is very close to 0. This is enough to safely conclude that there is no correlative relationship between prices per unit and the quantity of each purchase. To conclude this EDA, there is no correlation nor any potentially meaningful relationships.\n",
    "\n",
    "### Question 2: Is there a relationship between the Quantity of Items and the Total Spent per purchase?\n",
    "\n",
    "The next variable we will analyze for relationships is the Total Amount Spent. The Total Spent column is comprised of continuous numerical data that indicates the total amount of money that was spent in the transaction, after taking discounts into account. Given the fact that the Total Amount column is similar to the Price per Unit column in terms of data type, we will use the same method to analyze for any possible relationships. First, we will look at the boxplot to investigate if there are any possibly meaningful distributions among the the Total Amount observations per Quantity of Item value\n"
   ]
  },
  {
   "cell_type": "code",
   "execution_count": 41,
   "id": "906439b7",
   "metadata": {},
   "outputs": [
    {
     "data": {
      "text/plain": [
       "<Axes: title={'center': 'Total Spent'}, xlabel='Quantity'>"
      ]
     },
     "execution_count": 41,
     "metadata": {},
     "output_type": "execute_result"
    },
    {
     "data": {
      "image/png": "[encoded data removed]",
      "text/plain": [
       "<Figure size 640x480 with 1 Axes>"
      ]
     },
     "metadata": {},
     "output_type": "display_data"
    }
   ],
   "source": [
    "df_filtered.boxplot(by = 'Quantity', column = ['Total Spent'], grid = 'False')"
   ]
  },
  {
   "cell_type": "markdown",
   "id": "930f8ad2",
   "metadata": {},
   "source": [
    "Here, there is a potentially interesting relationship. As the quantity of items increases, several values grow larger. First is the median which is at its lowest when purchases are at 6 and at their peak when purchases are at 10. Similarly, both upper and lower quartiles, and the upper whisker increase by a noteable amount as the Quantity value increases. After EDA, we can test if these differences are meaningfully significant in various ways. The first is by performing an anova to see if any one group has a statistically significant difference in its mean compared to the other groups. Another way is to perform an unpaired t-test for every group combination if we want to identify which group has a statistically significant difference, if one is present.\n",
    "\n",
    "Finally, let us use Pearson Correlation if there is a direct correlation between the Quantity of Items and the Total Spent variables."
   ]
  },
  {
   "cell_type": "code",
   "execution_count": 42,
   "id": "e0c4a69a",
   "metadata": {},
   "outputs": [
    {
     "data": {
      "text/plain": [
       "np.float64(0.372765050555415)"
      ]
     },
     "execution_count": 42,
     "metadata": {},
     "output_type": "execute_result"
    }
   ],
   "source": [
    "df_filtered['Quantity'].corr(df_filtered['Total Spent'])"
   ]
  },
  {
   "cell_type": "markdown",
   "id": "6964e91c",
   "metadata": {},
   "source": [
    "A value of 0.3729 is much closer to 1 compared to the Pearson coefficient that was given by testing the Price per Unit and Quantity. This means that there is a higher chance that there is an actual correlation between these two values. However, since the value is still quite far from 1, that chance is still quite small. However, further testing is still warranted for the statistical significance of the previous relationships that were noted.\n",
    "\n",
    "### Question 3: Is there a relationship between the Quantity Purchased and whether or not a discount was applied to the purchase?\n",
    "\n",
    "Now that we have tested for 2 numerical columns within this dataset, let us now try to see if there is a strong relationship between the Quantity Purchased and the Discount Applied variables. The process in examining this will be slightly different as the Discount Applied variable is categorical, not numeric. To begin with, let us understand the distribution of Discount Applied by looking at the mode, since median and mean cannot be calculated."
   ]
  },
  {
   "cell_type": "code",
   "execution_count": 43,
   "id": "d78cb651",
   "metadata": {},
   "outputs": [
    {
     "name": "stdout",
     "output_type": "stream",
     "text": [
      "0    True\n",
      "Name: Discount Applied, dtype: boolean\n"
     ]
    }
   ],
   "source": [
    "print(df_filtered['Discount Applied'].mode())"
   ]
  },
  {
   "cell_type": "markdown",
   "id": "30f26db5",
   "metadata": {},
   "source": [
    "We can see that a majority of the orders with an above average quantity have some sort of discount applied. Fianlly, to get an idea of the difference let us use a bar chart. Using a bar chart in this instance is best because we are interested in the number of observations per category: discount applied, and no discount applied."
   ]
  },
  {
   "cell_type": "code",
   "execution_count": 47,
   "id": "842b3139",
   "metadata": {},
   "outputs": [
    {
     "data": {
      "text/plain": [
       "<Axes: xlabel='Discount Applied'>"
      ]
     },
     "execution_count": 47,
     "metadata": {},
     "output_type": "execute_result"
    },
    {
     "data": {
      "image/png": "[encoded data removed]",
      "text/plain": [
       "<Figure size 640x480 with 1 Axes>"
      ]
     },
     "metadata": {},
     "output_type": "display_data"
    }
   ],
   "source": [
    "df_filtered['Discount Applied'].value_counts().plot.bar()"
   ]
  },
  {
   "cell_type": "markdown",
   "id": "245d1ce8",
   "metadata": {},
   "source": [
    "Here, we can see a difference of almost 2000 purchases. We can do further testing to see if this difference is statistically significant. This is done via a test of goodness using the chi-square test. By assuming that the expected value is 50/50, we can see if this difference actually means something or if it is inisignificant."
   ]
  }
 ],
 "metadata": {
  "kernelspec": {
   "display_name": "Python 3",
   "language": "python",
   "name": "python3"
  },
  "language_info": {
   "codemirror_mode": {
    "name": "ipython",
    "version": 3
   },
   "file_extension": ".py",
   "mimetype": "text/x-python",
   "name": "python",
   "nbconvert_exporter": "python",
   "pygments_lexer": "ipython3",
   "version": "3.13.3"
  }
 },
 "nbformat": 4,
 "nbformat_minor": 5
}
