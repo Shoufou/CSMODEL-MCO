{
 "cells": [
  {
   "cell_type": "markdown",
   "id": "2a4de9ec",
   "metadata": {},
   "source": [
    "## Dataset Description\n",
    "\n",
    "### Dataset Overview\n",
    "\n",
    "The dataset used for this research, \"Retail Store Sales - Dirty for Data Cleaning\", simulates a point-of-sale transaction in a retail store. Specifically, it was made for practicing data analysis and cleaning. Several weaknesses that are frequently present in real-world business datasets, including missing values, inconsistent formats, and potential duplication, are included in the data, which is constructed to reflect actual retail transactions. "
   ]
  },
  {
   "cell_type": "markdown",
   "id": "61f6a289",
   "metadata": {},
   "source": [
    "### Data Source and Collection"
   ]
  },
  {
   "cell_type": "markdown",
   "id": "81cfbf86",
   "metadata": {},
   "source": [
    "This dataset is publicly available on Kaggle, created by Ahmed Mohammed. It was formulated to represent the real world complex nature of transactional sales records observed in retail settings. For instructional and analytical reasons, the dataset is structured to mimic realistic scenarios, even if it is not based on the records of a real business."
   ]
  },
  {
   "cell_type": "markdown",
   "id": "0511d54d",
   "metadata": {},
   "source": [
    "### Potential Implications of Data Collection"
   ]
  },
  {
   "cell_type": "markdown",
   "id": "53b20765",
   "metadata": {},
   "source": [
    "The dataset is simulated, thus it is free of the sampling biases and privacy issues that are usually present in real-world data.  But before any substantial analysis can occur, its purposeful roughness motivates students to use the proper data cleaning techniques.  The difficulties this dataset poses are reflective of real data management issues that arise in real life, even if the insights it offers might not be directly applicable to actual businesses."
   ]
  },
  {
   "cell_type": "markdown",
   "id": "31e7c43a",
   "metadata": {},
   "source": [
    "### Structure of Data\n",
    "\n",
    "The dataset is presented in a tabular format, where: \n",
    "\n",
    "- Rows represents a unique sales transaction\n",
    "- Columns represents an important attribute of the transaction (e.g., item, quantity, payment method, etc.)\n",
    "- The dataset contains 12,575 observations."
   ]
  },
  {
   "cell_type": "markdown",
   "id": "c0dfd2c9",
   "metadata": {},
   "source": [
    "### Attribute Description\n",
    "\n",
    "- Transaction ID - A unique identifier for each transaction. \n",
    "- Customer ID - A unique identifier for each costumer. \n",
    "- Category - The category of the purchased item. \n",
    "- Item - The name of the purchased item. \n",
    "- Price Per Unit - The statistic price of a single unit of the item. \n",
    "- Quantity - The quantity of the item purchased. \n",
    "- Total Spent - The total amount spent on the transaction. \n",
    "- Payment Method - The method of payment used. \n",
    "- Location - The location where the transaction occured. \n",
    "- Transaction Date - The date of the transaction. \n",
    "- Discount Applied - Whether discount is applied or not. "
   ]
  },
  {
   "cell_type": "markdown",
   "id": "5b355b7b",
   "metadata": {},
   "source": [
    "## Data Cleaning"
   ]
  },
  {
   "cell_type": "markdown",
   "id": "5efea5c8",
   "metadata": {},
   "source": [
    "Before any Exploratory Data Analysis can be done to answer our research questions with the dataset, we have to clean the data first in case there are any issues that may result in problems with the analysis."
   ]
  },
  {
   "cell_type": "markdown",
   "id": "1538fcfd",
   "metadata": {},
   "source": [
    "### Importing, Loading and Reading the Dataset"
   ]
  },
  {
   "cell_type": "markdown",
   "id": "15b2f0e2",
   "metadata": {},
   "source": [
    "We begin by importing all the necessary libraries before starting the actual Data Cleaning process."
   ]
  },
  {
   "cell_type": "code",
   "execution_count": 187,
   "id": "8497d786",
   "metadata": {},
   "outputs": [],
   "source": [
    "import numpy as np\n",
    "import pandas as pd"
   ]
  },
  {
   "cell_type": "markdown",
   "id": "24154155",
   "metadata": {},
   "source": [
    "Next, we load the dataset and call the `.head()` function to view a snippet of the dataset's contents."
   ]
  },
  {
   "cell_type": "code",
   "execution_count": 188,
   "id": "b39137ef",
   "metadata": {},
   "outputs": [
    {
     "data": {
      "text/html": [
       "<div>\n",
       "<style scoped>\n",
       "    .dataframe tbody tr th:only-of-type {\n",
       "        vertical-align: middle;\n",
       "    }\n",
       "\n",
       "    .dataframe tbody tr th {\n",
       "        vertical-align: top;\n",
       "    }\n",
       "\n",
       "    .dataframe thead th {\n",
       "        text-align: right;\n",
       "    }\n",
       "</style>\n",
       "<table border=\"1\" class=\"dataframe\">\n",
       "  <thead>\n",
       "    <tr style=\"text-align: right;\">\n",
       "      <th></th>\n",
       "      <th>Transaction ID</th>\n",
       "      <th>Customer ID</th>\n",
       "      <th>Category</th>\n",
       "      <th>Item</th>\n",
       "      <th>Price Per Unit</th>\n",
       "      <th>Quantity</th>\n",
       "      <th>Total Spent</th>\n",
       "      <th>Payment Method</th>\n",
       "      <th>Location</th>\n",
       "      <th>Transaction Date</th>\n",
       "      <th>Discount Applied</th>\n",
       "    </tr>\n",
       "  </thead>\n",
       "  <tbody>\n",
       "    <tr>\n",
       "      <th>0</th>\n",
       "      <td>TXN_6867343</td>\n",
       "      <td>CUST_09</td>\n",
       "      <td>Patisserie</td>\n",
       "      <td>Item_10_PAT</td>\n",
       "      <td>18.5</td>\n",
       "      <td>10.0</td>\n",
       "      <td>185.0</td>\n",
       "      <td>Digital Wallet</td>\n",
       "      <td>Online</td>\n",
       "      <td>2024-04-08</td>\n",
       "      <td>True</td>\n",
       "    </tr>\n",
       "    <tr>\n",
       "      <th>1</th>\n",
       "      <td>TXN_3731986</td>\n",
       "      <td>CUST_22</td>\n",
       "      <td>Milk Products</td>\n",
       "      <td>Item_17_MILK</td>\n",
       "      <td>29.0</td>\n",
       "      <td>9.0</td>\n",
       "      <td>261.0</td>\n",
       "      <td>Digital Wallet</td>\n",
       "      <td>Online</td>\n",
       "      <td>2023-07-23</td>\n",
       "      <td>True</td>\n",
       "    </tr>\n",
       "    <tr>\n",
       "      <th>2</th>\n",
       "      <td>TXN_9303719</td>\n",
       "      <td>CUST_02</td>\n",
       "      <td>Butchers</td>\n",
       "      <td>Item_12_BUT</td>\n",
       "      <td>21.5</td>\n",
       "      <td>2.0</td>\n",
       "      <td>43.0</td>\n",
       "      <td>Credit Card</td>\n",
       "      <td>Online</td>\n",
       "      <td>2022-10-05</td>\n",
       "      <td>False</td>\n",
       "    </tr>\n",
       "    <tr>\n",
       "      <th>3</th>\n",
       "      <td>TXN_9458126</td>\n",
       "      <td>CUST_06</td>\n",
       "      <td>Beverages</td>\n",
       "      <td>Item_16_BEV</td>\n",
       "      <td>27.5</td>\n",
       "      <td>9.0</td>\n",
       "      <td>247.5</td>\n",
       "      <td>Credit Card</td>\n",
       "      <td>Online</td>\n",
       "      <td>2022-05-07</td>\n",
       "      <td>NaN</td>\n",
       "    </tr>\n",
       "    <tr>\n",
       "      <th>4</th>\n",
       "      <td>TXN_4575373</td>\n",
       "      <td>CUST_05</td>\n",
       "      <td>Food</td>\n",
       "      <td>Item_6_FOOD</td>\n",
       "      <td>12.5</td>\n",
       "      <td>7.0</td>\n",
       "      <td>87.5</td>\n",
       "      <td>Digital Wallet</td>\n",
       "      <td>Online</td>\n",
       "      <td>2022-10-02</td>\n",
       "      <td>False</td>\n",
       "    </tr>\n",
       "  </tbody>\n",
       "</table>\n",
       "</div>"
      ],
      "text/plain": [
       "  Transaction ID Customer ID       Category          Item  Price Per Unit  \\\n",
       "0    TXN_6867343     CUST_09     Patisserie   Item_10_PAT            18.5   \n",
       "1    TXN_3731986     CUST_22  Milk Products  Item_17_MILK            29.0   \n",
       "2    TXN_9303719     CUST_02       Butchers   Item_12_BUT            21.5   \n",
       "3    TXN_9458126     CUST_06      Beverages   Item_16_BEV            27.5   \n",
       "4    TXN_4575373     CUST_05           Food   Item_6_FOOD            12.5   \n",
       "\n",
       "   Quantity  Total Spent  Payment Method Location Transaction Date  \\\n",
       "0      10.0        185.0  Digital Wallet   Online       2024-04-08   \n",
       "1       9.0        261.0  Digital Wallet   Online       2023-07-23   \n",
       "2       2.0         43.0     Credit Card   Online       2022-10-05   \n",
       "3       9.0        247.5     Credit Card   Online       2022-05-07   \n",
       "4       7.0         87.5  Digital Wallet   Online       2022-10-02   \n",
       "\n",
       "  Discount Applied  \n",
       "0             True  \n",
       "1             True  \n",
       "2            False  \n",
       "3              NaN  \n",
       "4            False  "
      ]
     },
     "execution_count": 188,
     "metadata": {},
     "output_type": "execute_result"
    }
   ],
   "source": [
    "df = pd.read_csv('retail_store_sales.csv')\n",
    "df.head()"
   ]
  },
  {
   "cell_type": "markdown",
   "id": "279fb06e",
   "metadata": {},
   "source": [
    "Then the `.info()` function to view general information about the dataset."
   ]
  },
  {
   "cell_type": "code",
   "execution_count": 189,
   "id": "73ea5307",
   "metadata": {},
   "outputs": [
    {
     "name": "stdout",
     "output_type": "stream",
     "text": [
      "<class 'pandas.core.frame.DataFrame'>\n",
      "RangeIndex: 12575 entries, 0 to 12574\n",
      "Data columns (total 11 columns):\n",
      " #   Column            Non-Null Count  Dtype  \n",
      "---  ------            --------------  -----  \n",
      " 0   Transaction ID    12575 non-null  object \n",
      " 1   Customer ID       12575 non-null  object \n",
      " 2   Category          12575 non-null  object \n",
      " 3   Item              11362 non-null  object \n",
      " 4   Price Per Unit    11966 non-null  float64\n",
      " 5   Quantity          11971 non-null  float64\n",
      " 6   Total Spent       11971 non-null  float64\n",
      " 7   Payment Method    12575 non-null  object \n",
      " 8   Location          12575 non-null  object \n",
      " 9   Transaction Date  12575 non-null  object \n",
      " 10  Discount Applied  8376 non-null   object \n",
      "dtypes: float64(3), object(8)\n",
      "memory usage: 1.1+ MB\n"
     ]
    }
   ],
   "source": [
    "df.info()"
   ]
  },
  {
   "cell_type": "markdown",
   "id": "0484d1a3",
   "metadata": {},
   "source": [
    "This tells us that the dataset contains 12575 entries, but more importantly, we can quickly identify (3) potential issues we'll need to resolve as we go through the Data Cleaning process:\n",
    "\n",
    "1. The `Discount Applied` column uses a Dtype of `object` rather than `boolean`.\n",
    "\n",
    "2. The `Transaction Date` column uses a Dtype of `object` rather than `datetime64[ns]`. But since it also contains day, month, and year in one column, we can split these into their own respective Dtype `int64` columns.\n",
    "\n",
    "3. The columns `Item`, `Price Per Unit`, `Quantity`, `Total Spent`, and `Discount Applied` all contain null values. Thus, we'll need to look into any inconsistencies or issues with these columns.\n",
    "\n",
    "But before investigating these specific dataset issues, we'll start off with some preliminary checks by looking for duplicate values and duplicate categorical representations."
   ]
  },
  {
   "cell_type": "markdown",
   "id": "30dfe1f7",
   "metadata": {},
   "source": [
    "### Duplicate Values"
   ]
  },
  {
   "cell_type": "code",
   "execution_count": 190,
   "id": "5204131a",
   "metadata": {},
   "outputs": [
    {
     "data": {
      "text/plain": [
       "0"
      ]
     },
     "execution_count": 190,
     "metadata": {},
     "output_type": "execute_result"
    }
   ],
   "source": [
    "df.duplicated().sum()"
   ]
  },
  {
   "cell_type": "markdown",
   "id": "69bea3b0",
   "metadata": {},
   "source": [
    "This dataset contains no duplicate values, so **no issues** there."
   ]
  },
  {
   "cell_type": "markdown",
   "id": "eee50334",
   "metadata": {},
   "source": [
    "### Multiple Representations of the Same Categorical Value"
   ]
  },
  {
   "cell_type": "markdown",
   "id": "c3057f71",
   "metadata": {},
   "source": [
    "The columns to watch out for here are `Category`, `Payment Method`, and `Location`. We have to ensure none of their representations end up being the same as other ones.\n",
    "\n",
    "We'll start with `Category`."
   ]
  },
  {
   "cell_type": "code",
   "execution_count": 191,
   "id": "dc8d44ea",
   "metadata": {},
   "outputs": [
    {
     "data": {
      "text/plain": [
       "array(['Patisserie', 'Milk Products', 'Butchers', 'Beverages', 'Food',\n",
       "       'Furniture', 'Electric household essentials',\n",
       "       'Computers and electric accessories'], dtype=object)"
      ]
     },
     "execution_count": 191,
     "metadata": {},
     "output_type": "execute_result"
    }
   ],
   "source": [
    "df['Category'].unique()"
   ]
  },
  {
   "cell_type": "markdown",
   "id": "969900a0",
   "metadata": {},
   "source": [
    "Next, `Payment Method`."
   ]
  },
  {
   "cell_type": "code",
   "execution_count": 192,
   "id": "0a6c1a28",
   "metadata": {},
   "outputs": [
    {
     "data": {
      "text/plain": [
       "array(['Digital Wallet', 'Credit Card', 'Cash'], dtype=object)"
      ]
     },
     "execution_count": 192,
     "metadata": {},
     "output_type": "execute_result"
    }
   ],
   "source": [
    "df['Payment Method'].unique()"
   ]
  },
  {
   "cell_type": "markdown",
   "id": "97ef8bc5",
   "metadata": {},
   "source": [
    "Lastly, `Location`."
   ]
  },
  {
   "cell_type": "code",
   "execution_count": 193,
   "id": "220cb1fe",
   "metadata": {},
   "outputs": [
    {
     "data": {
      "text/plain": [
       "array(['Online', 'In-store'], dtype=object)"
      ]
     },
     "execution_count": 193,
     "metadata": {},
     "output_type": "execute_result"
    }
   ],
   "source": [
    "df['Location'].unique()"
   ]
  },
  {
   "cell_type": "markdown",
   "id": "93f368c1",
   "metadata": {},
   "source": [
    "Since none of the categories were representing the same thing as other categories, there are **no issues** to be found here."
   ]
  },
  {
   "cell_type": "markdown",
   "id": "fb018ab0",
   "metadata": {},
   "source": [
    "### Incorrect Datatypes"
   ]
  },
  {
   "cell_type": "markdown",
   "id": "0d9c29c4",
   "metadata": {},
   "source": [
    "For this portion, we'll resolve each of the previously mentioned columns individually."
   ]
  },
  {
   "cell_type": "markdown",
   "id": "088c5cf4",
   "metadata": {},
   "source": [
    "#### Transaction Date Column"
   ]
  },
  {
   "cell_type": "markdown",
   "id": "83b7a710",
   "metadata": {},
   "source": [
    "In order to make extracting the date into three separate columns easier, we'll first turn the `Transaction Date` into Dtype `datetime64[ns]` rather than its current Dtype of `object`. "
   ]
  },
  {
   "cell_type": "code",
   "execution_count": 194,
   "id": "dbdfaff3",
   "metadata": {},
   "outputs": [
    {
     "name": "stdout",
     "output_type": "stream",
     "text": [
      "<class 'pandas.core.frame.DataFrame'>\n",
      "RangeIndex: 12575 entries, 0 to 12574\n",
      "Data columns (total 11 columns):\n",
      " #   Column            Non-Null Count  Dtype         \n",
      "---  ------            --------------  -----         \n",
      " 0   Transaction ID    12575 non-null  object        \n",
      " 1   Customer ID       12575 non-null  object        \n",
      " 2   Category          12575 non-null  object        \n",
      " 3   Item              11362 non-null  object        \n",
      " 4   Price Per Unit    11966 non-null  float64       \n",
      " 5   Quantity          11971 non-null  float64       \n",
      " 6   Total Spent       11971 non-null  float64       \n",
      " 7   Payment Method    12575 non-null  object        \n",
      " 8   Location          12575 non-null  object        \n",
      " 9   Transaction Date  12575 non-null  datetime64[ns]\n",
      " 10  Discount Applied  8376 non-null   object        \n",
      "dtypes: datetime64[ns](1), float64(3), object(7)\n",
      "memory usage: 1.1+ MB\n"
     ]
    }
   ],
   "source": [
    "df['Transaction Date'] = pd.to_datetime(df['Transaction Date'])\n",
    "df.info()"
   ]
  },
  {
   "cell_type": "markdown",
   "id": "8879da5c",
   "metadata": {},
   "source": [
    "Afterwards, we may use `.dt.year`, `.dt.month`, and `.dt.day` to extract each part of the date and put them into their own separate columns."
   ]
  },
  {
   "cell_type": "code",
   "execution_count": 195,
   "id": "eebe1aa4",
   "metadata": {},
   "outputs": [
    {
     "data": {
      "text/html": [
       "<div>\n",
       "<style scoped>\n",
       "    .dataframe tbody tr th:only-of-type {\n",
       "        vertical-align: middle;\n",
       "    }\n",
       "\n",
       "    .dataframe tbody tr th {\n",
       "        vertical-align: top;\n",
       "    }\n",
       "\n",
       "    .dataframe thead th {\n",
       "        text-align: right;\n",
       "    }\n",
       "</style>\n",
       "<table border=\"1\" class=\"dataframe\">\n",
       "  <thead>\n",
       "    <tr style=\"text-align: right;\">\n",
       "      <th></th>\n",
       "      <th>Transaction ID</th>\n",
       "      <th>Customer ID</th>\n",
       "      <th>Category</th>\n",
       "      <th>Item</th>\n",
       "      <th>Price Per Unit</th>\n",
       "      <th>Quantity</th>\n",
       "      <th>Total Spent</th>\n",
       "      <th>Payment Method</th>\n",
       "      <th>Location</th>\n",
       "      <th>Transaction Date</th>\n",
       "      <th>Discount Applied</th>\n",
       "      <th>Year</th>\n",
       "      <th>Month</th>\n",
       "      <th>Day</th>\n",
       "    </tr>\n",
       "  </thead>\n",
       "  <tbody>\n",
       "    <tr>\n",
       "      <th>0</th>\n",
       "      <td>TXN_6867343</td>\n",
       "      <td>CUST_09</td>\n",
       "      <td>Patisserie</td>\n",
       "      <td>Item_10_PAT</td>\n",
       "      <td>18.5</td>\n",
       "      <td>10.0</td>\n",
       "      <td>185.0</td>\n",
       "      <td>Digital Wallet</td>\n",
       "      <td>Online</td>\n",
       "      <td>2024-04-08</td>\n",
       "      <td>True</td>\n",
       "      <td>2024</td>\n",
       "      <td>4</td>\n",
       "      <td>8</td>\n",
       "    </tr>\n",
       "    <tr>\n",
       "      <th>1</th>\n",
       "      <td>TXN_3731986</td>\n",
       "      <td>CUST_22</td>\n",
       "      <td>Milk Products</td>\n",
       "      <td>Item_17_MILK</td>\n",
       "      <td>29.0</td>\n",
       "      <td>9.0</td>\n",
       "      <td>261.0</td>\n",
       "      <td>Digital Wallet</td>\n",
       "      <td>Online</td>\n",
       "      <td>2023-07-23</td>\n",
       "      <td>True</td>\n",
       "      <td>2023</td>\n",
       "      <td>7</td>\n",
       "      <td>23</td>\n",
       "    </tr>\n",
       "    <tr>\n",
       "      <th>2</th>\n",
       "      <td>TXN_9303719</td>\n",
       "      <td>CUST_02</td>\n",
       "      <td>Butchers</td>\n",
       "      <td>Item_12_BUT</td>\n",
       "      <td>21.5</td>\n",
       "      <td>2.0</td>\n",
       "      <td>43.0</td>\n",
       "      <td>Credit Card</td>\n",
       "      <td>Online</td>\n",
       "      <td>2022-10-05</td>\n",
       "      <td>False</td>\n",
       "      <td>2022</td>\n",
       "      <td>10</td>\n",
       "      <td>5</td>\n",
       "    </tr>\n",
       "    <tr>\n",
       "      <th>3</th>\n",
       "      <td>TXN_9458126</td>\n",
       "      <td>CUST_06</td>\n",
       "      <td>Beverages</td>\n",
       "      <td>Item_16_BEV</td>\n",
       "      <td>27.5</td>\n",
       "      <td>9.0</td>\n",
       "      <td>247.5</td>\n",
       "      <td>Credit Card</td>\n",
       "      <td>Online</td>\n",
       "      <td>2022-05-07</td>\n",
       "      <td>NaN</td>\n",
       "      <td>2022</td>\n",
       "      <td>5</td>\n",
       "      <td>7</td>\n",
       "    </tr>\n",
       "    <tr>\n",
       "      <th>4</th>\n",
       "      <td>TXN_4575373</td>\n",
       "      <td>CUST_05</td>\n",
       "      <td>Food</td>\n",
       "      <td>Item_6_FOOD</td>\n",
       "      <td>12.5</td>\n",
       "      <td>7.0</td>\n",
       "      <td>87.5</td>\n",
       "      <td>Digital Wallet</td>\n",
       "      <td>Online</td>\n",
       "      <td>2022-10-02</td>\n",
       "      <td>False</td>\n",
       "      <td>2022</td>\n",
       "      <td>10</td>\n",
       "      <td>2</td>\n",
       "    </tr>\n",
       "  </tbody>\n",
       "</table>\n",
       "</div>"
      ],
      "text/plain": [
       "  Transaction ID Customer ID       Category          Item  Price Per Unit  \\\n",
       "0    TXN_6867343     CUST_09     Patisserie   Item_10_PAT            18.5   \n",
       "1    TXN_3731986     CUST_22  Milk Products  Item_17_MILK            29.0   \n",
       "2    TXN_9303719     CUST_02       Butchers   Item_12_BUT            21.5   \n",
       "3    TXN_9458126     CUST_06      Beverages   Item_16_BEV            27.5   \n",
       "4    TXN_4575373     CUST_05           Food   Item_6_FOOD            12.5   \n",
       "\n",
       "   Quantity  Total Spent  Payment Method Location Transaction Date  \\\n",
       "0      10.0        185.0  Digital Wallet   Online       2024-04-08   \n",
       "1       9.0        261.0  Digital Wallet   Online       2023-07-23   \n",
       "2       2.0         43.0     Credit Card   Online       2022-10-05   \n",
       "3       9.0        247.5     Credit Card   Online       2022-05-07   \n",
       "4       7.0         87.5  Digital Wallet   Online       2022-10-02   \n",
       "\n",
       "  Discount Applied  Year  Month  Day  \n",
       "0             True  2024      4    8  \n",
       "1             True  2023      7   23  \n",
       "2            False  2022     10    5  \n",
       "3              NaN  2022      5    7  \n",
       "4            False  2022     10    2  "
      ]
     },
     "execution_count": 195,
     "metadata": {},
     "output_type": "execute_result"
    }
   ],
   "source": [
    "df['Year'] = df['Transaction Date'].dt.year\n",
    "df['Month'] = df['Transaction Date'].dt.month\n",
    "df['Day'] = df['Transaction Date'].dt.day\n",
    "df.head()"
   ]
  },
  {
   "cell_type": "markdown",
   "id": "45d97122",
   "metadata": {},
   "source": [
    "Now that we've created columns `Year`, `Month`, and `Day` we no longer need the `Transaction Date` column, so we'll drop it."
   ]
  },
  {
   "cell_type": "code",
   "execution_count": 196,
   "id": "cfd8d485",
   "metadata": {},
   "outputs": [
    {
     "data": {
      "text/html": [
       "<div>\n",
       "<style scoped>\n",
       "    .dataframe tbody tr th:only-of-type {\n",
       "        vertical-align: middle;\n",
       "    }\n",
       "\n",
       "    .dataframe tbody tr th {\n",
       "        vertical-align: top;\n",
       "    }\n",
       "\n",
       "    .dataframe thead th {\n",
       "        text-align: right;\n",
       "    }\n",
       "</style>\n",
       "<table border=\"1\" class=\"dataframe\">\n",
       "  <thead>\n",
       "    <tr style=\"text-align: right;\">\n",
       "      <th></th>\n",
       "      <th>Transaction ID</th>\n",
       "      <th>Customer ID</th>\n",
       "      <th>Category</th>\n",
       "      <th>Item</th>\n",
       "      <th>Price Per Unit</th>\n",
       "      <th>Quantity</th>\n",
       "      <th>Total Spent</th>\n",
       "      <th>Payment Method</th>\n",
       "      <th>Location</th>\n",
       "      <th>Discount Applied</th>\n",
       "      <th>Year</th>\n",
       "      <th>Month</th>\n",
       "      <th>Day</th>\n",
       "    </tr>\n",
       "  </thead>\n",
       "  <tbody>\n",
       "    <tr>\n",
       "      <th>0</th>\n",
       "      <td>TXN_6867343</td>\n",
       "      <td>CUST_09</td>\n",
       "      <td>Patisserie</td>\n",
       "      <td>Item_10_PAT</td>\n",
       "      <td>18.5</td>\n",
       "      <td>10.0</td>\n",
       "      <td>185.0</td>\n",
       "      <td>Digital Wallet</td>\n",
       "      <td>Online</td>\n",
       "      <td>True</td>\n",
       "      <td>2024</td>\n",
       "      <td>4</td>\n",
       "      <td>8</td>\n",
       "    </tr>\n",
       "    <tr>\n",
       "      <th>1</th>\n",
       "      <td>TXN_3731986</td>\n",
       "      <td>CUST_22</td>\n",
       "      <td>Milk Products</td>\n",
       "      <td>Item_17_MILK</td>\n",
       "      <td>29.0</td>\n",
       "      <td>9.0</td>\n",
       "      <td>261.0</td>\n",
       "      <td>Digital Wallet</td>\n",
       "      <td>Online</td>\n",
       "      <td>True</td>\n",
       "      <td>2023</td>\n",
       "      <td>7</td>\n",
       "      <td>23</td>\n",
       "    </tr>\n",
       "    <tr>\n",
       "      <th>2</th>\n",
       "      <td>TXN_9303719</td>\n",
       "      <td>CUST_02</td>\n",
       "      <td>Butchers</td>\n",
       "      <td>Item_12_BUT</td>\n",
       "      <td>21.5</td>\n",
       "      <td>2.0</td>\n",
       "      <td>43.0</td>\n",
       "      <td>Credit Card</td>\n",
       "      <td>Online</td>\n",
       "      <td>False</td>\n",
       "      <td>2022</td>\n",
       "      <td>10</td>\n",
       "      <td>5</td>\n",
       "    </tr>\n",
       "    <tr>\n",
       "      <th>3</th>\n",
       "      <td>TXN_9458126</td>\n",
       "      <td>CUST_06</td>\n",
       "      <td>Beverages</td>\n",
       "      <td>Item_16_BEV</td>\n",
       "      <td>27.5</td>\n",
       "      <td>9.0</td>\n",
       "      <td>247.5</td>\n",
       "      <td>Credit Card</td>\n",
       "      <td>Online</td>\n",
       "      <td>NaN</td>\n",
       "      <td>2022</td>\n",
       "      <td>5</td>\n",
       "      <td>7</td>\n",
       "    </tr>\n",
       "    <tr>\n",
       "      <th>4</th>\n",
       "      <td>TXN_4575373</td>\n",
       "      <td>CUST_05</td>\n",
       "      <td>Food</td>\n",
       "      <td>Item_6_FOOD</td>\n",
       "      <td>12.5</td>\n",
       "      <td>7.0</td>\n",
       "      <td>87.5</td>\n",
       "      <td>Digital Wallet</td>\n",
       "      <td>Online</td>\n",
       "      <td>False</td>\n",
       "      <td>2022</td>\n",
       "      <td>10</td>\n",
       "      <td>2</td>\n",
       "    </tr>\n",
       "  </tbody>\n",
       "</table>\n",
       "</div>"
      ],
      "text/plain": [
       "  Transaction ID Customer ID       Category          Item  Price Per Unit  \\\n",
       "0    TXN_6867343     CUST_09     Patisserie   Item_10_PAT            18.5   \n",
       "1    TXN_3731986     CUST_22  Milk Products  Item_17_MILK            29.0   \n",
       "2    TXN_9303719     CUST_02       Butchers   Item_12_BUT            21.5   \n",
       "3    TXN_9458126     CUST_06      Beverages   Item_16_BEV            27.5   \n",
       "4    TXN_4575373     CUST_05           Food   Item_6_FOOD            12.5   \n",
       "\n",
       "   Quantity  Total Spent  Payment Method Location Discount Applied  Year  \\\n",
       "0      10.0        185.0  Digital Wallet   Online             True  2024   \n",
       "1       9.0        261.0  Digital Wallet   Online             True  2023   \n",
       "2       2.0         43.0     Credit Card   Online            False  2022   \n",
       "3       9.0        247.5     Credit Card   Online              NaN  2022   \n",
       "4       7.0         87.5  Digital Wallet   Online            False  2022   \n",
       "\n",
       "   Month  Day  \n",
       "0      4    8  \n",
       "1      7   23  \n",
       "2     10    5  \n",
       "3      5    7  \n",
       "4     10    2  "
      ]
     },
     "execution_count": 196,
     "metadata": {},
     "output_type": "execute_result"
    }
   ],
   "source": [
    "df = df.drop(columns = 'Transaction Date')\n",
    "df.head()"
   ]
  },
  {
   "cell_type": "markdown",
   "id": "56d1f926",
   "metadata": {},
   "source": [
    "#### Discount Applied Column"
   ]
  },
  {
   "cell_type": "markdown",
   "id": "c6741f3f",
   "metadata": {},
   "source": [
    "To turn the `Discount Applied` column's Dtype into `boolean` rather than its current Dtype of `object`, we'll use `.astype('boolean')`. "
   ]
  },
  {
   "cell_type": "code",
   "execution_count": 197,
   "id": "1a3c639e",
   "metadata": {},
   "outputs": [
    {
     "name": "stdout",
     "output_type": "stream",
     "text": [
      "<class 'pandas.core.frame.DataFrame'>\n",
      "RangeIndex: 12575 entries, 0 to 12574\n",
      "Data columns (total 13 columns):\n",
      " #   Column            Non-Null Count  Dtype  \n",
      "---  ------            --------------  -----  \n",
      " 0   Transaction ID    12575 non-null  object \n",
      " 1   Customer ID       12575 non-null  object \n",
      " 2   Category          12575 non-null  object \n",
      " 3   Item              11362 non-null  object \n",
      " 4   Price Per Unit    11966 non-null  float64\n",
      " 5   Quantity          11971 non-null  float64\n",
      " 6   Total Spent       11971 non-null  float64\n",
      " 7   Payment Method    12575 non-null  object \n",
      " 8   Location          12575 non-null  object \n",
      " 9   Discount Applied  8376 non-null   boolean\n",
      " 10  Year              12575 non-null  int32  \n",
      " 11  Month             12575 non-null  int32  \n",
      " 12  Day               12575 non-null  int32  \n",
      "dtypes: boolean(1), float64(3), int32(3), object(6)\n",
      "memory usage: 1.0+ MB\n"
     ]
    }
   ],
   "source": [
    "df['Discount Applied'] = df['Discount Applied'].astype('boolean')\n",
    "df.info()"
   ]
  },
  {
   "cell_type": "markdown",
   "id": "275e8555",
   "metadata": {},
   "source": [
    "Confirm the values using `.head()`."
   ]
  },
  {
   "cell_type": "code",
   "execution_count": 198,
   "id": "560ea94e",
   "metadata": {},
   "outputs": [
    {
     "data": {
      "text/html": [
       "<div>\n",
       "<style scoped>\n",
       "    .dataframe tbody tr th:only-of-type {\n",
       "        vertical-align: middle;\n",
       "    }\n",
       "\n",
       "    .dataframe tbody tr th {\n",
       "        vertical-align: top;\n",
       "    }\n",
       "\n",
       "    .dataframe thead th {\n",
       "        text-align: right;\n",
       "    }\n",
       "</style>\n",
       "<table border=\"1\" class=\"dataframe\">\n",
       "  <thead>\n",
       "    <tr style=\"text-align: right;\">\n",
       "      <th></th>\n",
       "      <th>Transaction ID</th>\n",
       "      <th>Customer ID</th>\n",
       "      <th>Category</th>\n",
       "      <th>Item</th>\n",
       "      <th>Price Per Unit</th>\n",
       "      <th>Quantity</th>\n",
       "      <th>Total Spent</th>\n",
       "      <th>Payment Method</th>\n",
       "      <th>Location</th>\n",
       "      <th>Discount Applied</th>\n",
       "      <th>Year</th>\n",
       "      <th>Month</th>\n",
       "      <th>Day</th>\n",
       "    </tr>\n",
       "  </thead>\n",
       "  <tbody>\n",
       "    <tr>\n",
       "      <th>0</th>\n",
       "      <td>TXN_6867343</td>\n",
       "      <td>CUST_09</td>\n",
       "      <td>Patisserie</td>\n",
       "      <td>Item_10_PAT</td>\n",
       "      <td>18.5</td>\n",
       "      <td>10.0</td>\n",
       "      <td>185.0</td>\n",
       "      <td>Digital Wallet</td>\n",
       "      <td>Online</td>\n",
       "      <td>True</td>\n",
       "      <td>2024</td>\n",
       "      <td>4</td>\n",
       "      <td>8</td>\n",
       "    </tr>\n",
       "    <tr>\n",
       "      <th>1</th>\n",
       "      <td>TXN_3731986</td>\n",
       "      <td>CUST_22</td>\n",
       "      <td>Milk Products</td>\n",
       "      <td>Item_17_MILK</td>\n",
       "      <td>29.0</td>\n",
       "      <td>9.0</td>\n",
       "      <td>261.0</td>\n",
       "      <td>Digital Wallet</td>\n",
       "      <td>Online</td>\n",
       "      <td>True</td>\n",
       "      <td>2023</td>\n",
       "      <td>7</td>\n",
       "      <td>23</td>\n",
       "    </tr>\n",
       "    <tr>\n",
       "      <th>2</th>\n",
       "      <td>TXN_9303719</td>\n",
       "      <td>CUST_02</td>\n",
       "      <td>Butchers</td>\n",
       "      <td>Item_12_BUT</td>\n",
       "      <td>21.5</td>\n",
       "      <td>2.0</td>\n",
       "      <td>43.0</td>\n",
       "      <td>Credit Card</td>\n",
       "      <td>Online</td>\n",
       "      <td>False</td>\n",
       "      <td>2022</td>\n",
       "      <td>10</td>\n",
       "      <td>5</td>\n",
       "    </tr>\n",
       "    <tr>\n",
       "      <th>3</th>\n",
       "      <td>TXN_9458126</td>\n",
       "      <td>CUST_06</td>\n",
       "      <td>Beverages</td>\n",
       "      <td>Item_16_BEV</td>\n",
       "      <td>27.5</td>\n",
       "      <td>9.0</td>\n",
       "      <td>247.5</td>\n",
       "      <td>Credit Card</td>\n",
       "      <td>Online</td>\n",
       "      <td>&lt;NA&gt;</td>\n",
       "      <td>2022</td>\n",
       "      <td>5</td>\n",
       "      <td>7</td>\n",
       "    </tr>\n",
       "    <tr>\n",
       "      <th>4</th>\n",
       "      <td>TXN_4575373</td>\n",
       "      <td>CUST_05</td>\n",
       "      <td>Food</td>\n",
       "      <td>Item_6_FOOD</td>\n",
       "      <td>12.5</td>\n",
       "      <td>7.0</td>\n",
       "      <td>87.5</td>\n",
       "      <td>Digital Wallet</td>\n",
       "      <td>Online</td>\n",
       "      <td>False</td>\n",
       "      <td>2022</td>\n",
       "      <td>10</td>\n",
       "      <td>2</td>\n",
       "    </tr>\n",
       "  </tbody>\n",
       "</table>\n",
       "</div>"
      ],
      "text/plain": [
       "  Transaction ID Customer ID       Category          Item  Price Per Unit  \\\n",
       "0    TXN_6867343     CUST_09     Patisserie   Item_10_PAT            18.5   \n",
       "1    TXN_3731986     CUST_22  Milk Products  Item_17_MILK            29.0   \n",
       "2    TXN_9303719     CUST_02       Butchers   Item_12_BUT            21.5   \n",
       "3    TXN_9458126     CUST_06      Beverages   Item_16_BEV            27.5   \n",
       "4    TXN_4575373     CUST_05           Food   Item_6_FOOD            12.5   \n",
       "\n",
       "   Quantity  Total Spent  Payment Method Location  Discount Applied  Year  \\\n",
       "0      10.0        185.0  Digital Wallet   Online              True  2024   \n",
       "1       9.0        261.0  Digital Wallet   Online              True  2023   \n",
       "2       2.0         43.0     Credit Card   Online             False  2022   \n",
       "3       9.0        247.5     Credit Card   Online              <NA>  2022   \n",
       "4       7.0         87.5  Digital Wallet   Online             False  2022   \n",
       "\n",
       "   Month  Day  \n",
       "0      4    8  \n",
       "1      7   23  \n",
       "2     10    5  \n",
       "3      5    7  \n",
       "4     10    2  "
      ]
     },
     "execution_count": 198,
     "metadata": {},
     "output_type": "execute_result"
    }
   ],
   "source": [
    "df.head()"
   ]
  },
  {
   "cell_type": "markdown",
   "id": "e8f6688f",
   "metadata": {},
   "source": [
    "### Missing Data"
   ]
  },
  {
   "cell_type": "markdown",
   "id": "6e1fde44",
   "metadata": {},
   "source": [
    "For this portion, we'll resolve each of the previously mentioned columns individually."
   ]
  },
  {
   "cell_type": "markdown",
   "id": "24203637",
   "metadata": {},
   "source": [
    "#### Item Column"
   ]
  },
  {
   "cell_type": "markdown",
   "id": "c884ad9b",
   "metadata": {},
   "source": [
    "One simple solution would be to drop all rows containing null values in the Item column. However, let's take a quick glance at the `Category` and `Item` columns."
   ]
  },
  {
   "cell_type": "code",
   "execution_count": 199,
   "id": "bb8b080a",
   "metadata": {},
   "outputs": [
    {
     "data": {
      "text/html": [
       "<div>\n",
       "<style scoped>\n",
       "    .dataframe tbody tr th:only-of-type {\n",
       "        vertical-align: middle;\n",
       "    }\n",
       "\n",
       "    .dataframe tbody tr th {\n",
       "        vertical-align: top;\n",
       "    }\n",
       "\n",
       "    .dataframe thead th {\n",
       "        text-align: right;\n",
       "    }\n",
       "</style>\n",
       "<table border=\"1\" class=\"dataframe\">\n",
       "  <thead>\n",
       "    <tr style=\"text-align: right;\">\n",
       "      <th></th>\n",
       "      <th>Category</th>\n",
       "      <th>Item</th>\n",
       "    </tr>\n",
       "  </thead>\n",
       "  <tbody>\n",
       "    <tr>\n",
       "      <th>0</th>\n",
       "      <td>Patisserie</td>\n",
       "      <td>Item_10_PAT</td>\n",
       "    </tr>\n",
       "    <tr>\n",
       "      <th>1</th>\n",
       "      <td>Milk Products</td>\n",
       "      <td>Item_17_MILK</td>\n",
       "    </tr>\n",
       "    <tr>\n",
       "      <th>2</th>\n",
       "      <td>Butchers</td>\n",
       "      <td>Item_12_BUT</td>\n",
       "    </tr>\n",
       "    <tr>\n",
       "      <th>3</th>\n",
       "      <td>Beverages</td>\n",
       "      <td>Item_16_BEV</td>\n",
       "    </tr>\n",
       "    <tr>\n",
       "      <th>4</th>\n",
       "      <td>Food</td>\n",
       "      <td>Item_6_FOOD</td>\n",
       "    </tr>\n",
       "    <tr>\n",
       "      <th>5</th>\n",
       "      <td>Patisserie</td>\n",
       "      <td>NaN</td>\n",
       "    </tr>\n",
       "    <tr>\n",
       "      <th>6</th>\n",
       "      <td>Food</td>\n",
       "      <td>Item_1_FOOD</td>\n",
       "    </tr>\n",
       "    <tr>\n",
       "      <th>7</th>\n",
       "      <td>Furniture</td>\n",
       "      <td>NaN</td>\n",
       "    </tr>\n",
       "  </tbody>\n",
       "</table>\n",
       "</div>"
      ],
      "text/plain": [
       "        Category          Item\n",
       "0     Patisserie   Item_10_PAT\n",
       "1  Milk Products  Item_17_MILK\n",
       "2       Butchers   Item_12_BUT\n",
       "3      Beverages   Item_16_BEV\n",
       "4           Food   Item_6_FOOD\n",
       "5     Patisserie           NaN\n",
       "6           Food   Item_1_FOOD\n",
       "7      Furniture           NaN"
      ]
     },
     "execution_count": 199,
     "metadata": {},
     "output_type": "execute_result"
    }
   ],
   "source": [
    "df[['Category', 'Item']].head(8)"
   ]
  },
  {
   "cell_type": "markdown",
   "id": "80dcae9e",
   "metadata": {},
   "source": [
    "Each item has the pattern `Item_##_CATEGORYID` with the category identifier being based on the value in `Category`. So while we can't figure out what item number was chosen, we can still figure out the category identifier for each item. After all, the `Category` column contains 0 null values.\n",
    "\n",
    "So rather than dropping the null values for `Item` and losing potentially precious data, we can instead fill up all the rows for `Item` using only the category identifier.\n",
    "\n",
    "We'll first create a dictionary of key-value pairs, with the content of `Category` serving as our key and the category identifier as the value."
   ]
  },
  {
   "cell_type": "code",
   "execution_count": 200,
   "id": "7138f4a5",
   "metadata": {},
   "outputs": [
    {
     "data": {
      "text/plain": [
       "{'Patisserie': 'Item_NA_PAT',\n",
       " 'Milk Products': 'Item_NA_MILK',\n",
       " 'Butchers': 'Item_NA_BUT',\n",
       " 'Beverages': 'Item_NA_BEV',\n",
       " 'Food': 'Item_NA_FOOD',\n",
       " 'Furniture': 'Item_NA_FUR',\n",
       " 'Electric household essentials': 'Item_NA_EHE',\n",
       " 'Computers and electric accessories': 'Item_NA_CEA'}"
      ]
     },
     "execution_count": 200,
     "metadata": {},
     "output_type": "execute_result"
    }
   ],
   "source": [
    "category_id = {'Patisserie':'Item_NA_PAT', 'Milk Products':'Item_NA_MILK', 'Butchers':'Item_NA_BUT', 'Beverages':'Item_NA_BEV',\n",
    "               'Food':'Item_NA_FOOD', 'Furniture':'Item_NA_FUR', 'Electric household essentials':'Item_NA_EHE',\n",
    "               'Computers and electric accessories':'Item_NA_CEA'}\n",
    "category_id"
   ]
  },
  {
   "cell_type": "code",
   "execution_count": 201,
   "id": "4effc590",
   "metadata": {},
   "outputs": [
    {
     "data": {
      "text/html": [
       "<div>\n",
       "<style scoped>\n",
       "    .dataframe tbody tr th:only-of-type {\n",
       "        vertical-align: middle;\n",
       "    }\n",
       "\n",
       "    .dataframe tbody tr th {\n",
       "        vertical-align: top;\n",
       "    }\n",
       "\n",
       "    .dataframe thead th {\n",
       "        text-align: right;\n",
       "    }\n",
       "</style>\n",
       "<table border=\"1\" class=\"dataframe\">\n",
       "  <thead>\n",
       "    <tr style=\"text-align: right;\">\n",
       "      <th></th>\n",
       "      <th>Category</th>\n",
       "      <th>Item</th>\n",
       "    </tr>\n",
       "  </thead>\n",
       "  <tbody>\n",
       "    <tr>\n",
       "      <th>0</th>\n",
       "      <td>Patisserie</td>\n",
       "      <td>Item_10_PAT</td>\n",
       "    </tr>\n",
       "    <tr>\n",
       "      <th>1</th>\n",
       "      <td>Milk Products</td>\n",
       "      <td>Item_17_MILK</td>\n",
       "    </tr>\n",
       "    <tr>\n",
       "      <th>2</th>\n",
       "      <td>Butchers</td>\n",
       "      <td>Item_12_BUT</td>\n",
       "    </tr>\n",
       "    <tr>\n",
       "      <th>3</th>\n",
       "      <td>Beverages</td>\n",
       "      <td>Item_16_BEV</td>\n",
       "    </tr>\n",
       "    <tr>\n",
       "      <th>4</th>\n",
       "      <td>Food</td>\n",
       "      <td>Item_6_FOOD</td>\n",
       "    </tr>\n",
       "    <tr>\n",
       "      <th>5</th>\n",
       "      <td>Patisserie</td>\n",
       "      <td>Item_NA_PAT</td>\n",
       "    </tr>\n",
       "    <tr>\n",
       "      <th>6</th>\n",
       "      <td>Food</td>\n",
       "      <td>Item_1_FOOD</td>\n",
       "    </tr>\n",
       "    <tr>\n",
       "      <th>7</th>\n",
       "      <td>Furniture</td>\n",
       "      <td>Item_NA_FUR</td>\n",
       "    </tr>\n",
       "  </tbody>\n",
       "</table>\n",
       "</div>"
      ],
      "text/plain": [
       "        Category          Item\n",
       "0     Patisserie   Item_10_PAT\n",
       "1  Milk Products  Item_17_MILK\n",
       "2       Butchers   Item_12_BUT\n",
       "3      Beverages   Item_16_BEV\n",
       "4           Food   Item_6_FOOD\n",
       "5     Patisserie   Item_NA_PAT\n",
       "6           Food   Item_1_FOOD\n",
       "7      Furniture   Item_NA_FUR"
      ]
     },
     "execution_count": 201,
     "metadata": {},
     "output_type": "execute_result"
    }
   ],
   "source": [
    "df['Item'] = df['Item'].fillna(df['Category'].map(category_id))\n",
    "df[['Category', 'Item']].head(8)"
   ]
  },
  {
   "cell_type": "markdown",
   "id": "1bd31f30",
   "metadata": {},
   "source": [
    "And if we run `.info()` on our dataset, `Item` should no longer contain any null values."
   ]
  },
  {
   "cell_type": "code",
   "execution_count": 202,
   "id": "2f500a71",
   "metadata": {},
   "outputs": [
    {
     "name": "stdout",
     "output_type": "stream",
     "text": [
      "<class 'pandas.core.frame.DataFrame'>\n",
      "RangeIndex: 12575 entries, 0 to 12574\n",
      "Data columns (total 13 columns):\n",
      " #   Column            Non-Null Count  Dtype  \n",
      "---  ------            --------------  -----  \n",
      " 0   Transaction ID    12575 non-null  object \n",
      " 1   Customer ID       12575 non-null  object \n",
      " 2   Category          12575 non-null  object \n",
      " 3   Item              12575 non-null  object \n",
      " 4   Price Per Unit    11966 non-null  float64\n",
      " 5   Quantity          11971 non-null  float64\n",
      " 6   Total Spent       11971 non-null  float64\n",
      " 7   Payment Method    12575 non-null  object \n",
      " 8   Location          12575 non-null  object \n",
      " 9   Discount Applied  8376 non-null   boolean\n",
      " 10  Year              12575 non-null  int32  \n",
      " 11  Month             12575 non-null  int32  \n",
      " 12  Day               12575 non-null  int32  \n",
      "dtypes: boolean(1), float64(3), int32(3), object(6)\n",
      "memory usage: 1.0+ MB\n"
     ]
    }
   ],
   "source": [
    "df.info()"
   ]
  },
  {
   "cell_type": "markdown",
   "id": "ada5980b",
   "metadata": {},
   "source": [
    "#### Price Per Unit Column"
   ]
  },
  {
   "cell_type": "markdown",
   "id": "a26103dc",
   "metadata": {},
   "source": [
    "Filling up the null values for `Price Per Unit` is doable as long as both `Quantity` and `Total Spent` contain values. All we have to do is compute what the price per unit would be based on the quantity and total spent."
   ]
  },
  {
   "cell_type": "code",
   "execution_count": 203,
   "id": "ee934e57",
   "metadata": {},
   "outputs": [
    {
     "name": "stdout",
     "output_type": "stream",
     "text": [
      "<class 'pandas.core.frame.DataFrame'>\n",
      "RangeIndex: 12575 entries, 0 to 12574\n",
      "Data columns (total 13 columns):\n",
      " #   Column            Non-Null Count  Dtype  \n",
      "---  ------            --------------  -----  \n",
      " 0   Transaction ID    12575 non-null  object \n",
      " 1   Customer ID       12575 non-null  object \n",
      " 2   Category          12575 non-null  object \n",
      " 3   Item              12575 non-null  object \n",
      " 4   Price Per Unit    12575 non-null  float64\n",
      " 5   Quantity          11971 non-null  float64\n",
      " 6   Total Spent       11971 non-null  float64\n",
      " 7   Payment Method    12575 non-null  object \n",
      " 8   Location          12575 non-null  object \n",
      " 9   Discount Applied  8376 non-null   boolean\n",
      " 10  Year              12575 non-null  int32  \n",
      " 11  Month             12575 non-null  int32  \n",
      " 12  Day               12575 non-null  int32  \n",
      "dtypes: boolean(1), float64(3), int32(3), object(6)\n",
      "memory usage: 1.0+ MB\n"
     ]
    }
   ],
   "source": [
    "df['Price Per Unit'] = df['Price Per Unit'].fillna(df['Total Spent']/df['Quantity'])\n",
    "df.info()"
   ]
  },
  {
   "cell_type": "markdown",
   "id": "b8c7e91f",
   "metadata": {},
   "source": [
    "#### Quantity and Total Spent Columns"
   ]
  },
  {
   "cell_type": "markdown",
   "id": "dc9b8e9c",
   "metadata": {},
   "source": [
    "Suspiciously enough, both `Quanity` and `Total Spent` contain the same number of null values. We'll investigate them first to see if they both share null values."
   ]
  },
  {
   "cell_type": "code",
   "execution_count": 204,
   "id": "d04d1d97",
   "metadata": {},
   "outputs": [
    {
     "data": {
      "text/plain": [
       "True"
      ]
     },
     "execution_count": 204,
     "metadata": {},
     "output_type": "execute_result"
    }
   ],
   "source": [
    "(df['Quantity'].isna() == df['Total Spent'].isna()).all()"
   ]
  },
  {
   "cell_type": "markdown",
   "id": "27a81451",
   "metadata": {},
   "source": [
    "While we were able to fill up `Price Per Unit` using `Quantity` and `Total Spent` as reference, the opposite doesn't hold true. Since we can't fill these missing values, we'll delete all rows containing null values in both columns"
   ]
  },
  {
   "cell_type": "code",
   "execution_count": 205,
   "id": "1a424c19",
   "metadata": {},
   "outputs": [
    {
     "name": "stdout",
     "output_type": "stream",
     "text": [
      "<class 'pandas.core.frame.DataFrame'>\n",
      "Index: 11971 entries, 0 to 12574\n",
      "Data columns (total 13 columns):\n",
      " #   Column            Non-Null Count  Dtype  \n",
      "---  ------            --------------  -----  \n",
      " 0   Transaction ID    11971 non-null  object \n",
      " 1   Customer ID       11971 non-null  object \n",
      " 2   Category          11971 non-null  object \n",
      " 3   Item              11971 non-null  object \n",
      " 4   Price Per Unit    11971 non-null  float64\n",
      " 5   Quantity          11971 non-null  float64\n",
      " 6   Total Spent       11971 non-null  float64\n",
      " 7   Payment Method    11971 non-null  object \n",
      " 8   Location          11971 non-null  object \n",
      " 9   Discount Applied  7983 non-null   boolean\n",
      " 10  Year              11971 non-null  int32  \n",
      " 11  Month             11971 non-null  int32  \n",
      " 12  Day               11971 non-null  int32  \n",
      "dtypes: boolean(1), float64(3), int32(3), object(6)\n",
      "memory usage: 1.1+ MB\n"
     ]
    }
   ],
   "source": [
    "df.dropna(subset = ['Quantity', 'Total Spent'], inplace = True)\n",
    "df.info()"
   ]
  },
  {
   "cell_type": "markdown",
   "id": "5eebb523",
   "metadata": {},
   "source": [
    "#### Discount Applied Column"
   ]
  },
  {
   "cell_type": "markdown",
   "id": "f6fa85ad",
   "metadata": {},
   "source": [
    "Removing the null values in `Discount Applied` would be a huge loss in data, considering how many rows would be removed."
   ]
  },
  {
   "cell_type": "code",
   "execution_count": 206,
   "id": "8bfbee9a",
   "metadata": {},
   "outputs": [
    {
     "data": {
      "text/plain": [
       "3988"
      ]
     },
     "execution_count": 206,
     "metadata": {},
     "output_type": "execute_result"
    }
   ],
   "source": [
    "# All columns have the same number of non-null values except for Discount Applied\n",
    "df['Item'].count() - df['Discount Applied'].count()"
   ]
  },
  {
   "cell_type": "markdown",
   "id": "1e8b103d",
   "metadata": {},
   "source": [
    "As you can see, we would lose `3988` rows of data. Instead of dropping the rows with null values, let's instead calculate for the mode. We use mode here over mean and median because the `Discount Applied` column contains categorical data."
   ]
  },
  {
   "cell_type": "code",
   "execution_count": 207,
   "id": "91540f4b",
   "metadata": {},
   "outputs": [
    {
     "name": "stdout",
     "output_type": "stream",
     "text": [
      "<class 'pandas.core.frame.DataFrame'>\n",
      "Index: 11971 entries, 0 to 12574\n",
      "Data columns (total 13 columns):\n",
      " #   Column            Non-Null Count  Dtype  \n",
      "---  ------            --------------  -----  \n",
      " 0   Transaction ID    11971 non-null  object \n",
      " 1   Customer ID       11971 non-null  object \n",
      " 2   Category          11971 non-null  object \n",
      " 3   Item              11971 non-null  object \n",
      " 4   Price Per Unit    11971 non-null  float64\n",
      " 5   Quantity          11971 non-null  float64\n",
      " 6   Total Spent       11971 non-null  float64\n",
      " 7   Payment Method    11971 non-null  object \n",
      " 8   Location          11971 non-null  object \n",
      " 9   Discount Applied  11971 non-null  boolean\n",
      " 10  Year              11971 non-null  int32  \n",
      " 11  Month             11971 non-null  int32  \n",
      " 12  Day               11971 non-null  int32  \n",
      "dtypes: boolean(1), float64(3), int32(3), object(6)\n",
      "memory usage: 1.1+ MB\n"
     ]
    }
   ],
   "source": [
    "df['Discount Applied'] = df['Discount Applied'].fillna(df['Discount Applied'].mode()[0])\n",
    "df.info()"
   ]
  },
  {
   "cell_type": "markdown",
   "id": "9dcc1d25",
   "metadata": {},
   "source": [
    "### Inconsistent Formatting"
   ]
  },
  {
   "cell_type": "code",
   "execution_count": 208,
   "id": "9d228cbd",
   "metadata": {},
   "outputs": [
    {
     "data": {
      "text/html": [
       "<div>\n",
       "<style scoped>\n",
       "    .dataframe tbody tr th:only-of-type {\n",
       "        vertical-align: middle;\n",
       "    }\n",
       "\n",
       "    .dataframe tbody tr th {\n",
       "        vertical-align: top;\n",
       "    }\n",
       "\n",
       "    .dataframe thead th {\n",
       "        text-align: right;\n",
       "    }\n",
       "</style>\n",
       "<table border=\"1\" class=\"dataframe\">\n",
       "  <thead>\n",
       "    <tr style=\"text-align: right;\">\n",
       "      <th></th>\n",
       "      <th>Transaction ID</th>\n",
       "      <th>Customer ID</th>\n",
       "      <th>Category</th>\n",
       "      <th>Item</th>\n",
       "      <th>Price Per Unit</th>\n",
       "      <th>Quantity</th>\n",
       "      <th>Total Spent</th>\n",
       "      <th>Payment Method</th>\n",
       "      <th>Location</th>\n",
       "      <th>Discount Applied</th>\n",
       "      <th>Year</th>\n",
       "      <th>Month</th>\n",
       "      <th>Day</th>\n",
       "    </tr>\n",
       "  </thead>\n",
       "  <tbody>\n",
       "    <tr>\n",
       "      <th>0</th>\n",
       "      <td>TXN_6867343</td>\n",
       "      <td>CUST_09</td>\n",
       "      <td>Patisserie</td>\n",
       "      <td>Item_10_PAT</td>\n",
       "      <td>18.5</td>\n",
       "      <td>10.0</td>\n",
       "      <td>185.0</td>\n",
       "      <td>Digital Wallet</td>\n",
       "      <td>Online</td>\n",
       "      <td>True</td>\n",
       "      <td>2024</td>\n",
       "      <td>4</td>\n",
       "      <td>8</td>\n",
       "    </tr>\n",
       "    <tr>\n",
       "      <th>1</th>\n",
       "      <td>TXN_3731986</td>\n",
       "      <td>CUST_22</td>\n",
       "      <td>Milk Products</td>\n",
       "      <td>Item_17_MILK</td>\n",
       "      <td>29.0</td>\n",
       "      <td>9.0</td>\n",
       "      <td>261.0</td>\n",
       "      <td>Digital Wallet</td>\n",
       "      <td>Online</td>\n",
       "      <td>True</td>\n",
       "      <td>2023</td>\n",
       "      <td>7</td>\n",
       "      <td>23</td>\n",
       "    </tr>\n",
       "    <tr>\n",
       "      <th>2</th>\n",
       "      <td>TXN_9303719</td>\n",
       "      <td>CUST_02</td>\n",
       "      <td>Butchers</td>\n",
       "      <td>Item_12_BUT</td>\n",
       "      <td>21.5</td>\n",
       "      <td>2.0</td>\n",
       "      <td>43.0</td>\n",
       "      <td>Credit Card</td>\n",
       "      <td>Online</td>\n",
       "      <td>False</td>\n",
       "      <td>2022</td>\n",
       "      <td>10</td>\n",
       "      <td>5</td>\n",
       "    </tr>\n",
       "    <tr>\n",
       "      <th>3</th>\n",
       "      <td>TXN_9458126</td>\n",
       "      <td>CUST_06</td>\n",
       "      <td>Beverages</td>\n",
       "      <td>Item_16_BEV</td>\n",
       "      <td>27.5</td>\n",
       "      <td>9.0</td>\n",
       "      <td>247.5</td>\n",
       "      <td>Credit Card</td>\n",
       "      <td>Online</td>\n",
       "      <td>True</td>\n",
       "      <td>2022</td>\n",
       "      <td>5</td>\n",
       "      <td>7</td>\n",
       "    </tr>\n",
       "    <tr>\n",
       "      <th>4</th>\n",
       "      <td>TXN_4575373</td>\n",
       "      <td>CUST_05</td>\n",
       "      <td>Food</td>\n",
       "      <td>Item_6_FOOD</td>\n",
       "      <td>12.5</td>\n",
       "      <td>7.0</td>\n",
       "      <td>87.5</td>\n",
       "      <td>Digital Wallet</td>\n",
       "      <td>Online</td>\n",
       "      <td>False</td>\n",
       "      <td>2022</td>\n",
       "      <td>10</td>\n",
       "      <td>2</td>\n",
       "    </tr>\n",
       "  </tbody>\n",
       "</table>\n",
       "</div>"
      ],
      "text/plain": [
       "  Transaction ID Customer ID       Category          Item  Price Per Unit  \\\n",
       "0    TXN_6867343     CUST_09     Patisserie   Item_10_PAT            18.5   \n",
       "1    TXN_3731986     CUST_22  Milk Products  Item_17_MILK            29.0   \n",
       "2    TXN_9303719     CUST_02       Butchers   Item_12_BUT            21.5   \n",
       "3    TXN_9458126     CUST_06      Beverages   Item_16_BEV            27.5   \n",
       "4    TXN_4575373     CUST_05           Food   Item_6_FOOD            12.5   \n",
       "\n",
       "   Quantity  Total Spent  Payment Method Location  Discount Applied  Year  \\\n",
       "0      10.0        185.0  Digital Wallet   Online              True  2024   \n",
       "1       9.0        261.0  Digital Wallet   Online              True  2023   \n",
       "2       2.0         43.0     Credit Card   Online             False  2022   \n",
       "3       9.0        247.5     Credit Card   Online              True  2022   \n",
       "4       7.0         87.5  Digital Wallet   Online             False  2022   \n",
       "\n",
       "   Month  Day  \n",
       "0      4    8  \n",
       "1      7   23  \n",
       "2     10    5  \n",
       "3      5    7  \n",
       "4     10    2  "
      ]
     },
     "execution_count": 208,
     "metadata": {},
     "output_type": "execute_result"
    }
   ],
   "source": [
    "df.head()"
   ]
  },
  {
   "cell_type": "markdown",
   "id": "7eeec131",
   "metadata": {},
   "source": [
    "Columns `Transaction ID`, `Customer ID`, and `Item` all follow a specific formatting. Let's make sure there are 0 inconsistencies and that this format is followed throughout the entire dataset by using regex."
   ]
  },
  {
   "cell_type": "code",
   "execution_count": 209,
   "id": "0705a5f3",
   "metadata": {},
   "outputs": [
    {
     "data": {
      "text/plain": [
       "True"
      ]
     },
     "execution_count": 209,
     "metadata": {},
     "output_type": "execute_result"
    }
   ],
   "source": [
    "# Starts with TXN_ and ends with 7 digits\n",
    "txn_regex = r\"^TXN_\\d{7}$\"\n",
    "invalid_txn = df[~df['Transaction ID'].str.match(txn_regex)]\n",
    "\n",
    "invalid_txn.empty"
   ]
  },
  {
   "cell_type": "code",
   "execution_count": 210,
   "id": "9b6ac02f",
   "metadata": {},
   "outputs": [
    {
     "data": {
      "text/plain": [
       "True"
      ]
     },
     "execution_count": 210,
     "metadata": {},
     "output_type": "execute_result"
    }
   ],
   "source": [
    "# Starts with CUST_ and ends with 2 digits\n",
    "cust_regex = r\"^CUST_\\d{2}$\"\n",
    "invalid_cust = df[~df['Customer ID'].str.match(cust_regex)]\n",
    "\n",
    "invalid_cust.empty"
   ]
  },
  {
   "cell_type": "code",
   "execution_count": 211,
   "id": "0be80487",
   "metadata": {},
   "outputs": [
    {
     "data": {
      "text/plain": [
       "True"
      ]
     },
     "execution_count": 211,
     "metadata": {},
     "output_type": "execute_result"
    }
   ],
   "source": [
    "# Starts with Item_, then 1 or 2 letters/digits, and ends with 3 or 4 letters\n",
    "item_regex = r\"^Item_\\w{1,2}_[A-Z]{3,4}$\"\n",
    "invalid_item = df[~df['Item'].str.match(item_regex)]\n",
    "\n",
    "invalid_item.empty"
   ]
  },
  {
   "cell_type": "markdown",
   "id": "93dae192",
   "metadata": {},
   "source": [
    "There are zero inconsistencies with the formatting, so **no issues** here."
   ]
  },
  {
   "cell_type": "markdown",
   "id": "7d0f1d0e",
   "metadata": {},
   "source": [
    "## Research Questions & Exploratory Data Analysis"
   ]
  }
 ],
 "metadata": {
  "kernelspec": {
   "display_name": "base",
   "language": "python",
   "name": "python3"
  },
  "language_info": {
   "codemirror_mode": {
    "name": "ipython",
    "version": 3
   },
   "file_extension": ".py",
   "mimetype": "text/x-python",
   "name": "python",
   "nbconvert_exporter": "python",
   "pygments_lexer": "ipython3",
   "version": "3.12.7"
  }
 },
 "nbformat": 4,
 "nbformat_minor": 5
}
